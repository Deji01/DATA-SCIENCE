{
 "cells": [
  {
   "cell_type": "markdown",
   "id": "ae58bd3d-0979-4f7e-a0ad-8b964435a72f",
   "metadata": {},
   "source": [
    "# Import Libraries"
   ]
  },
  {
   "cell_type": "code",
   "execution_count": 111,
   "id": "698735f0-9067-4d31-8c8e-c353d019c9a9",
   "metadata": {},
   "outputs": [
    {
     "name": "stderr",
     "output_type": "stream",
     "text": [
      "[nltk_data] Downloading package punkt to /home/ayodeji/nltk_data...\n",
      "[nltk_data]   Package punkt is already up-to-date!\n"
     ]
    }
   ],
   "source": [
    "# Data analysis and wrangling\n",
    "import pandas as pd\n",
    "import numpy as np\n",
    "\n",
    "# Data visualisation\n",
    "import seaborn as sns\n",
    "import matplotlib.pyplot as plt\n",
    "import missingno\n",
    "\n",
    "# Dates\n",
    "import datetime\n",
    "from matplotlib.dates import DateFormatter\n",
    "\n",
    "# Text analysis\n",
    "import nltk\n",
    "nltk.download('punkt')\n",
    "from nltk.tokenize import word_tokenize\n",
    "from nltk.probability import FreqDist as fdist\n",
    "import re\n",
    "\n",
    "# Statistical analysis\n",
    "from scipy.stats import ttest_ind\n",
    "\n",
    "# Remove warnings\n",
    "import warnings\n",
    "warnings.filterwarnings('ignore')"
   ]
  },
  {
   "cell_type": "markdown",
   "id": "0f2c5b44-6c0b-4970-84fa-75aa1380ece1",
   "metadata": {},
   "source": [
    "# Read in Data"
   ]
  },
  {
   "cell_type": "code",
   "execution_count": 112,
   "id": "c185b7b4-975e-4836-a8c8-1bff20cc80da",
   "metadata": {},
   "outputs": [],
   "source": [
    "customerData = pd.read_csv(\"QVI_purchase_behaviour.csv\")\n",
    "transactionData = pd.read_excel(\"QVI_transaction_data.xlsx\")"
   ]
  },
  {
   "cell_type": "markdown",
   "id": "6c0fcc8e-572f-4efd-a2b7-e71d39457741",
   "metadata": {},
   "source": [
    "# Transaction data"
   ]
  },
  {
   "cell_type": "code",
   "execution_count": 113,
   "id": "83d038bb-8878-4dbc-b347-8e63eaccc866",
   "metadata": {},
   "outputs": [
    {
     "data": {
      "text/html": [
       "<div>\n",
       "<style scoped>\n",
       "    .dataframe tbody tr th:only-of-type {\n",
       "        vertical-align: middle;\n",
       "    }\n",
       "\n",
       "    .dataframe tbody tr th {\n",
       "        vertical-align: top;\n",
       "    }\n",
       "\n",
       "    .dataframe thead th {\n",
       "        text-align: right;\n",
       "    }\n",
       "</style>\n",
       "<table border=\"1\" class=\"dataframe\">\n",
       "  <thead>\n",
       "    <tr style=\"text-align: right;\">\n",
       "      <th></th>\n",
       "      <th>DATE</th>\n",
       "      <th>STORE_NBR</th>\n",
       "      <th>LYLTY_CARD_NBR</th>\n",
       "      <th>TXN_ID</th>\n",
       "      <th>PROD_NBR</th>\n",
       "      <th>PROD_NAME</th>\n",
       "      <th>PROD_QTY</th>\n",
       "      <th>TOT_SALES</th>\n",
       "    </tr>\n",
       "  </thead>\n",
       "  <tbody>\n",
       "    <tr>\n",
       "      <th>0</th>\n",
       "      <td>43390</td>\n",
       "      <td>1</td>\n",
       "      <td>1000</td>\n",
       "      <td>1</td>\n",
       "      <td>5</td>\n",
       "      <td>Natural Chip        Compny SeaSalt175g</td>\n",
       "      <td>2</td>\n",
       "      <td>6.0</td>\n",
       "    </tr>\n",
       "    <tr>\n",
       "      <th>1</th>\n",
       "      <td>43599</td>\n",
       "      <td>1</td>\n",
       "      <td>1307</td>\n",
       "      <td>348</td>\n",
       "      <td>66</td>\n",
       "      <td>CCs Nacho Cheese    175g</td>\n",
       "      <td>3</td>\n",
       "      <td>6.3</td>\n",
       "    </tr>\n",
       "    <tr>\n",
       "      <th>2</th>\n",
       "      <td>43605</td>\n",
       "      <td>1</td>\n",
       "      <td>1343</td>\n",
       "      <td>383</td>\n",
       "      <td>61</td>\n",
       "      <td>Smiths Crinkle Cut  Chips Chicken 170g</td>\n",
       "      <td>2</td>\n",
       "      <td>2.9</td>\n",
       "    </tr>\n",
       "    <tr>\n",
       "      <th>3</th>\n",
       "      <td>43329</td>\n",
       "      <td>2</td>\n",
       "      <td>2373</td>\n",
       "      <td>974</td>\n",
       "      <td>69</td>\n",
       "      <td>Smiths Chip Thinly  S/Cream&amp;Onion 175g</td>\n",
       "      <td>5</td>\n",
       "      <td>15.0</td>\n",
       "    </tr>\n",
       "    <tr>\n",
       "      <th>4</th>\n",
       "      <td>43330</td>\n",
       "      <td>2</td>\n",
       "      <td>2426</td>\n",
       "      <td>1038</td>\n",
       "      <td>108</td>\n",
       "      <td>Kettle Tortilla ChpsHny&amp;Jlpno Chili 150g</td>\n",
       "      <td>3</td>\n",
       "      <td>13.8</td>\n",
       "    </tr>\n",
       "  </tbody>\n",
       "</table>\n",
       "</div>"
      ],
      "text/plain": [
       "    DATE  STORE_NBR  LYLTY_CARD_NBR  TXN_ID  PROD_NBR  \\\n",
       "0  43390          1            1000       1         5   \n",
       "1  43599          1            1307     348        66   \n",
       "2  43605          1            1343     383        61   \n",
       "3  43329          2            2373     974        69   \n",
       "4  43330          2            2426    1038       108   \n",
       "\n",
       "                                  PROD_NAME  PROD_QTY  TOT_SALES  \n",
       "0    Natural Chip        Compny SeaSalt175g         2        6.0  \n",
       "1                  CCs Nacho Cheese    175g         3        6.3  \n",
       "2    Smiths Crinkle Cut  Chips Chicken 170g         2        2.9  \n",
       "3    Smiths Chip Thinly  S/Cream&Onion 175g         5       15.0  \n",
       "4  Kettle Tortilla ChpsHny&Jlpno Chili 150g         3       13.8  "
      ]
     },
     "execution_count": 113,
     "metadata": {},
     "output_type": "execute_result"
    }
   ],
   "source": [
    "transactionData.head()"
   ]
  },
  {
   "cell_type": "code",
   "execution_count": 114,
   "id": "1ed595c3-71d9-4bc6-853d-c947a3a33c80",
   "metadata": {},
   "outputs": [
    {
     "data": {
      "text/plain": [
       "(264836, 8)"
      ]
     },
     "execution_count": 114,
     "metadata": {},
     "output_type": "execute_result"
    }
   ],
   "source": [
    "transactionData.shape"
   ]
  },
  {
   "cell_type": "code",
   "execution_count": 115,
   "id": "153b242d-444c-452b-82b1-34a24c85f43f",
   "metadata": {},
   "outputs": [
    {
     "data": {
      "text/plain": [
       "263127"
      ]
     },
     "execution_count": 115,
     "metadata": {},
     "output_type": "execute_result"
    }
   ],
   "source": [
    "transactionData['TXN_ID'].nunique()"
   ]
  },
  {
   "cell_type": "markdown",
   "id": "0097631b-a64d-468b-afb0-40812dd06173",
   "metadata": {},
   "source": [
    "TXN_ID is not unique to each row. This is because there can be sales of chips with different brands in a single transaction."
   ]
  },
  {
   "cell_type": "code",
   "execution_count": 116,
   "id": "e371870c-b34a-46a7-af95-9b97cffbbde9",
   "metadata": {},
   "outputs": [
    {
     "data": {
      "text/html": [
       "<div>\n",
       "<style scoped>\n",
       "    .dataframe tbody tr th:only-of-type {\n",
       "        vertical-align: middle;\n",
       "    }\n",
       "\n",
       "    .dataframe tbody tr th {\n",
       "        vertical-align: top;\n",
       "    }\n",
       "\n",
       "    .dataframe thead th {\n",
       "        text-align: right;\n",
       "    }\n",
       "</style>\n",
       "<table border=\"1\" class=\"dataframe\">\n",
       "  <thead>\n",
       "    <tr style=\"text-align: right;\">\n",
       "      <th></th>\n",
       "      <th>DATE</th>\n",
       "      <th>STORE_NBR</th>\n",
       "      <th>LYLTY_CARD_NBR</th>\n",
       "      <th>TXN_ID</th>\n",
       "      <th>PROD_NBR</th>\n",
       "      <th>PROD_NAME</th>\n",
       "      <th>PROD_QTY</th>\n",
       "      <th>TOT_SALES</th>\n",
       "    </tr>\n",
       "  </thead>\n",
       "  <tbody>\n",
       "    <tr>\n",
       "      <th>42</th>\n",
       "      <td>43605</td>\n",
       "      <td>55</td>\n",
       "      <td>55073</td>\n",
       "      <td>48887</td>\n",
       "      <td>113</td>\n",
       "      <td>Twisties Chicken270g</td>\n",
       "      <td>1</td>\n",
       "      <td>4.6</td>\n",
       "    </tr>\n",
       "    <tr>\n",
       "      <th>377</th>\n",
       "      <td>43475</td>\n",
       "      <td>7</td>\n",
       "      <td>7364</td>\n",
       "      <td>7739</td>\n",
       "      <td>20</td>\n",
       "      <td>Doritos Cheese      Supreme 330g</td>\n",
       "      <td>2</td>\n",
       "      <td>11.4</td>\n",
       "    </tr>\n",
       "    <tr>\n",
       "      <th>419</th>\n",
       "      <td>43391</td>\n",
       "      <td>12</td>\n",
       "      <td>12301</td>\n",
       "      <td>10982</td>\n",
       "      <td>93</td>\n",
       "      <td>Doritos Corn Chip Southern Chicken 150g</td>\n",
       "      <td>2</td>\n",
       "      <td>7.8</td>\n",
       "    </tr>\n",
       "    <tr>\n",
       "      <th>476</th>\n",
       "      <td>43351</td>\n",
       "      <td>16</td>\n",
       "      <td>16427</td>\n",
       "      <td>14546</td>\n",
       "      <td>81</td>\n",
       "      <td>Pringles Original   Crisps 134g</td>\n",
       "      <td>1</td>\n",
       "      <td>3.7</td>\n",
       "    </tr>\n",
       "    <tr>\n",
       "      <th>511</th>\n",
       "      <td>43315</td>\n",
       "      <td>19</td>\n",
       "      <td>19272</td>\n",
       "      <td>16683</td>\n",
       "      <td>31</td>\n",
       "      <td>Infzns Crn Crnchers Tangy Gcamole 110g</td>\n",
       "      <td>2</td>\n",
       "      <td>7.6</td>\n",
       "    </tr>\n",
       "  </tbody>\n",
       "</table>\n",
       "</div>"
      ],
      "text/plain": [
       "      DATE  STORE_NBR  LYLTY_CARD_NBR  TXN_ID  PROD_NBR  \\\n",
       "42   43605         55           55073   48887       113   \n",
       "377  43475          7            7364    7739        20   \n",
       "419  43391         12           12301   10982        93   \n",
       "476  43351         16           16427   14546        81   \n",
       "511  43315         19           19272   16683        31   \n",
       "\n",
       "                                   PROD_NAME  PROD_QTY  TOT_SALES  \n",
       "42                      Twisties Chicken270g         1        4.6  \n",
       "377         Doritos Cheese      Supreme 330g         2       11.4  \n",
       "419  Doritos Corn Chip Southern Chicken 150g         2        7.8  \n",
       "476          Pringles Original   Crisps 134g         1        3.7  \n",
       "511   Infzns Crn Crnchers Tangy Gcamole 110g         2        7.6  "
      ]
     },
     "execution_count": 116,
     "metadata": {},
     "output_type": "execute_result"
    }
   ],
   "source": [
    "# Look for duplicated TXN_ID\n",
    "\n",
    "transactionData[transactionData.duplicated(['TXN_ID'])].head()"
   ]
  },
  {
   "cell_type": "code",
   "execution_count": 117,
   "id": "3c0a0ca1-62bd-4eed-bd78-b1ecbdc089aa",
   "metadata": {},
   "outputs": [
    {
     "data": {
      "text/html": [
       "<div>\n",
       "<style scoped>\n",
       "    .dataframe tbody tr th:only-of-type {\n",
       "        vertical-align: middle;\n",
       "    }\n",
       "\n",
       "    .dataframe tbody tr th {\n",
       "        vertical-align: top;\n",
       "    }\n",
       "\n",
       "    .dataframe thead th {\n",
       "        text-align: right;\n",
       "    }\n",
       "</style>\n",
       "<table border=\"1\" class=\"dataframe\">\n",
       "  <thead>\n",
       "    <tr style=\"text-align: right;\">\n",
       "      <th></th>\n",
       "      <th>DATE</th>\n",
       "      <th>STORE_NBR</th>\n",
       "      <th>LYLTY_CARD_NBR</th>\n",
       "      <th>TXN_ID</th>\n",
       "      <th>PROD_NBR</th>\n",
       "      <th>PROD_NAME</th>\n",
       "      <th>PROD_QTY</th>\n",
       "      <th>TOT_SALES</th>\n",
       "    </tr>\n",
       "  </thead>\n",
       "  <tbody>\n",
       "    <tr>\n",
       "      <th>41</th>\n",
       "      <td>43605</td>\n",
       "      <td>55</td>\n",
       "      <td>55073</td>\n",
       "      <td>48887</td>\n",
       "      <td>4</td>\n",
       "      <td>Dorito Corn Chp     Supreme 380g</td>\n",
       "      <td>1</td>\n",
       "      <td>3.25</td>\n",
       "    </tr>\n",
       "    <tr>\n",
       "      <th>42</th>\n",
       "      <td>43605</td>\n",
       "      <td>55</td>\n",
       "      <td>55073</td>\n",
       "      <td>48887</td>\n",
       "      <td>113</td>\n",
       "      <td>Twisties Chicken270g</td>\n",
       "      <td>1</td>\n",
       "      <td>4.60</td>\n",
       "    </tr>\n",
       "  </tbody>\n",
       "</table>\n",
       "</div>"
      ],
      "text/plain": [
       "     DATE  STORE_NBR  LYLTY_CARD_NBR  TXN_ID  PROD_NBR  \\\n",
       "41  43605         55           55073   48887         4   \n",
       "42  43605         55           55073   48887       113   \n",
       "\n",
       "                           PROD_NAME  PROD_QTY  TOT_SALES  \n",
       "41  Dorito Corn Chp     Supreme 380g         1       3.25  \n",
       "42              Twisties Chicken270g         1       4.60  "
      ]
     },
     "execution_count": 117,
     "metadata": {},
     "output_type": "execute_result"
    }
   ],
   "source": [
    "# Select the first duplicated TXN_ID\n",
    "\n",
    "transactionData.loc[transactionData['TXN_ID'] == 48887, :]"
   ]
  },
  {
   "cell_type": "code",
   "execution_count": 118,
   "id": "44216e25-ae55-408e-983a-ed4b2b3343e2",
   "metadata": {},
   "outputs": [
    {
     "name": "stdout",
     "output_type": "stream",
     "text": [
      "<class 'pandas.core.frame.DataFrame'>\n",
      "RangeIndex: 264836 entries, 0 to 264835\n",
      "Data columns (total 8 columns):\n",
      " #   Column          Non-Null Count   Dtype  \n",
      "---  ------          --------------   -----  \n",
      " 0   DATE            264836 non-null  int64  \n",
      " 1   STORE_NBR       264836 non-null  int64  \n",
      " 2   LYLTY_CARD_NBR  264836 non-null  int64  \n",
      " 3   TXN_ID          264836 non-null  int64  \n",
      " 4   PROD_NBR        264836 non-null  int64  \n",
      " 5   PROD_NAME       264836 non-null  object \n",
      " 6   PROD_QTY        264836 non-null  int64  \n",
      " 7   TOT_SALES       264836 non-null  float64\n",
      "dtypes: float64(1), int64(6), object(1)\n",
      "memory usage: 16.2+ MB\n"
     ]
    }
   ],
   "source": [
    "transactionData.info()"
   ]
  },
  {
   "cell_type": "code",
   "execution_count": 119,
   "id": "d48e84a2-023b-4fb7-8404-c6b291e42098",
   "metadata": {},
   "outputs": [
    {
     "data": {
      "text/plain": [
       "<AxesSubplot:>"
      ]
     },
     "execution_count": 119,
     "metadata": {},
     "output_type": "execute_result"
    },
    {
     "data": {
      "image/png": "[encoded data removed]",
      "text/plain": [
       "<Figure size 1800x720 with 2 Axes>"
      ]
     },
     "metadata": {
      "needs_background": "light"
     },
     "output_type": "display_data"
    }
   ],
   "source": [
    "# Missing values in transactionData\n",
    "\n",
    "missingno.matrix(transactionData)"
   ]
  },
  {
   "cell_type": "code",
   "execution_count": 120,
   "id": "228f6027-a7c7-4779-b1ac-c6973cd784c0",
   "metadata": {},
   "outputs": [
    {
     "data": {
      "text/plain": [
       "['DATE',\n",
       " 'STORE_NBR',\n",
       " 'LYLTY_CARD_NBR',\n",
       " 'TXN_ID',\n",
       " 'PROD_NBR',\n",
       " 'PROD_NAME',\n",
       " 'PROD_QTY',\n",
       " 'TOT_SALES']"
      ]
     },
     "execution_count": 120,
     "metadata": {},
     "output_type": "execute_result"
    }
   ],
   "source": [
    "# Now let's explore the features in both dataset starting with 'transactionData'\n",
    "\n",
    "list(transactionData.columns)"
   ]
  },
  {
   "cell_type": "code",
   "execution_count": 121,
   "id": "d1e5a3ef-5dae-49f2-ad16-48c36a4d4422",
   "metadata": {},
   "outputs": [
    {
     "data": {
      "text/plain": [
       "0    43390\n",
       "1    43599\n",
       "2    43605\n",
       "3    43329\n",
       "4    43330\n",
       "Name: DATE, dtype: int64"
      ]
     },
     "execution_count": 121,
     "metadata": {},
     "output_type": "execute_result"
    }
   ],
   "source": [
    "transactionData['DATE'].head()"
   ]
  },
  {
   "cell_type": "code",
   "execution_count": 122,
   "id": "0baaab5f-3b79-4e42-9f03-e72af4e5716a",
   "metadata": {},
   "outputs": [],
   "source": [
    "# Date is not in the right format\n",
    "\n",
    "# Function that converts Excel integer into yyyy-mm-dd format\n",
    "def xlseriesdate_to_datetime(xlserialdate):\n",
    "    excel_anchor = datetime.datetime(1900, 1, 1)\n",
    "    if(xlserialdate < 60):\n",
    "        delta_in_days = datetime.timedelta(days = (xlserialdate - 1))\n",
    "    else:\n",
    "        delta_in_days = datetime.timedelta(days = (xlserialdate - 2))\n",
    "    converted_date = excel_anchor + delta_in_days\n",
    "    return converted_date"
   ]
  },
  {
   "cell_type": "code",
   "execution_count": 123,
   "id": "3ff4e8e6-2f2a-4f4c-aa5a-8f6a67c86279",
   "metadata": {},
   "outputs": [],
   "source": [
    "# Apply function to Date feature in transactionData dataset\n",
    "\n",
    "transactionData['DATE'] = transactionData['DATE'].apply(xlseriesdate_to_datetime)"
   ]
  },
  {
   "cell_type": "code",
   "execution_count": 124,
   "id": "3ffda667-2a9d-4b80-9c83-90a0d2cbf237",
   "metadata": {},
   "outputs": [
    {
     "data": {
      "text/plain": [
       "0   2018-10-17\n",
       "1   2019-05-14\n",
       "2   2019-05-20\n",
       "3   2018-08-17\n",
       "4   2018-08-18\n",
       "Name: DATE, dtype: datetime64[ns]"
      ]
     },
     "execution_count": 124,
     "metadata": {},
     "output_type": "execute_result"
    }
   ],
   "source": [
    "# Check the first 5 rows of the new date feature\n",
    "\n",
    "transactionData['DATE'].head()"
   ]
  },
  {
   "cell_type": "code",
   "execution_count": 125,
   "id": "c2dc3fbf-b252-49d0-99c8-a83a60a91b94",
   "metadata": {},
   "outputs": [
    {
     "data": {
      "text/html": [
       "<div>\n",
       "<style scoped>\n",
       "    .dataframe tbody tr th:only-of-type {\n",
       "        vertical-align: middle;\n",
       "    }\n",
       "\n",
       "    .dataframe tbody tr th {\n",
       "        vertical-align: top;\n",
       "    }\n",
       "\n",
       "    .dataframe thead th {\n",
       "        text-align: right;\n",
       "    }\n",
       "</style>\n",
       "<table border=\"1\" class=\"dataframe\">\n",
       "  <thead>\n",
       "    <tr style=\"text-align: right;\">\n",
       "      <th></th>\n",
       "      <th>DATE</th>\n",
       "      <th>STORE_NBR</th>\n",
       "      <th>LYLTY_CARD_NBR</th>\n",
       "      <th>TXN_ID</th>\n",
       "      <th>PROD_NBR</th>\n",
       "      <th>PROD_NAME</th>\n",
       "      <th>PROD_QTY</th>\n",
       "      <th>TOT_SALES</th>\n",
       "    </tr>\n",
       "  </thead>\n",
       "  <tbody>\n",
       "    <tr>\n",
       "      <th>0</th>\n",
       "      <td>2018-10-17</td>\n",
       "      <td>1</td>\n",
       "      <td>1000</td>\n",
       "      <td>1</td>\n",
       "      <td>5</td>\n",
       "      <td>Natural Chip        Compny SeaSalt175g</td>\n",
       "      <td>2</td>\n",
       "      <td>6.0</td>\n",
       "    </tr>\n",
       "    <tr>\n",
       "      <th>1</th>\n",
       "      <td>2019-05-14</td>\n",
       "      <td>1</td>\n",
       "      <td>1307</td>\n",
       "      <td>348</td>\n",
       "      <td>66</td>\n",
       "      <td>CCs Nacho Cheese    175g</td>\n",
       "      <td>3</td>\n",
       "      <td>6.3</td>\n",
       "    </tr>\n",
       "    <tr>\n",
       "      <th>2</th>\n",
       "      <td>2019-05-20</td>\n",
       "      <td>1</td>\n",
       "      <td>1343</td>\n",
       "      <td>383</td>\n",
       "      <td>61</td>\n",
       "      <td>Smiths Crinkle Cut  Chips Chicken 170g</td>\n",
       "      <td>2</td>\n",
       "      <td>2.9</td>\n",
       "    </tr>\n",
       "    <tr>\n",
       "      <th>3</th>\n",
       "      <td>2018-08-17</td>\n",
       "      <td>2</td>\n",
       "      <td>2373</td>\n",
       "      <td>974</td>\n",
       "      <td>69</td>\n",
       "      <td>Smiths Chip Thinly  S/Cream&amp;Onion 175g</td>\n",
       "      <td>5</td>\n",
       "      <td>15.0</td>\n",
       "    </tr>\n",
       "    <tr>\n",
       "      <th>4</th>\n",
       "      <td>2018-08-18</td>\n",
       "      <td>2</td>\n",
       "      <td>2426</td>\n",
       "      <td>1038</td>\n",
       "      <td>108</td>\n",
       "      <td>Kettle Tortilla ChpsHny&amp;Jlpno Chili 150g</td>\n",
       "      <td>3</td>\n",
       "      <td>13.8</td>\n",
       "    </tr>\n",
       "  </tbody>\n",
       "</table>\n",
       "</div>"
      ],
      "text/plain": [
       "        DATE  STORE_NBR  LYLTY_CARD_NBR  TXN_ID  PROD_NBR  \\\n",
       "0 2018-10-17          1            1000       1         5   \n",
       "1 2019-05-14          1            1307     348        66   \n",
       "2 2019-05-20          1            1343     383        61   \n",
       "3 2018-08-17          2            2373     974        69   \n",
       "4 2018-08-18          2            2426    1038       108   \n",
       "\n",
       "                                  PROD_NAME  PROD_QTY  TOT_SALES  \n",
       "0    Natural Chip        Compny SeaSalt175g         2        6.0  \n",
       "1                  CCs Nacho Cheese    175g         3        6.3  \n",
       "2    Smiths Crinkle Cut  Chips Chicken 170g         2        2.9  \n",
       "3    Smiths Chip Thinly  S/Cream&Onion 175g         5       15.0  \n",
       "4  Kettle Tortilla ChpsHny&Jlpno Chili 150g         3       13.8  "
      ]
     },
     "execution_count": 125,
     "metadata": {},
     "output_type": "execute_result"
    }
   ],
   "source": [
    "# Date is now in the right format\n",
    "\n",
    "transactionData.head()"
   ]
  },
  {
   "cell_type": "code",
   "execution_count": 126,
   "id": "a8bcfb51-6a41-4ca4-b436-723c3a5c7f1e",
   "metadata": {},
   "outputs": [
    {
     "data": {
      "text/plain": [
       "0      Natural Chip        Compny SeaSalt175g\n",
       "1                    CCs Nacho Cheese    175g\n",
       "2      Smiths Crinkle Cut  Chips Chicken 170g\n",
       "3      Smiths Chip Thinly  S/Cream&Onion 175g\n",
       "4    Kettle Tortilla ChpsHny&Jlpno Chili 150g\n",
       "Name: PROD_NAME, dtype: object"
      ]
     },
     "execution_count": 126,
     "metadata": {},
     "output_type": "execute_result"
    }
   ],
   "source": [
    "# First 5 rows of PROD_NAME\n",
    "\n",
    "transactionData['PROD_NAME'].head()"
   ]
  },
  {
   "cell_type": "code",
   "execution_count": 127,
   "id": "4c45ff6b-6923-46e5-8e15-265e37da7216",
   "metadata": {},
   "outputs": [
    {
     "data": {
      "text/html": [
       "<div>\n",
       "<style scoped>\n",
       "    .dataframe tbody tr th:only-of-type {\n",
       "        vertical-align: middle;\n",
       "    }\n",
       "\n",
       "    .dataframe tbody tr th {\n",
       "        vertical-align: top;\n",
       "    }\n",
       "\n",
       "    .dataframe thead th {\n",
       "        text-align: right;\n",
       "    }\n",
       "</style>\n",
       "<table border=\"1\" class=\"dataframe\">\n",
       "  <thead>\n",
       "    <tr style=\"text-align: right;\">\n",
       "      <th></th>\n",
       "      <th>DATE</th>\n",
       "      <th>STORE_NBR</th>\n",
       "      <th>LYLTY_CARD_NBR</th>\n",
       "      <th>TXN_ID</th>\n",
       "      <th>PROD_NBR</th>\n",
       "      <th>PROD_NAME</th>\n",
       "      <th>PROD_QTY</th>\n",
       "      <th>TOT_SALES</th>\n",
       "      <th>PACK_SIZE</th>\n",
       "    </tr>\n",
       "  </thead>\n",
       "  <tbody>\n",
       "    <tr>\n",
       "      <th>0</th>\n",
       "      <td>2018-10-17</td>\n",
       "      <td>1</td>\n",
       "      <td>1000</td>\n",
       "      <td>1</td>\n",
       "      <td>5</td>\n",
       "      <td>Natural Chip        Compny SeaSalt175g</td>\n",
       "      <td>2</td>\n",
       "      <td>6.0</td>\n",
       "      <td>175</td>\n",
       "    </tr>\n",
       "    <tr>\n",
       "      <th>1</th>\n",
       "      <td>2019-05-14</td>\n",
       "      <td>1</td>\n",
       "      <td>1307</td>\n",
       "      <td>348</td>\n",
       "      <td>66</td>\n",
       "      <td>CCs Nacho Cheese    175g</td>\n",
       "      <td>3</td>\n",
       "      <td>6.3</td>\n",
       "      <td>175</td>\n",
       "    </tr>\n",
       "    <tr>\n",
       "      <th>2</th>\n",
       "      <td>2019-05-20</td>\n",
       "      <td>1</td>\n",
       "      <td>1343</td>\n",
       "      <td>383</td>\n",
       "      <td>61</td>\n",
       "      <td>Smiths Crinkle Cut  Chips Chicken 170g</td>\n",
       "      <td>2</td>\n",
       "      <td>2.9</td>\n",
       "      <td>170</td>\n",
       "    </tr>\n",
       "    <tr>\n",
       "      <th>3</th>\n",
       "      <td>2018-08-17</td>\n",
       "      <td>2</td>\n",
       "      <td>2373</td>\n",
       "      <td>974</td>\n",
       "      <td>69</td>\n",
       "      <td>Smiths Chip Thinly  S/Cream&amp;Onion 175g</td>\n",
       "      <td>5</td>\n",
       "      <td>15.0</td>\n",
       "      <td>175</td>\n",
       "    </tr>\n",
       "    <tr>\n",
       "      <th>4</th>\n",
       "      <td>2018-08-18</td>\n",
       "      <td>2</td>\n",
       "      <td>2426</td>\n",
       "      <td>1038</td>\n",
       "      <td>108</td>\n",
       "      <td>Kettle Tortilla ChpsHny&amp;Jlpno Chili 150g</td>\n",
       "      <td>3</td>\n",
       "      <td>13.8</td>\n",
       "      <td>150</td>\n",
       "    </tr>\n",
       "  </tbody>\n",
       "</table>\n",
       "</div>"
      ],
      "text/plain": [
       "        DATE  STORE_NBR  LYLTY_CARD_NBR  TXN_ID  PROD_NBR  \\\n",
       "0 2018-10-17          1            1000       1         5   \n",
       "1 2019-05-14          1            1307     348        66   \n",
       "2 2019-05-20          1            1343     383        61   \n",
       "3 2018-08-17          2            2373     974        69   \n",
       "4 2018-08-18          2            2426    1038       108   \n",
       "\n",
       "                                  PROD_NAME  PROD_QTY  TOT_SALES  PACK_SIZE  \n",
       "0    Natural Chip        Compny SeaSalt175g         2        6.0        175  \n",
       "1                  CCs Nacho Cheese    175g         3        6.3        175  \n",
       "2    Smiths Crinkle Cut  Chips Chicken 170g         2        2.9        170  \n",
       "3    Smiths Chip Thinly  S/Cream&Onion 175g         5       15.0        175  \n",
       "4  Kettle Tortilla ChpsHny&Jlpno Chili 150g         3       13.8        150  "
      ]
     },
     "execution_count": 127,
     "metadata": {},
     "output_type": "execute_result"
    }
   ],
   "source": [
    "# Extract weights out of 'PROD_NAME'\n",
    "\n",
    "transactionData['PACK_SIZE'] = transactionData['PROD_NAME'].str.extract(\"(\\d+)\")\n",
    "transactionData['PACK_SIZE'] = pd.to_numeric(transactionData['PACK_SIZE'])\n",
    "transactionData.head()"
   ]
  },
  {
   "cell_type": "code",
   "execution_count": 128,
   "id": "bc2e8972-c5de-44ce-81fd-73c903e1f74d",
   "metadata": {},
   "outputs": [],
   "source": [
    "# Create text cleaning function for PROD_NAME feature\n",
    "def clean_text(text):\n",
    "    text = re.sub('[&/]', ' ', text) # remove special characters '&' and '/'\n",
    "    text = re.sub('\\d\\w*', ' ', text) # remove product weights\n",
    "    return text\n",
    "\n",
    "# Apply text cleaning function to PROD_NAME column\n",
    "transactionData['PROD_NAME'] = transactionData['PROD_NAME'].apply(clean_text)"
   ]
  },
  {
   "cell_type": "code",
   "execution_count": 129,
   "id": "80103da4-e569-4d72-8e6e-3cb3acd2a953",
   "metadata": {},
   "outputs": [],
   "source": [
    "# Create one giant string and apply 'word_tokenize' to separate the words\n",
    "\n",
    "cleanProdName = transactionData['PROD_NAME']\n",
    "string = ''.join(cleanProdName)\n",
    "prodWord = word_tokenize(string)"
   ]
  },
  {
   "cell_type": "code",
   "execution_count": 130,
   "id": "89ba6614-6490-484b-ac0f-aa64bbe7ce8d",
   "metadata": {},
   "outputs": [],
   "source": [
    "# Apply 'fdist' function which computes the frequency of each token and put it into a dataframe\n",
    "\n",
    "wordFrequency = fdist(prodWord)\n",
    "freq_df = pd.DataFrame(list(wordFrequency.items()), columns = [\"Word\", \"Frequency\"]).sort_values(by = 'Frequency', ascending = False)"
   ]
  },
  {
   "cell_type": "code",
   "execution_count": 131,
   "id": "0c966092-bdc0-4738-8a01-861d54c5b32c",
   "metadata": {},
   "outputs": [
    {
     "data": {
      "text/html": [
       "<div>\n",
       "<style scoped>\n",
       "    .dataframe tbody tr th:only-of-type {\n",
       "        vertical-align: middle;\n",
       "    }\n",
       "\n",
       "    .dataframe tbody tr th {\n",
       "        vertical-align: top;\n",
       "    }\n",
       "\n",
       "    .dataframe thead th {\n",
       "        text-align: right;\n",
       "    }\n",
       "</style>\n",
       "<table border=\"1\" class=\"dataframe\">\n",
       "  <thead>\n",
       "    <tr style=\"text-align: right;\">\n",
       "      <th></th>\n",
       "      <th>Word</th>\n",
       "      <th>Frequency</th>\n",
       "    </tr>\n",
       "  </thead>\n",
       "  <tbody>\n",
       "    <tr>\n",
       "      <th>10</th>\n",
       "      <td>Chips</td>\n",
       "      <td>49770</td>\n",
       "    </tr>\n",
       "    <tr>\n",
       "      <th>16</th>\n",
       "      <td>Kettle</td>\n",
       "      <td>40739</td>\n",
       "    </tr>\n",
       "    <tr>\n",
       "      <th>7</th>\n",
       "      <td>Smiths</td>\n",
       "      <td>28572</td>\n",
       "    </tr>\n",
       "    <tr>\n",
       "      <th>6</th>\n",
       "      <td>Cheese</td>\n",
       "      <td>27890</td>\n",
       "    </tr>\n",
       "    <tr>\n",
       "      <th>66</th>\n",
       "      <td>Pringles</td>\n",
       "      <td>24743</td>\n",
       "    </tr>\n",
       "  </tbody>\n",
       "</table>\n",
       "</div>"
      ],
      "text/plain": [
       "        Word  Frequency\n",
       "10     Chips      49770\n",
       "16    Kettle      40739\n",
       "7     Smiths      28572\n",
       "6     Cheese      27890\n",
       "66  Pringles      24743"
      ]
     },
     "execution_count": 131,
     "metadata": {},
     "output_type": "execute_result"
    }
   ],
   "source": [
    "# Let's see the top 5 most frequent words\n",
    "\n",
    "freq_df.head()"
   ]
  },
  {
   "cell_type": "code",
   "execution_count": 132,
   "id": "14d8742e-f8ad-4b2f-856e-81b1fd2cff2d",
   "metadata": {},
   "outputs": [],
   "source": [
    "# Drop rows with salsa word in PROD_NAME\n",
    "\n",
    "transactionData['PROD_NAME'] = transactionData['PROD_NAME'].apply(lambda x: x.lower())\n",
    "transactionData = transactionData[~transactionData['PROD_NAME'].str.contains(\"salsa\")]\n",
    "transactionData['PROD_NAME'] = transactionData['PROD_NAME'].apply(lambda x: x.title())\n"
   ]
  },
  {
   "cell_type": "code",
   "execution_count": 133,
   "id": "8d9c1baf-133f-48db-b3ea-72662036e8b0",
   "metadata": {},
   "outputs": [
    {
     "data": {
      "text/html": [
       "<div>\n",
       "<style scoped>\n",
       "    .dataframe tbody tr th:only-of-type {\n",
       "        vertical-align: middle;\n",
       "    }\n",
       "\n",
       "    .dataframe tbody tr th {\n",
       "        vertical-align: top;\n",
       "    }\n",
       "\n",
       "    .dataframe thead th {\n",
       "        text-align: right;\n",
       "    }\n",
       "</style>\n",
       "<table border=\"1\" class=\"dataframe\">\n",
       "  <thead>\n",
       "    <tr style=\"text-align: right;\">\n",
       "      <th></th>\n",
       "      <th>DATE</th>\n",
       "      <th>STORE_NBR</th>\n",
       "      <th>LYLTY_CARD_NBR</th>\n",
       "      <th>TXN_ID</th>\n",
       "      <th>PROD_NBR</th>\n",
       "      <th>PROD_NAME</th>\n",
       "      <th>PROD_QTY</th>\n",
       "      <th>TOT_SALES</th>\n",
       "      <th>PACK_SIZE</th>\n",
       "    </tr>\n",
       "  </thead>\n",
       "  <tbody>\n",
       "    <tr>\n",
       "      <th>0</th>\n",
       "      <td>2018-10-17</td>\n",
       "      <td>1</td>\n",
       "      <td>1000</td>\n",
       "      <td>1</td>\n",
       "      <td>5</td>\n",
       "      <td>Natural Chip        Compny Seasalt</td>\n",
       "      <td>2</td>\n",
       "      <td>6.0</td>\n",
       "      <td>175</td>\n",
       "    </tr>\n",
       "    <tr>\n",
       "      <th>1</th>\n",
       "      <td>2019-05-14</td>\n",
       "      <td>1</td>\n",
       "      <td>1307</td>\n",
       "      <td>348</td>\n",
       "      <td>66</td>\n",
       "      <td>Ccs Nacho Cheese</td>\n",
       "      <td>3</td>\n",
       "      <td>6.3</td>\n",
       "      <td>175</td>\n",
       "    </tr>\n",
       "    <tr>\n",
       "      <th>2</th>\n",
       "      <td>2019-05-20</td>\n",
       "      <td>1</td>\n",
       "      <td>1343</td>\n",
       "      <td>383</td>\n",
       "      <td>61</td>\n",
       "      <td>Smiths Crinkle Cut  Chips Chicken</td>\n",
       "      <td>2</td>\n",
       "      <td>2.9</td>\n",
       "      <td>170</td>\n",
       "    </tr>\n",
       "    <tr>\n",
       "      <th>3</th>\n",
       "      <td>2018-08-17</td>\n",
       "      <td>2</td>\n",
       "      <td>2373</td>\n",
       "      <td>974</td>\n",
       "      <td>69</td>\n",
       "      <td>Smiths Chip Thinly  S Cream Onion</td>\n",
       "      <td>5</td>\n",
       "      <td>15.0</td>\n",
       "      <td>175</td>\n",
       "    </tr>\n",
       "    <tr>\n",
       "      <th>4</th>\n",
       "      <td>2018-08-18</td>\n",
       "      <td>2</td>\n",
       "      <td>2426</td>\n",
       "      <td>1038</td>\n",
       "      <td>108</td>\n",
       "      <td>Kettle Tortilla Chpshny Jlpno Chili</td>\n",
       "      <td>3</td>\n",
       "      <td>13.8</td>\n",
       "      <td>150</td>\n",
       "    </tr>\n",
       "  </tbody>\n",
       "</table>\n",
       "</div>"
      ],
      "text/plain": [
       "        DATE  STORE_NBR  LYLTY_CARD_NBR  TXN_ID  PROD_NBR  \\\n",
       "0 2018-10-17          1            1000       1         5   \n",
       "1 2019-05-14          1            1307     348        66   \n",
       "2 2019-05-20          1            1343     383        61   \n",
       "3 2018-08-17          2            2373     974        69   \n",
       "4 2018-08-18          2            2426    1038       108   \n",
       "\n",
       "                               PROD_NAME  PROD_QTY  TOT_SALES  PACK_SIZE  \n",
       "0    Natural Chip        Compny Seasalt          2        6.0        175  \n",
       "1                  Ccs Nacho Cheese              3        6.3        175  \n",
       "2    Smiths Crinkle Cut  Chips Chicken           2        2.9        170  \n",
       "3    Smiths Chip Thinly  S Cream Onion           5       15.0        175  \n",
       "4  Kettle Tortilla Chpshny Jlpno Chili           3       13.8        150  "
      ]
     },
     "execution_count": 133,
     "metadata": {},
     "output_type": "execute_result"
    }
   ],
   "source": [
    "transactionData.head()"
   ]
  },
  {
   "cell_type": "code",
   "execution_count": 134,
   "id": "edf129ef-d137-44f1-85a4-bcb920a080b2",
   "metadata": {},
   "outputs": [
    {
     "data": {
      "text/plain": [
       "2      220070\n",
       "1       25476\n",
       "5         415\n",
       "3         408\n",
       "4         371\n",
       "200         2\n",
       "Name: PROD_QTY, dtype: int64"
      ]
     },
     "execution_count": 134,
     "metadata": {},
     "output_type": "execute_result"
    }
   ],
   "source": [
    "# Value counts of PROD_QTY\n",
    "\n",
    "transactionData['PROD_QTY'].value_counts()"
   ]
  },
  {
   "cell_type": "markdown",
   "id": "179c3136-716f-4db0-81b6-f39f3a340e1e",
   "metadata": {},
   "source": [
    "We have two occurences of 200 in the dataset. This seems odd so let's explore further."
   ]
  },
  {
   "cell_type": "code",
   "execution_count": 135,
   "id": "a31b2c74-c6ee-419d-9327-edbe7dc24486",
   "metadata": {},
   "outputs": [
    {
     "data": {
      "text/html": [
       "<div>\n",
       "<style scoped>\n",
       "    .dataframe tbody tr th:only-of-type {\n",
       "        vertical-align: middle;\n",
       "    }\n",
       "\n",
       "    .dataframe tbody tr th {\n",
       "        vertical-align: top;\n",
       "    }\n",
       "\n",
       "    .dataframe thead th {\n",
       "        text-align: right;\n",
       "    }\n",
       "</style>\n",
       "<table border=\"1\" class=\"dataframe\">\n",
       "  <thead>\n",
       "    <tr style=\"text-align: right;\">\n",
       "      <th></th>\n",
       "      <th>DATE</th>\n",
       "      <th>STORE_NBR</th>\n",
       "      <th>LYLTY_CARD_NBR</th>\n",
       "      <th>TXN_ID</th>\n",
       "      <th>PROD_NBR</th>\n",
       "      <th>PROD_NAME</th>\n",
       "      <th>PROD_QTY</th>\n",
       "      <th>TOT_SALES</th>\n",
       "      <th>PACK_SIZE</th>\n",
       "    </tr>\n",
       "  </thead>\n",
       "  <tbody>\n",
       "    <tr>\n",
       "      <th>69762</th>\n",
       "      <td>2018-08-19</td>\n",
       "      <td>226</td>\n",
       "      <td>226000</td>\n",
       "      <td>226201</td>\n",
       "      <td>4</td>\n",
       "      <td>Dorito Corn Chp     Supreme</td>\n",
       "      <td>200</td>\n",
       "      <td>650.0</td>\n",
       "      <td>380</td>\n",
       "    </tr>\n",
       "    <tr>\n",
       "      <th>69763</th>\n",
       "      <td>2019-05-20</td>\n",
       "      <td>226</td>\n",
       "      <td>226000</td>\n",
       "      <td>226210</td>\n",
       "      <td>4</td>\n",
       "      <td>Dorito Corn Chp     Supreme</td>\n",
       "      <td>200</td>\n",
       "      <td>650.0</td>\n",
       "      <td>380</td>\n",
       "    </tr>\n",
       "  </tbody>\n",
       "</table>\n",
       "</div>"
      ],
      "text/plain": [
       "            DATE  STORE_NBR  LYLTY_CARD_NBR  TXN_ID  PROD_NBR  \\\n",
       "69762 2018-08-19        226          226000  226201         4   \n",
       "69763 2019-05-20        226          226000  226210         4   \n",
       "\n",
       "                           PROD_NAME  PROD_QTY  TOT_SALES  PACK_SIZE  \n",
       "69762  Dorito Corn Chp     Supreme         200      650.0        380  \n",
       "69763  Dorito Corn Chp     Supreme         200      650.0        380  "
      ]
     },
     "execution_count": 135,
     "metadata": {},
     "output_type": "execute_result"
    }
   ],
   "source": [
    "transactionData.loc[transactionData['PROD_QTY'] == 200, :]"
   ]
  },
  {
   "cell_type": "markdown",
   "id": "efcaa78f-5ed2-4e6b-b848-77ed0e09b571",
   "metadata": {},
   "source": [
    "Both these transactions have been made by the same person at the same store. Let's see all the transactions this person has made by tracking his loyalty card number."
   ]
  },
  {
   "cell_type": "code",
   "execution_count": 136,
   "id": "f43080ca-f3c7-4308-ab77-3d9bc6b1dfbb",
   "metadata": {},
   "outputs": [
    {
     "data": {
      "text/html": [
       "<div>\n",
       "<style scoped>\n",
       "    .dataframe tbody tr th:only-of-type {\n",
       "        vertical-align: middle;\n",
       "    }\n",
       "\n",
       "    .dataframe tbody tr th {\n",
       "        vertical-align: top;\n",
       "    }\n",
       "\n",
       "    .dataframe thead th {\n",
       "        text-align: right;\n",
       "    }\n",
       "</style>\n",
       "<table border=\"1\" class=\"dataframe\">\n",
       "  <thead>\n",
       "    <tr style=\"text-align: right;\">\n",
       "      <th></th>\n",
       "      <th>DATE</th>\n",
       "      <th>STORE_NBR</th>\n",
       "      <th>LYLTY_CARD_NBR</th>\n",
       "      <th>TXN_ID</th>\n",
       "      <th>PROD_NBR</th>\n",
       "      <th>PROD_NAME</th>\n",
       "      <th>PROD_QTY</th>\n",
       "      <th>TOT_SALES</th>\n",
       "      <th>PACK_SIZE</th>\n",
       "    </tr>\n",
       "  </thead>\n",
       "  <tbody>\n",
       "    <tr>\n",
       "      <th>69762</th>\n",
       "      <td>2018-08-19</td>\n",
       "      <td>226</td>\n",
       "      <td>226000</td>\n",
       "      <td>226201</td>\n",
       "      <td>4</td>\n",
       "      <td>Dorito Corn Chp     Supreme</td>\n",
       "      <td>200</td>\n",
       "      <td>650.0</td>\n",
       "      <td>380</td>\n",
       "    </tr>\n",
       "    <tr>\n",
       "      <th>69763</th>\n",
       "      <td>2019-05-20</td>\n",
       "      <td>226</td>\n",
       "      <td>226000</td>\n",
       "      <td>226210</td>\n",
       "      <td>4</td>\n",
       "      <td>Dorito Corn Chp     Supreme</td>\n",
       "      <td>200</td>\n",
       "      <td>650.0</td>\n",
       "      <td>380</td>\n",
       "    </tr>\n",
       "  </tbody>\n",
       "</table>\n",
       "</div>"
      ],
      "text/plain": [
       "            DATE  STORE_NBR  LYLTY_CARD_NBR  TXN_ID  PROD_NBR  \\\n",
       "69762 2018-08-19        226          226000  226201         4   \n",
       "69763 2019-05-20        226          226000  226210         4   \n",
       "\n",
       "                           PROD_NAME  PROD_QTY  TOT_SALES  PACK_SIZE  \n",
       "69762  Dorito Corn Chp     Supreme         200      650.0        380  \n",
       "69763  Dorito Corn Chp     Supreme         200      650.0        380  "
      ]
     },
     "execution_count": 136,
     "metadata": {},
     "output_type": "execute_result"
    }
   ],
   "source": [
    "transactionData.loc[transactionData['LYLTY_CARD_NBR'] == 226000, :]"
   ]
  },
  {
   "cell_type": "markdown",
   "id": "91d4887d-e6db-459e-8e06-07f9ed606a14",
   "metadata": {},
   "source": [
    "This customer has only made two transactions over the entire year so unlikely to be a retail customer. He/she is most likely purchasing for commercial purposes so it is safe for us to drop these this customer from both 'transactionData' and 'customerData' dataset."
   ]
  },
  {
   "cell_type": "code",
   "execution_count": 137,
   "id": "a7bccf1c-d29a-4994-8e35-3c322a592534",
   "metadata": {},
   "outputs": [],
   "source": [
    "transactionData.drop(transactionData.index[transactionData['LYLTY_CARD_NBR'] == 226000], inplace = True)\n",
    "customerData.drop(customerData.index[customerData['LYLTY_CARD_NBR'] == 226000], inplace = True)"
   ]
  },
  {
   "cell_type": "code",
   "execution_count": 138,
   "id": "32d4d23e-8b72-4c43-bbcf-8d9bef93740f",
   "metadata": {},
   "outputs": [
    {
     "data": {
      "text/html": [
       "<div>\n",
       "<style scoped>\n",
       "    .dataframe tbody tr th:only-of-type {\n",
       "        vertical-align: middle;\n",
       "    }\n",
       "\n",
       "    .dataframe tbody tr th {\n",
       "        vertical-align: top;\n",
       "    }\n",
       "\n",
       "    .dataframe thead th {\n",
       "        text-align: right;\n",
       "    }\n",
       "</style>\n",
       "<table border=\"1\" class=\"dataframe\">\n",
       "  <thead>\n",
       "    <tr style=\"text-align: right;\">\n",
       "      <th></th>\n",
       "      <th>DATE</th>\n",
       "      <th>STORE_NBR</th>\n",
       "      <th>LYLTY_CARD_NBR</th>\n",
       "      <th>TXN_ID</th>\n",
       "      <th>PROD_NBR</th>\n",
       "      <th>PROD_NAME</th>\n",
       "      <th>PROD_QTY</th>\n",
       "      <th>TOT_SALES</th>\n",
       "      <th>PACK_SIZE</th>\n",
       "    </tr>\n",
       "  </thead>\n",
       "  <tbody>\n",
       "  </tbody>\n",
       "</table>\n",
       "</div>"
      ],
      "text/plain": [
       "Empty DataFrame\n",
       "Columns: [DATE, STORE_NBR, LYLTY_CARD_NBR, TXN_ID, PROD_NBR, PROD_NAME, PROD_QTY, TOT_SALES, PACK_SIZE]\n",
       "Index: []"
      ]
     },
     "execution_count": 138,
     "metadata": {},
     "output_type": "execute_result"
    }
   ],
   "source": [
    "# Make sure it has been dropped \n",
    "\n",
    "transactionData.loc[transactionData['LYLTY_CARD_NBR'] == 226000]"
   ]
  },
  {
   "cell_type": "code",
   "execution_count": 139,
   "id": "a8cbaf08-5a1e-4ce6-9072-b327174e4b05",
   "metadata": {},
   "outputs": [
    {
     "data": {
      "text/plain": [
       "364"
      ]
     },
     "execution_count": 139,
     "metadata": {},
     "output_type": "execute_result"
    }
   ],
   "source": [
    "# Now let's examine the number of transactions over time to see if there are any obvious data issues e.g. missing data\n",
    "\n",
    "transactionData['DATE'].nunique()"
   ]
  },
  {
   "cell_type": "code",
   "execution_count": 140,
   "id": "0a1b9219-670f-4586-9218-fd0e800077d6",
   "metadata": {},
   "outputs": [
    {
     "data": {
      "text/plain": [
       "DatetimeIndex(['2018-12-25'], dtype='datetime64[ns]', freq=None)"
      ]
     },
     "execution_count": 140,
     "metadata": {},
     "output_type": "execute_result"
    }
   ],
   "source": [
    "# Look for the missing date \n",
    "\n",
    "pd.date_range(start = '2018-07-01', end = '2019-06-30').difference(transactionData['DATE'])"
   ]
  },
  {
   "cell_type": "markdown",
   "id": "2017dc5f-d770-4af5-9237-35e90dca6b29",
   "metadata": {},
   "source": [
    "We have a missing date on Christmas Day. This makes sense because most retail stores are closed that day. "
   ]
  },
  {
   "cell_type": "code",
   "execution_count": 141,
   "id": "8bf5cd84-2ec3-4deb-96af-e9bd30d2db49",
   "metadata": {},
   "outputs": [
    {
     "data": {
      "text/html": [
       "<div>\n",
       "<style scoped>\n",
       "    .dataframe tbody tr th:only-of-type {\n",
       "        vertical-align: middle;\n",
       "    }\n",
       "\n",
       "    .dataframe tbody tr th {\n",
       "        vertical-align: top;\n",
       "    }\n",
       "\n",
       "    .dataframe thead th {\n",
       "        text-align: right;\n",
       "    }\n",
       "</style>\n",
       "<table border=\"1\" class=\"dataframe\">\n",
       "  <thead>\n",
       "    <tr style=\"text-align: right;\">\n",
       "      <th></th>\n",
       "      <th>TOT_SALES</th>\n",
       "    </tr>\n",
       "    <tr>\n",
       "      <th>DATE</th>\n",
       "      <th></th>\n",
       "    </tr>\n",
       "  </thead>\n",
       "  <tbody>\n",
       "    <tr>\n",
       "      <th>2018-07-01</th>\n",
       "      <td>4920.1</td>\n",
       "    </tr>\n",
       "    <tr>\n",
       "      <th>2018-07-02</th>\n",
       "      <td>4877.0</td>\n",
       "    </tr>\n",
       "    <tr>\n",
       "      <th>2018-07-03</th>\n",
       "      <td>4954.7</td>\n",
       "    </tr>\n",
       "    <tr>\n",
       "      <th>2018-07-04</th>\n",
       "      <td>4968.1</td>\n",
       "    </tr>\n",
       "    <tr>\n",
       "      <th>2018-07-05</th>\n",
       "      <td>4682.0</td>\n",
       "    </tr>\n",
       "  </tbody>\n",
       "</table>\n",
       "</div>"
      ],
      "text/plain": [
       "            TOT_SALES\n",
       "DATE                 \n",
       "2018-07-01     4920.1\n",
       "2018-07-02     4877.0\n",
       "2018-07-03     4954.7\n",
       "2018-07-04     4968.1\n",
       "2018-07-05     4682.0"
      ]
     },
     "execution_count": 141,
     "metadata": {},
     "output_type": "execute_result"
    }
   ],
   "source": [
    "# Create a new dataframe which contains the total sale for each date\n",
    "\n",
    "a = pd.pivot_table(transactionData, values = 'TOT_SALES', index = 'DATE', aggfunc = 'sum')\n",
    "a.head()"
   ]
  },
  {
   "cell_type": "code",
   "execution_count": 142,
   "id": "4611de85-8c7d-4d91-8443-dc48176fed3d",
   "metadata": {},
   "outputs": [
    {
     "data": {
      "text/plain": [
       "365"
      ]
     },
     "execution_count": 142,
     "metadata": {},
     "output_type": "execute_result"
    }
   ],
   "source": [
    "b = pd.DataFrame(index = pd.date_range(start = '2018-07-01', end = '2019-06-30'))\n",
    "b['TOT_SALES'] = 0\n",
    "len(b)"
   ]
  },
  {
   "cell_type": "code",
   "execution_count": 143,
   "id": "39b58715-ff72-490d-aa7d-276b293a429e",
   "metadata": {},
   "outputs": [],
   "source": [
    "c = a + b\n",
    "c.fillna(0, inplace = True)"
   ]
  },
  {
   "cell_type": "code",
   "execution_count": 144,
   "id": "5364eae6-e302-405d-b366-dfca55974912",
   "metadata": {},
   "outputs": [
    {
     "data": {
      "text/html": [
       "<div>\n",
       "<style scoped>\n",
       "    .dataframe tbody tr th:only-of-type {\n",
       "        vertical-align: middle;\n",
       "    }\n",
       "\n",
       "    .dataframe tbody tr th {\n",
       "        vertical-align: top;\n",
       "    }\n",
       "\n",
       "    .dataframe thead th {\n",
       "        text-align: right;\n",
       "    }\n",
       "</style>\n",
       "<table border=\"1\" class=\"dataframe\">\n",
       "  <thead>\n",
       "    <tr style=\"text-align: right;\">\n",
       "      <th></th>\n",
       "      <th>TOT_SALES</th>\n",
       "    </tr>\n",
       "  </thead>\n",
       "  <tbody>\n",
       "    <tr>\n",
       "      <th>2018-07-01</th>\n",
       "      <td>4920.1</td>\n",
       "    </tr>\n",
       "    <tr>\n",
       "      <th>2018-07-02</th>\n",
       "      <td>4877.0</td>\n",
       "    </tr>\n",
       "    <tr>\n",
       "      <th>2018-07-03</th>\n",
       "      <td>4954.7</td>\n",
       "    </tr>\n",
       "    <tr>\n",
       "      <th>2018-07-04</th>\n",
       "      <td>4968.1</td>\n",
       "    </tr>\n",
       "    <tr>\n",
       "      <th>2018-07-05</th>\n",
       "      <td>4682.0</td>\n",
       "    </tr>\n",
       "  </tbody>\n",
       "</table>\n",
       "</div>"
      ],
      "text/plain": [
       "            TOT_SALES\n",
       "2018-07-01     4920.1\n",
       "2018-07-02     4877.0\n",
       "2018-07-03     4954.7\n",
       "2018-07-04     4968.1\n",
       "2018-07-05     4682.0"
      ]
     },
     "execution_count": 144,
     "metadata": {},
     "output_type": "execute_result"
    }
   ],
   "source": [
    "c.head()"
   ]
  },
  {
   "cell_type": "code",
   "execution_count": 145,
   "id": "b4c9ab8b-d861-40c2-b54b-cab99e59a5d4",
   "metadata": {},
   "outputs": [
    {
     "data": {
      "text/html": [
       "<div>\n",
       "<style scoped>\n",
       "    .dataframe tbody tr th:only-of-type {\n",
       "        vertical-align: middle;\n",
       "    }\n",
       "\n",
       "    .dataframe tbody tr th {\n",
       "        vertical-align: top;\n",
       "    }\n",
       "\n",
       "    .dataframe thead th {\n",
       "        text-align: right;\n",
       "    }\n",
       "</style>\n",
       "<table border=\"1\" class=\"dataframe\">\n",
       "  <thead>\n",
       "    <tr style=\"text-align: right;\">\n",
       "      <th></th>\n",
       "      <th>Total Sales</th>\n",
       "    </tr>\n",
       "    <tr>\n",
       "      <th>Date</th>\n",
       "      <th></th>\n",
       "    </tr>\n",
       "  </thead>\n",
       "  <tbody>\n",
       "    <tr>\n",
       "      <th>2018-07-01</th>\n",
       "      <td>4920.1</td>\n",
       "    </tr>\n",
       "    <tr>\n",
       "      <th>2018-07-02</th>\n",
       "      <td>4877.0</td>\n",
       "    </tr>\n",
       "    <tr>\n",
       "      <th>2018-07-03</th>\n",
       "      <td>4954.7</td>\n",
       "    </tr>\n",
       "    <tr>\n",
       "      <th>2018-07-04</th>\n",
       "      <td>4968.1</td>\n",
       "    </tr>\n",
       "    <tr>\n",
       "      <th>2018-07-05</th>\n",
       "      <td>4682.0</td>\n",
       "    </tr>\n",
       "  </tbody>\n",
       "</table>\n",
       "</div>"
      ],
      "text/plain": [
       "            Total Sales\n",
       "Date                   \n",
       "2018-07-01       4920.1\n",
       "2018-07-02       4877.0\n",
       "2018-07-03       4954.7\n",
       "2018-07-04       4968.1\n",
       "2018-07-05       4682.0"
      ]
     },
     "execution_count": 145,
     "metadata": {},
     "output_type": "execute_result"
    }
   ],
   "source": [
    "c.index.name = 'Date'\n",
    "c.rename(columns = {'TOT_SALES': 'Total Sales'}, inplace = True)\n",
    "c.head() "
   ]
  },
  {
   "cell_type": "code",
   "execution_count": 146,
   "id": "d8b8997e-bdc9-42af-974f-0007bd46b9ab",
   "metadata": {},
   "outputs": [
    {
     "data": {
      "image/png": "[encoded data removed]",
      "text/plain": [
       "<Figure size 720x360 with 1 Axes>"
      ]
     },
     "metadata": {
      "needs_background": "light"
     },
     "output_type": "display_data"
    }
   ],
   "source": [
    "timeline = c.index\n",
    "graph = c['Total Sales']\n",
    "\n",
    "fig, ax = plt.subplots(figsize = (10, 5))\n",
    "ax.plot(timeline, graph)\n",
    "\n",
    "date_form = DateFormatter(\"%Y-%m\")\n",
    "ax.xaxis.set_major_formatter(date_form)\n",
    "plt.title('Total Sales from July 2018 to June 2019')\n",
    "plt.xlabel('Time')\n",
    "plt.ylabel('Total Sales')\n",
    "\n",
    "plt.show()\n"
   ]
  },
  {
   "cell_type": "markdown",
   "id": "37c80d12-4939-4b27-8830-26537698455d",
   "metadata": {},
   "source": [
    "\n",
    "We can see that sales spike up during the December month and zero sale on Christmas Day."
   ]
  },
  {
   "cell_type": "code",
   "execution_count": 147,
   "id": "8a3046f7-533f-4542-9d61-eab2632aad3e",
   "metadata": {},
   "outputs": [
    {
     "data": {
      "text/html": [
       "<div>\n",
       "<style scoped>\n",
       "    .dataframe tbody tr th:only-of-type {\n",
       "        vertical-align: middle;\n",
       "    }\n",
       "\n",
       "    .dataframe tbody tr th {\n",
       "        vertical-align: top;\n",
       "    }\n",
       "\n",
       "    .dataframe thead th {\n",
       "        text-align: right;\n",
       "    }\n",
       "</style>\n",
       "<table border=\"1\" class=\"dataframe\">\n",
       "  <thead>\n",
       "    <tr style=\"text-align: right;\">\n",
       "      <th></th>\n",
       "      <th>Total Sales</th>\n",
       "    </tr>\n",
       "    <tr>\n",
       "      <th>Date</th>\n",
       "      <th></th>\n",
       "    </tr>\n",
       "  </thead>\n",
       "  <tbody>\n",
       "    <tr>\n",
       "      <th>2018-12-25</th>\n",
       "      <td>0.0</td>\n",
       "    </tr>\n",
       "  </tbody>\n",
       "</table>\n",
       "</div>"
      ],
      "text/plain": [
       "            Total Sales\n",
       "Date                   \n",
       "2018-12-25          0.0"
      ]
     },
     "execution_count": 147,
     "metadata": {},
     "output_type": "execute_result"
    }
   ],
   "source": [
    "# Confirm the date where sales count equals to zero\n",
    "\n",
    "c[c['Total Sales'] == 0]"
   ]
  },
  {
   "cell_type": "code",
   "execution_count": 148,
   "id": "cd3145de-5aca-4b81-9e07-dd005f81cb24",
   "metadata": {},
   "outputs": [
    {
     "data": {
      "text/html": [
       "<div>\n",
       "<style scoped>\n",
       "    .dataframe tbody tr th:only-of-type {\n",
       "        vertical-align: middle;\n",
       "    }\n",
       "\n",
       "    .dataframe tbody tr th {\n",
       "        vertical-align: top;\n",
       "    }\n",
       "\n",
       "    .dataframe thead th {\n",
       "        text-align: right;\n",
       "    }\n",
       "</style>\n",
       "<table border=\"1\" class=\"dataframe\">\n",
       "  <thead>\n",
       "    <tr style=\"text-align: right;\">\n",
       "      <th></th>\n",
       "      <th>Total Sales</th>\n",
       "    </tr>\n",
       "    <tr>\n",
       "      <th>Date</th>\n",
       "      <th></th>\n",
       "    </tr>\n",
       "  </thead>\n",
       "  <tbody>\n",
       "    <tr>\n",
       "      <th>2018-12-01</th>\n",
       "      <td>5000.9</td>\n",
       "    </tr>\n",
       "    <tr>\n",
       "      <th>2018-12-02</th>\n",
       "      <td>4781.1</td>\n",
       "    </tr>\n",
       "    <tr>\n",
       "      <th>2018-12-03</th>\n",
       "      <td>4927.0</td>\n",
       "    </tr>\n",
       "    <tr>\n",
       "      <th>2018-12-04</th>\n",
       "      <td>4869.4</td>\n",
       "    </tr>\n",
       "    <tr>\n",
       "      <th>2018-12-05</th>\n",
       "      <td>4900.5</td>\n",
       "    </tr>\n",
       "  </tbody>\n",
       "</table>\n",
       "</div>"
      ],
      "text/plain": [
       "            Total Sales\n",
       "Date                   \n",
       "2018-12-01       5000.9\n",
       "2018-12-02       4781.1\n",
       "2018-12-03       4927.0\n",
       "2018-12-04       4869.4\n",
       "2018-12-05       4900.5"
      ]
     },
     "execution_count": 148,
     "metadata": {},
     "output_type": "execute_result"
    }
   ],
   "source": [
    "# Let's look at the December month only\n",
    "\n",
    "c_december = c[(c.index < \"2019-01-01\") & (c.index > \"2018-11-30\")]\n",
    "c_december.head()"
   ]
  },
  {
   "cell_type": "code",
   "execution_count": 149,
   "id": "70adb740-ee58-419a-86de-79f8a15395ad",
   "metadata": {},
   "outputs": [
    {
     "data": {
      "text/plain": [
       "Text(0.5, 1.0, 'Total Sales in December')"
      ]
     },
     "execution_count": 149,
     "metadata": {},
     "output_type": "execute_result"
    },
    {
     "data": {
      "image/png": "[encoded data removed]",
      "text/plain": [
       "<Figure size 1080x360 with 1 Axes>"
      ]
     },
     "metadata": {
      "needs_background": "light"
     },
     "output_type": "display_data"
    }
   ],
   "source": [
    "plt.figure(figsize = (15, 5))\n",
    "plt.plot(c_december)\n",
    "plt.xlabel('Date')\n",
    "plt.ylabel('Total Sales')\n",
    "plt.title('Total Sales in December')"
   ]
  },
  {
   "cell_type": "code",
   "execution_count": 150,
   "id": "933d163c-47ec-443e-88bf-a336a8280b45",
   "metadata": {},
   "outputs": [
    {
     "data": {
      "text/html": [
       "<div>\n",
       "<style scoped>\n",
       "    .dataframe tbody tr th:only-of-type {\n",
       "        vertical-align: middle;\n",
       "    }\n",
       "\n",
       "    .dataframe tbody tr th {\n",
       "        vertical-align: top;\n",
       "    }\n",
       "\n",
       "    .dataframe thead th {\n",
       "        text-align: right;\n",
       "    }\n",
       "</style>\n",
       "<table border=\"1\" class=\"dataframe\">\n",
       "  <thead>\n",
       "    <tr style=\"text-align: right;\">\n",
       "      <th></th>\n",
       "      <th>Total Sales</th>\n",
       "    </tr>\n",
       "  </thead>\n",
       "  <tbody>\n",
       "    <tr>\n",
       "      <th>0</th>\n",
       "      <td>5000.9</td>\n",
       "    </tr>\n",
       "    <tr>\n",
       "      <th>1</th>\n",
       "      <td>4781.1</td>\n",
       "    </tr>\n",
       "    <tr>\n",
       "      <th>2</th>\n",
       "      <td>4927.0</td>\n",
       "    </tr>\n",
       "    <tr>\n",
       "      <th>3</th>\n",
       "      <td>4869.4</td>\n",
       "    </tr>\n",
       "    <tr>\n",
       "      <th>4</th>\n",
       "      <td>4900.5</td>\n",
       "    </tr>\n",
       "  </tbody>\n",
       "</table>\n",
       "</div>"
      ],
      "text/plain": [
       "   Total Sales\n",
       "0       5000.9\n",
       "1       4781.1\n",
       "2       4927.0\n",
       "3       4869.4\n",
       "4       4900.5"
      ]
     },
     "execution_count": 150,
     "metadata": {},
     "output_type": "execute_result"
    }
   ],
   "source": [
    "# Reset index\n",
    "\n",
    "c_december.reset_index(drop = True, inplace = True)\n",
    "c_december.head()"
   ]
  },
  {
   "cell_type": "code",
   "execution_count": 151,
   "id": "6aafef4a-53a4-4917-ac21-fc2ca72c4cdd",
   "metadata": {},
   "outputs": [
    {
     "data": {
      "text/html": [
       "<div>\n",
       "<style scoped>\n",
       "    .dataframe tbody tr th:only-of-type {\n",
       "        vertical-align: middle;\n",
       "    }\n",
       "\n",
       "    .dataframe tbody tr th {\n",
       "        vertical-align: top;\n",
       "    }\n",
       "\n",
       "    .dataframe thead th {\n",
       "        text-align: right;\n",
       "    }\n",
       "</style>\n",
       "<table border=\"1\" class=\"dataframe\">\n",
       "  <thead>\n",
       "    <tr style=\"text-align: right;\">\n",
       "      <th></th>\n",
       "      <th>Total Sales</th>\n",
       "      <th>Date</th>\n",
       "    </tr>\n",
       "  </thead>\n",
       "  <tbody>\n",
       "    <tr>\n",
       "      <th>0</th>\n",
       "      <td>5000.9</td>\n",
       "      <td>1</td>\n",
       "    </tr>\n",
       "    <tr>\n",
       "      <th>1</th>\n",
       "      <td>4781.1</td>\n",
       "      <td>2</td>\n",
       "    </tr>\n",
       "    <tr>\n",
       "      <th>2</th>\n",
       "      <td>4927.0</td>\n",
       "      <td>3</td>\n",
       "    </tr>\n",
       "    <tr>\n",
       "      <th>3</th>\n",
       "      <td>4869.4</td>\n",
       "      <td>4</td>\n",
       "    </tr>\n",
       "    <tr>\n",
       "      <th>4</th>\n",
       "      <td>4900.5</td>\n",
       "      <td>5</td>\n",
       "    </tr>\n",
       "  </tbody>\n",
       "</table>\n",
       "</div>"
      ],
      "text/plain": [
       "   Total Sales  Date\n",
       "0       5000.9     1\n",
       "1       4781.1     2\n",
       "2       4927.0     3\n",
       "3       4869.4     4\n",
       "4       4900.5     5"
      ]
     },
     "execution_count": 151,
     "metadata": {},
     "output_type": "execute_result"
    }
   ],
   "source": [
    "# Relabel Date\n",
    "\n",
    "c_december['Date'] = c_december.index + 1\n",
    "c_december.head()"
   ]
  },
  {
   "cell_type": "code",
   "execution_count": 152,
   "id": "290d427f-f181-405a-bee8-3be9a79b18cb",
   "metadata": {},
   "outputs": [
    {
     "data": {
      "text/plain": [
       "<AxesSubplot:xlabel='Date', ylabel='Total Sales'>"
      ]
     },
     "execution_count": 152,
     "metadata": {},
     "output_type": "execute_result"
    },
    {
     "data": {
      "image/png": "[encoded data removed]",
      "text/plain": [
       "<Figure size 1080x360 with 1 Axes>"
      ]
     },
     "metadata": {
      "needs_background": "light"
     },
     "output_type": "display_data"
    }
   ],
   "source": [
    "plt.figure(figsize = (15,5))\n",
    "sns.barplot(x = 'Date', y ='Total Sales', data = c_december)\n",
    "\n"
   ]
  },
  {
   "cell_type": "markdown",
   "id": "f39843a6-e59b-4083-b330-1275552acf41",
   "metadata": {},
   "source": [
    "Now, we move on to PACK_SIZE that we created at the beginning by extracting the weight from the PROD_NAME column."
   ]
  },
  {
   "cell_type": "code",
   "execution_count": 153,
   "id": "1acd72b7-8075-4018-b3f6-7cfed92bf824",
   "metadata": {},
   "outputs": [
    {
     "data": {
      "text/plain": [
       "0    175\n",
       "1    175\n",
       "2    170\n",
       "3    175\n",
       "4    150\n",
       "Name: PACK_SIZE, dtype: int64"
      ]
     },
     "execution_count": 153,
     "metadata": {},
     "output_type": "execute_result"
    }
   ],
   "source": [
    "transactionData['PACK_SIZE'].head()"
   ]
  },
  {
   "cell_type": "code",
   "execution_count": 154,
   "id": "271bde20-fd3d-454f-a2f2-aa2b7a7cd76f",
   "metadata": {},
   "outputs": [
    {
     "data": {
      "text/plain": [
       "array([175, 170, 150, 330, 210, 270, 220, 125, 110, 134, 380, 180, 165,\n",
       "       135, 250, 200, 160, 190,  90,  70])"
      ]
     },
     "execution_count": 154,
     "metadata": {},
     "output_type": "execute_result"
    }
   ],
   "source": [
    "transactionData['PACK_SIZE'].unique()"
   ]
  },
  {
   "cell_type": "code",
   "execution_count": 155,
   "id": "13d2b2eb-d1be-4dca-9bf6-214c6d624f53",
   "metadata": {},
   "outputs": [
    {
     "data": {
      "text/plain": [
       "Text(0.5, 1.0, 'Pack Size Histogram')"
      ]
     },
     "execution_count": 155,
     "metadata": {},
     "output_type": "execute_result"
    },
    {
     "data": {
      "image/png": "[encoded data removed]",
      "text/plain": [
       "<Figure size 720x360 with 1 Axes>"
      ]
     },
     "metadata": {
      "needs_background": "light"
     },
     "output_type": "display_data"
    }
   ],
   "source": [
    "# Check the distribution of PACK_SIZE\n",
    "\n",
    "plt.figure(figsize = (10, 5))\n",
    "plt.hist(transactionData['PACK_SIZE'])     \n",
    "plt.xlabel('Pack Size')\n",
    "plt.ylabel('Frequency')\n",
    "plt.title('Pack Size Histogram')"
   ]
  },
  {
   "cell_type": "code",
   "execution_count": 156,
   "id": "1ddfd212-2cac-4c54-9d07-60c47014c75f",
   "metadata": {},
   "outputs": [
    {
     "data": {
      "text/html": [
       "<div>\n",
       "<style scoped>\n",
       "    .dataframe tbody tr th:only-of-type {\n",
       "        vertical-align: middle;\n",
       "    }\n",
       "\n",
       "    .dataframe tbody tr th {\n",
       "        vertical-align: top;\n",
       "    }\n",
       "\n",
       "    .dataframe thead th {\n",
       "        text-align: right;\n",
       "    }\n",
       "</style>\n",
       "<table border=\"1\" class=\"dataframe\">\n",
       "  <thead>\n",
       "    <tr style=\"text-align: right;\">\n",
       "      <th></th>\n",
       "      <th>DATE</th>\n",
       "      <th>STORE_NBR</th>\n",
       "      <th>LYLTY_CARD_NBR</th>\n",
       "      <th>TXN_ID</th>\n",
       "      <th>PROD_NBR</th>\n",
       "      <th>PROD_NAME</th>\n",
       "      <th>PROD_QTY</th>\n",
       "      <th>TOT_SALES</th>\n",
       "      <th>PACK_SIZE</th>\n",
       "      <th>BRAND</th>\n",
       "    </tr>\n",
       "  </thead>\n",
       "  <tbody>\n",
       "    <tr>\n",
       "      <th>0</th>\n",
       "      <td>2018-10-17</td>\n",
       "      <td>1</td>\n",
       "      <td>1000</td>\n",
       "      <td>1</td>\n",
       "      <td>5</td>\n",
       "      <td>Natural Chip        Compny Seasalt</td>\n",
       "      <td>2</td>\n",
       "      <td>6.0</td>\n",
       "      <td>175</td>\n",
       "      <td>Natural</td>\n",
       "    </tr>\n",
       "    <tr>\n",
       "      <th>1</th>\n",
       "      <td>2019-05-14</td>\n",
       "      <td>1</td>\n",
       "      <td>1307</td>\n",
       "      <td>348</td>\n",
       "      <td>66</td>\n",
       "      <td>Ccs Nacho Cheese</td>\n",
       "      <td>3</td>\n",
       "      <td>6.3</td>\n",
       "      <td>175</td>\n",
       "      <td>Ccs</td>\n",
       "    </tr>\n",
       "    <tr>\n",
       "      <th>2</th>\n",
       "      <td>2019-05-20</td>\n",
       "      <td>1</td>\n",
       "      <td>1343</td>\n",
       "      <td>383</td>\n",
       "      <td>61</td>\n",
       "      <td>Smiths Crinkle Cut  Chips Chicken</td>\n",
       "      <td>2</td>\n",
       "      <td>2.9</td>\n",
       "      <td>170</td>\n",
       "      <td>Smiths</td>\n",
       "    </tr>\n",
       "    <tr>\n",
       "      <th>3</th>\n",
       "      <td>2018-08-17</td>\n",
       "      <td>2</td>\n",
       "      <td>2373</td>\n",
       "      <td>974</td>\n",
       "      <td>69</td>\n",
       "      <td>Smiths Chip Thinly  S Cream Onion</td>\n",
       "      <td>5</td>\n",
       "      <td>15.0</td>\n",
       "      <td>175</td>\n",
       "      <td>Smiths</td>\n",
       "    </tr>\n",
       "    <tr>\n",
       "      <th>4</th>\n",
       "      <td>2018-08-18</td>\n",
       "      <td>2</td>\n",
       "      <td>2426</td>\n",
       "      <td>1038</td>\n",
       "      <td>108</td>\n",
       "      <td>Kettle Tortilla Chpshny Jlpno Chili</td>\n",
       "      <td>3</td>\n",
       "      <td>13.8</td>\n",
       "      <td>150</td>\n",
       "      <td>Kettle</td>\n",
       "    </tr>\n",
       "  </tbody>\n",
       "</table>\n",
       "</div>"
      ],
      "text/plain": [
       "        DATE  STORE_NBR  LYLTY_CARD_NBR  TXN_ID  PROD_NBR  \\\n",
       "0 2018-10-17          1            1000       1         5   \n",
       "1 2019-05-14          1            1307     348        66   \n",
       "2 2019-05-20          1            1343     383        61   \n",
       "3 2018-08-17          2            2373     974        69   \n",
       "4 2018-08-18          2            2426    1038       108   \n",
       "\n",
       "                               PROD_NAME  PROD_QTY  TOT_SALES  PACK_SIZE  \\\n",
       "0    Natural Chip        Compny Seasalt          2        6.0        175   \n",
       "1                  Ccs Nacho Cheese              3        6.3        175   \n",
       "2    Smiths Crinkle Cut  Chips Chicken           2        2.9        170   \n",
       "3    Smiths Chip Thinly  S Cream Onion           5       15.0        175   \n",
       "4  Kettle Tortilla Chpshny Jlpno Chili           3       13.8        150   \n",
       "\n",
       "     BRAND  \n",
       "0  Natural  \n",
       "1      Ccs  \n",
       "2   Smiths  \n",
       "3   Smiths  \n",
       "4   Kettle  "
      ]
     },
     "execution_count": 156,
     "metadata": {},
     "output_type": "execute_result"
    }
   ],
   "source": [
    "# Extract brand name from PROD_NAME and create new column called BRAND\n",
    "\n",
    "part = transactionData['PROD_NAME'].str.partition()\n",
    "transactionData['BRAND'] = part[0]\n",
    "transactionData.head()"
   ]
  },
  {
   "cell_type": "code",
   "execution_count": 157,
   "id": "aaabf23d-20b5-43bb-9a2a-907e0fb09656",
   "metadata": {},
   "outputs": [
    {
     "data": {
      "text/plain": [
       "array(['Natural', 'Ccs', 'Smiths', 'Kettle', 'Grain', 'Doritos',\n",
       "       'Twisties', 'Ww', 'Thins', 'Burger', 'Ncc', 'Cheezels', 'Infzns',\n",
       "       'Red', 'Pringles', 'Dorito', 'Infuzions', 'Smith', 'Grnwves',\n",
       "       'Tyrrells', 'Cobs', 'French', 'Rrd', 'Tostitos', 'Cheetos',\n",
       "       'Woolworths', 'Snbts', 'Sunbites'], dtype=object)"
      ]
     },
     "execution_count": 157,
     "metadata": {},
     "output_type": "execute_result"
    }
   ],
   "source": [
    "transactionData['BRAND'].unique()"
   ]
  },
  {
   "cell_type": "code",
   "execution_count": 158,
   "id": "12c49e48-bcaa-4f49-8775-d942934dddd3",
   "metadata": {},
   "outputs": [
    {
     "data": {
      "text/plain": [
       "array(['Natural', 'CCS', 'Smiths', 'Kettle', 'Grainwaves', 'Doritos',\n",
       "       'Twisties', 'Woolworths', 'Thins', 'Burger', 'Cheezels',\n",
       "       'Infuzions', 'Red Rock Deli', 'Pringles', 'Tyrrells', 'Cobs',\n",
       "       'French', 'Tostitos', 'Cheetos', 'Sunbites'], dtype=object)"
      ]
     },
     "execution_count": 158,
     "metadata": {},
     "output_type": "execute_result"
    }
   ],
   "source": [
    "# Rename brand names for consistency\n",
    "\n",
    "transactionData['BRAND'].replace('Ncc', 'Natural', inplace = True)\n",
    "transactionData['BRAND'].replace('Ccs', 'CCS', inplace = True)\n",
    "transactionData['BRAND'].replace('Smith', 'Smiths', inplace = True)\n",
    "transactionData['BRAND'].replace(['Grain', 'Grnwves'], 'Grainwaves', inplace = True)\n",
    "transactionData['BRAND'].replace('Dorito', 'Doritos', inplace = True)\n",
    "transactionData['BRAND'].replace('Ww', 'Woolworths', inplace = True)\n",
    "transactionData['BRAND'].replace('Infzns', 'Infuzions', inplace = True)\n",
    "transactionData['BRAND'].replace(['Red', 'Rrd'], 'Red Rock Deli', inplace = True)\n",
    "transactionData['BRAND'].replace('Snbts', 'Sunbites', inplace = True)\n",
    "\n",
    "transactionData['BRAND'].unique()"
   ]
  },
  {
   "cell_type": "code",
   "execution_count": 159,
   "id": "6f6056cc-aa41-44be-92e3-32ebd0d2ea68",
   "metadata": {},
   "outputs": [
    {
     "data": {
      "text/plain": [
       "BRAND\n",
       "Kettle           390239.8\n",
       "Doritos          226329.9\n",
       "Smiths           217492.0\n",
       "Pringles         177655.5\n",
       "Infuzions         99047.6\n",
       "Thins             88852.5\n",
       "Red Rock Deli     87607.5\n",
       "Twisties          81522.1\n",
       "Tostitos          79789.6\n",
       "Cobs              70569.8\n",
       "Tyrrells          51647.4\n",
       "Grainwaves        51617.2\n",
       "Natural           42318.0\n",
       "Woolworths        41059.1\n",
       "Cheezels          40029.9\n",
       "CCS               18078.9\n",
       "Cheetos           16884.5\n",
       "Sunbites           9676.4\n",
       "French             7929.0\n",
       "Burger             6831.0\n",
       "Name: TOT_SALES, dtype: float64"
      ]
     },
     "execution_count": 159,
     "metadata": {},
     "output_type": "execute_result"
    }
   ],
   "source": [
    "# Which brand had the most sales?\n",
    "\n",
    "transactionData.groupby('BRAND').TOT_SALES.sum().sort_values(ascending = False)"
   ]
  },
  {
   "cell_type": "markdown",
   "id": "d89fa1bc-72ec-4fbc-a652-57e9ee329253",
   "metadata": {},
   "source": [
    "# Customer Data"
   ]
  },
  {
   "cell_type": "code",
   "execution_count": 160,
   "id": "7c2f578a-d216-410c-bfc8-e1d35d4278be",
   "metadata": {},
   "outputs": [
    {
     "data": {
      "text/plain": [
       "['LYLTY_CARD_NBR', 'LIFESTAGE', 'PREMIUM_CUSTOMER']"
      ]
     },
     "execution_count": 160,
     "metadata": {},
     "output_type": "execute_result"
    }
   ],
   "source": [
    "list(customerData.columns)"
   ]
  },
  {
   "cell_type": "code",
   "execution_count": 161,
   "id": "0608274f-adde-4f35-9328-7bb63f5a1000",
   "metadata": {},
   "outputs": [
    {
     "data": {
      "text/html": [
       "<div>\n",
       "<style scoped>\n",
       "    .dataframe tbody tr th:only-of-type {\n",
       "        vertical-align: middle;\n",
       "    }\n",
       "\n",
       "    .dataframe tbody tr th {\n",
       "        vertical-align: top;\n",
       "    }\n",
       "\n",
       "    .dataframe thead th {\n",
       "        text-align: right;\n",
       "    }\n",
       "</style>\n",
       "<table border=\"1\" class=\"dataframe\">\n",
       "  <thead>\n",
       "    <tr style=\"text-align: right;\">\n",
       "      <th></th>\n",
       "      <th>LYLTY_CARD_NBR</th>\n",
       "      <th>LIFESTAGE</th>\n",
       "      <th>PREMIUM_CUSTOMER</th>\n",
       "    </tr>\n",
       "  </thead>\n",
       "  <tbody>\n",
       "    <tr>\n",
       "      <th>0</th>\n",
       "      <td>1000</td>\n",
       "      <td>YOUNG SINGLES/COUPLES</td>\n",
       "      <td>Premium</td>\n",
       "    </tr>\n",
       "    <tr>\n",
       "      <th>1</th>\n",
       "      <td>1002</td>\n",
       "      <td>YOUNG SINGLES/COUPLES</td>\n",
       "      <td>Mainstream</td>\n",
       "    </tr>\n",
       "    <tr>\n",
       "      <th>2</th>\n",
       "      <td>1003</td>\n",
       "      <td>YOUNG FAMILIES</td>\n",
       "      <td>Budget</td>\n",
       "    </tr>\n",
       "    <tr>\n",
       "      <th>3</th>\n",
       "      <td>1004</td>\n",
       "      <td>OLDER SINGLES/COUPLES</td>\n",
       "      <td>Mainstream</td>\n",
       "    </tr>\n",
       "    <tr>\n",
       "      <th>4</th>\n",
       "      <td>1005</td>\n",
       "      <td>MIDAGE SINGLES/COUPLES</td>\n",
       "      <td>Mainstream</td>\n",
       "    </tr>\n",
       "  </tbody>\n",
       "</table>\n",
       "</div>"
      ],
      "text/plain": [
       "   LYLTY_CARD_NBR               LIFESTAGE PREMIUM_CUSTOMER\n",
       "0            1000   YOUNG SINGLES/COUPLES          Premium\n",
       "1            1002   YOUNG SINGLES/COUPLES       Mainstream\n",
       "2            1003          YOUNG FAMILIES           Budget\n",
       "3            1004   OLDER SINGLES/COUPLES       Mainstream\n",
       "4            1005  MIDAGE SINGLES/COUPLES       Mainstream"
      ]
     },
     "execution_count": 161,
     "metadata": {},
     "output_type": "execute_result"
    }
   ],
   "source": [
    "customerData.head()"
   ]
  },
  {
   "cell_type": "code",
   "execution_count": 162,
   "id": "5672c513-dbfe-428d-b992-1a2ff7adb8b0",
   "metadata": {},
   "outputs": [
    {
     "data": {
      "text/plain": [
       "<AxesSubplot:>"
      ]
     },
     "execution_count": 162,
     "metadata": {},
     "output_type": "execute_result"
    },
    {
     "data": {
      "image/png": "[encoded data removed]",
      "text/plain": [
       "<Figure size 1800x720 with 2 Axes>"
      ]
     },
     "metadata": {
      "needs_background": "light"
     },
     "output_type": "display_data"
    }
   ],
   "source": [
    "# Missing values in customerData\n",
    "\n",
    "missingno.matrix(customerData)"
   ]
  },
  {
   "cell_type": "code",
   "execution_count": 163,
   "id": "5bbb4217-ba26-4027-8d33-55952819b74c",
   "metadata": {},
   "outputs": [
    {
     "data": {
      "text/plain": [
       "72636"
      ]
     },
     "execution_count": 163,
     "metadata": {},
     "output_type": "execute_result"
    }
   ],
   "source": [
    "len(customerData)"
   ]
  },
  {
   "cell_type": "code",
   "execution_count": 164,
   "id": "af0d7d7f-f665-469d-8061-b76889526c4b",
   "metadata": {},
   "outputs": [
    {
     "data": {
      "text/plain": [
       "72636"
      ]
     },
     "execution_count": 164,
     "metadata": {},
     "output_type": "execute_result"
    }
   ],
   "source": [
    "customerData['LYLTY_CARD_NBR'].nunique()"
   ]
  },
  {
   "cell_type": "markdown",
   "id": "6b9ea31b-bbe4-4de0-97a3-169653dd6306",
   "metadata": {},
   "source": [
    "Since the number of rows in customerData is equal to number of unique loyalty card number, we conclude that loyalty card numbers are unique to each row."
   ]
  },
  {
   "cell_type": "code",
   "execution_count": 165,
   "id": "8c45c62c-4237-4b84-aa80-35d981677b45",
   "metadata": {},
   "outputs": [
    {
     "data": {
      "text/plain": [
       "7"
      ]
     },
     "execution_count": 165,
     "metadata": {},
     "output_type": "execute_result"
    }
   ],
   "source": [
    "# How many unique lifestages?\n",
    "\n",
    "customerData['LIFESTAGE'].nunique()"
   ]
  },
  {
   "cell_type": "code",
   "execution_count": 166,
   "id": "ada22de5-3528-4a81-be36-44dc8da6c395",
   "metadata": {},
   "outputs": [
    {
     "data": {
      "text/plain": [
       "array(['YOUNG SINGLES/COUPLES', 'YOUNG FAMILIES', 'OLDER SINGLES/COUPLES',\n",
       "       'MIDAGE SINGLES/COUPLES', 'NEW FAMILIES', 'OLDER FAMILIES',\n",
       "       'RETIREES'], dtype=object)"
      ]
     },
     "execution_count": 166,
     "metadata": {},
     "output_type": "execute_result"
    }
   ],
   "source": [
    "# What are those lifestages?\n",
    "\n",
    "customerData['LIFESTAGE'].unique()"
   ]
  },
  {
   "cell_type": "code",
   "execution_count": 167,
   "id": "a17fb17b-0cd7-4609-a62d-110154a445d4",
   "metadata": {},
   "outputs": [
    {
     "data": {
      "text/plain": [
       "RETIREES                  14805\n",
       "OLDER SINGLES/COUPLES     14609\n",
       "YOUNG SINGLES/COUPLES     14441\n",
       "OLDER FAMILIES             9779\n",
       "YOUNG FAMILIES             9178\n",
       "MIDAGE SINGLES/COUPLES     7275\n",
       "NEW FAMILIES               2549\n",
       "Name: LIFESTAGE, dtype: int64"
      ]
     },
     "execution_count": 167,
     "metadata": {},
     "output_type": "execute_result"
    }
   ],
   "source": [
    "# Value counts for lifestages\n",
    "\n",
    "customerData['LIFESTAGE'].value_counts().sort_values(ascending = False)"
   ]
  },
  {
   "cell_type": "code",
   "execution_count": 168,
   "id": "83abb51d-5bb6-4151-b9d4-fcbe083c2358",
   "metadata": {},
   "outputs": [
    {
     "data": {
      "text/plain": [
       "<AxesSubplot:xlabel='count', ylabel='LIFESTAGE'>"
      ]
     },
     "execution_count": 168,
     "metadata": {},
     "output_type": "execute_result"
    },
    {
     "data": {
      "image/png": "[encoded data removed]",
      "text/plain": [
       "<Figure size 432x288 with 1 Axes>"
      ]
     },
     "metadata": {
      "needs_background": "light"
     },
     "output_type": "display_data"
    }
   ],
   "source": [
    "sns.countplot(y = customerData['LIFESTAGE'], order = customerData['LIFESTAGE'].value_counts().index)"
   ]
  },
  {
   "cell_type": "code",
   "execution_count": 169,
   "id": "f13222e6-dcfd-4f55-a4e8-4d8718aa4e47",
   "metadata": {},
   "outputs": [
    {
     "data": {
      "text/plain": [
       "3"
      ]
     },
     "execution_count": 169,
     "metadata": {},
     "output_type": "execute_result"
    }
   ],
   "source": [
    "# How many unique premium customer categories?\n",
    "\n",
    "customerData['PREMIUM_CUSTOMER'].nunique()"
   ]
  },
  {
   "cell_type": "code",
   "execution_count": 170,
   "id": "41974b15-a1bb-49b0-9625-876641022f69",
   "metadata": {},
   "outputs": [
    {
     "data": {
      "text/plain": [
       "Mainstream    29245\n",
       "Budget        24470\n",
       "Premium       18921\n",
       "Name: PREMIUM_CUSTOMER, dtype: int64"
      ]
     },
     "execution_count": 170,
     "metadata": {},
     "output_type": "execute_result"
    }
   ],
   "source": [
    "# Value counts for each premium customer category\n",
    "\n",
    "customerData['PREMIUM_CUSTOMER'].value_counts().sort_values(ascending = False)"
   ]
  },
  {
   "cell_type": "code",
   "execution_count": 171,
   "id": "30f96772-4868-4614-8296-b55f50f5e301",
   "metadata": {},
   "outputs": [
    {
     "data": {
      "text/plain": [
       "Text(0, 0.5, 'Premium Customer')"
      ]
     },
     "execution_count": 171,
     "metadata": {},
     "output_type": "execute_result"
    },
    {
     "data": {
      "image/png": "[encoded data removed]",
      "text/plain": [
       "<Figure size 864x504 with 1 Axes>"
      ]
     },
     "metadata": {
      "needs_background": "light"
     },
     "output_type": "display_data"
    }
   ],
   "source": [
    "plt.figure(figsize = (12, 7))\n",
    "sns.countplot(y = customerData['PREMIUM_CUSTOMER'], order = customerData['PREMIUM_CUSTOMER'].value_counts().index)\n",
    "plt.xlabel('Number of Customers')\n",
    "plt.ylabel('Premium Customer')"
   ]
  },
  {
   "cell_type": "code",
   "execution_count": 172,
   "id": "eefc13dc-e579-47a9-bcb6-8e0466e6c92f",
   "metadata": {},
   "outputs": [],
   "source": [
    "# Merge transactionData and customerData together\n",
    "\n",
    "combineData = pd.merge(transactionData, customerData)"
   ]
  },
  {
   "cell_type": "code",
   "execution_count": 173,
   "id": "c8be3de6-30b0-4fe9-8fa0-72a6d2466538",
   "metadata": {},
   "outputs": [
    {
     "name": "stdout",
     "output_type": "stream",
     "text": [
      "Transaction data shape:  (246740, 10)\n",
      "Customer data shape:  (72636, 3)\n",
      "Combined data shape:  (246740, 12)\n"
     ]
    }
   ],
   "source": [
    "print(\"Transaction data shape: \", transactionData.shape)\n",
    "print(\"Customer data shape: \", customerData.shape)\n",
    "print(\"Combined data shape: \", combineData.shape)"
   ]
  },
  {
   "cell_type": "code",
   "execution_count": 174,
   "id": "c91988f0-16c8-41c1-a565-572c57a26ab0",
   "metadata": {},
   "outputs": [],
   "source": [
    "combineData.to_csv('/home/ayodeji/Downloads/Documents/QUANTIUM/combined_data.csv')"
   ]
  },
  {
   "cell_type": "code",
   "execution_count": 175,
   "id": "e02880c5-5f86-4a09-af13-45f14fa62a59",
   "metadata": {},
   "outputs": [
    {
     "data": {
      "text/plain": [
       "DATE                0\n",
       "STORE_NBR           0\n",
       "LYLTY_CARD_NBR      0\n",
       "TXN_ID              0\n",
       "PROD_NBR            0\n",
       "PROD_NAME           0\n",
       "PROD_QTY            0\n",
       "TOT_SALES           0\n",
       "PACK_SIZE           0\n",
       "BRAND               0\n",
       "LIFESTAGE           0\n",
       "PREMIUM_CUSTOMER    0\n",
       "dtype: int64"
      ]
     },
     "execution_count": 175,
     "metadata": {},
     "output_type": "execute_result"
    }
   ],
   "source": [
    "# Check for null values\n",
    "\n",
    "combineData.isnull().sum()"
   ]
  },
  {
   "cell_type": "markdown",
   "id": "7fadbbbd-2401-48f8-af18-fd8e8426bb9a",
   "metadata": {},
   "source": [
    "# Data analysis on customer segments\n",
    "\n",
    "Now that the data is ready for analysis, I defined some metrics of interest to the client:\n",
    "\n",
    "- Who spends the most on chips, describing customers by lifestage and how premium their general purchasing behaviour is\n",
    "- How many customers are in each segment\n",
    "- How many chips are bought per customer by segment\n",
    "- What is the average chip price by customer segment\n",
    "    "
   ]
  },
  {
   "cell_type": "code",
   "execution_count": 176,
   "id": "43d7d7b2-4a23-4609-9766-775e3ded58eb",
   "metadata": {},
   "outputs": [
    {
     "data": {
      "text/html": [
       "<div>\n",
       "<style scoped>\n",
       "    .dataframe tbody tr th:only-of-type {\n",
       "        vertical-align: middle;\n",
       "    }\n",
       "\n",
       "    .dataframe tbody tr th {\n",
       "        vertical-align: top;\n",
       "    }\n",
       "\n",
       "    .dataframe thead th {\n",
       "        text-align: right;\n",
       "    }\n",
       "</style>\n",
       "<table border=\"1\" class=\"dataframe\">\n",
       "  <thead>\n",
       "    <tr style=\"text-align: right;\">\n",
       "      <th></th>\n",
       "      <th></th>\n",
       "      <th>Total Sales</th>\n",
       "    </tr>\n",
       "    <tr>\n",
       "      <th>PREMIUM_CUSTOMER</th>\n",
       "      <th>LIFESTAGE</th>\n",
       "      <th></th>\n",
       "    </tr>\n",
       "  </thead>\n",
       "  <tbody>\n",
       "    <tr>\n",
       "      <th>Budget</th>\n",
       "      <th>OLDER FAMILIES</th>\n",
       "      <td>156863.75</td>\n",
       "    </tr>\n",
       "    <tr>\n",
       "      <th rowspan=\"2\" valign=\"top\">Mainstream</th>\n",
       "      <th>YOUNG SINGLES/COUPLES</th>\n",
       "      <td>147582.20</td>\n",
       "    </tr>\n",
       "    <tr>\n",
       "      <th>RETIREES</th>\n",
       "      <td>145168.95</td>\n",
       "    </tr>\n",
       "    <tr>\n",
       "      <th rowspan=\"2\" valign=\"top\">Budget</th>\n",
       "      <th>YOUNG FAMILIES</th>\n",
       "      <td>129717.95</td>\n",
       "    </tr>\n",
       "    <tr>\n",
       "      <th>OLDER SINGLES/COUPLES</th>\n",
       "      <td>127833.60</td>\n",
       "    </tr>\n",
       "    <tr>\n",
       "      <th>Mainstream</th>\n",
       "      <th>OLDER SINGLES/COUPLES</th>\n",
       "      <td>124648.50</td>\n",
       "    </tr>\n",
       "    <tr>\n",
       "      <th>Premium</th>\n",
       "      <th>OLDER SINGLES/COUPLES</th>\n",
       "      <td>123537.55</td>\n",
       "    </tr>\n",
       "    <tr>\n",
       "      <th>Budget</th>\n",
       "      <th>RETIREES</th>\n",
       "      <td>105916.30</td>\n",
       "    </tr>\n",
       "    <tr>\n",
       "      <th>Mainstream</th>\n",
       "      <th>OLDER FAMILIES</th>\n",
       "      <td>96413.55</td>\n",
       "    </tr>\n",
       "    <tr>\n",
       "      <th>Premium</th>\n",
       "      <th>RETIREES</th>\n",
       "      <td>91296.65</td>\n",
       "    </tr>\n",
       "    <tr>\n",
       "      <th rowspan=\"2\" valign=\"top\">Mainstream</th>\n",
       "      <th>YOUNG FAMILIES</th>\n",
       "      <td>86338.25</td>\n",
       "    </tr>\n",
       "    <tr>\n",
       "      <th>MIDAGE SINGLES/COUPLES</th>\n",
       "      <td>84734.25</td>\n",
       "    </tr>\n",
       "    <tr>\n",
       "      <th rowspan=\"2\" valign=\"top\">Premium</th>\n",
       "      <th>YOUNG FAMILIES</th>\n",
       "      <td>78571.70</td>\n",
       "    </tr>\n",
       "    <tr>\n",
       "      <th>OLDER FAMILIES</th>\n",
       "      <td>75242.60</td>\n",
       "    </tr>\n",
       "    <tr>\n",
       "      <th>Budget</th>\n",
       "      <th>YOUNG SINGLES/COUPLES</th>\n",
       "      <td>57122.10</td>\n",
       "    </tr>\n",
       "    <tr>\n",
       "      <th rowspan=\"2\" valign=\"top\">Premium</th>\n",
       "      <th>MIDAGE SINGLES/COUPLES</th>\n",
       "      <td>54443.85</td>\n",
       "    </tr>\n",
       "    <tr>\n",
       "      <th>YOUNG SINGLES/COUPLES</th>\n",
       "      <td>39052.30</td>\n",
       "    </tr>\n",
       "    <tr>\n",
       "      <th rowspan=\"2\" valign=\"top\">Budget</th>\n",
       "      <th>MIDAGE SINGLES/COUPLES</th>\n",
       "      <td>33345.70</td>\n",
       "    </tr>\n",
       "    <tr>\n",
       "      <th>NEW FAMILIES</th>\n",
       "      <td>20607.45</td>\n",
       "    </tr>\n",
       "    <tr>\n",
       "      <th>Mainstream</th>\n",
       "      <th>NEW FAMILIES</th>\n",
       "      <td>15979.70</td>\n",
       "    </tr>\n",
       "    <tr>\n",
       "      <th>Premium</th>\n",
       "      <th>NEW FAMILIES</th>\n",
       "      <td>10760.80</td>\n",
       "    </tr>\n",
       "  </tbody>\n",
       "</table>\n",
       "</div>"
      ],
      "text/plain": [
       "                                         Total Sales\n",
       "PREMIUM_CUSTOMER LIFESTAGE                          \n",
       "Budget           OLDER FAMILIES            156863.75\n",
       "Mainstream       YOUNG SINGLES/COUPLES     147582.20\n",
       "                 RETIREES                  145168.95\n",
       "Budget           YOUNG FAMILIES            129717.95\n",
       "                 OLDER SINGLES/COUPLES     127833.60\n",
       "Mainstream       OLDER SINGLES/COUPLES     124648.50\n",
       "Premium          OLDER SINGLES/COUPLES     123537.55\n",
       "Budget           RETIREES                  105916.30\n",
       "Mainstream       OLDER FAMILIES             96413.55\n",
       "Premium          RETIREES                   91296.65\n",
       "Mainstream       YOUNG FAMILIES             86338.25\n",
       "                 MIDAGE SINGLES/COUPLES     84734.25\n",
       "Premium          YOUNG FAMILIES             78571.70\n",
       "                 OLDER FAMILIES             75242.60\n",
       "Budget           YOUNG SINGLES/COUPLES      57122.10\n",
       "Premium          MIDAGE SINGLES/COUPLES     54443.85\n",
       "                 YOUNG SINGLES/COUPLES      39052.30\n",
       "Budget           MIDAGE SINGLES/COUPLES     33345.70\n",
       "                 NEW FAMILIES               20607.45\n",
       "Mainstream       NEW FAMILIES               15979.70\n",
       "Premium          NEW FAMILIES               10760.80"
      ]
     },
     "execution_count": 176,
     "metadata": {},
     "output_type": "execute_result"
    }
   ],
   "source": [
    "# Total sales by PREMIUM_CUSTOMER and LIFESTAGE\n",
    "\n",
    "sales = pd.DataFrame(combineData.groupby(['PREMIUM_CUSTOMER', 'LIFESTAGE']).TOT_SALES.sum())\n",
    "sales.rename(columns = {'TOT_SALES': 'Total Sales'}, inplace = True)\n",
    "sales.sort_values(by = 'Total Sales', ascending = False, inplace = True)\n",
    "sales"
   ]
  },
  {
   "cell_type": "code",
   "execution_count": 177,
   "id": "fc2777bc-bf97-4c95-b9f2-59b54f2c3395",
   "metadata": {},
   "outputs": [
    {
     "data": {
      "text/plain": [
       "<matplotlib.legend.Legend at 0x7f509cfd1370>"
      ]
     },
     "execution_count": 177,
     "metadata": {},
     "output_type": "execute_result"
    },
    {
     "data": {
      "image/png": "[encoded data removed]",
      "text/plain": [
       "<Figure size 864x504 with 1 Axes>"
      ]
     },
     "metadata": {
      "needs_background": "light"
     },
     "output_type": "display_data"
    }
   ],
   "source": [
    "# Visualise\n",
    "\n",
    "salesPlot = pd.DataFrame(combineData.groupby(['LIFESTAGE', 'PREMIUM_CUSTOMER']).TOT_SALES.sum())\n",
    "salesPlot.unstack().plot(kind = 'bar', stacked = True, figsize = (12, 7), title = 'Total Sales by Customer Segment')\n",
    "plt.ylabel('Total Sales')\n",
    "plt.legend(['Budget', 'Mainstream', 'Premium'], loc = 2)"
   ]
  },
  {
   "cell_type": "markdown",
   "id": "e3a84d54-f487-4edb-879f-4f3412b54fb2",
   "metadata": {},
   "source": [
    "\n",
    "Top 3 sales come from budget older families, mainstream young singles/couples and mainstream retirees."
   ]
  },
  {
   "cell_type": "code",
   "execution_count": 178,
   "id": "d55122b5-9c7a-4206-a6a7-758271cb94b5",
   "metadata": {},
   "outputs": [
    {
     "data": {
      "text/html": [
       "<div>\n",
       "<style scoped>\n",
       "    .dataframe tbody tr th:only-of-type {\n",
       "        vertical-align: middle;\n",
       "    }\n",
       "\n",
       "    .dataframe tbody tr th {\n",
       "        vertical-align: top;\n",
       "    }\n",
       "\n",
       "    .dataframe thead th {\n",
       "        text-align: right;\n",
       "    }\n",
       "</style>\n",
       "<table border=\"1\" class=\"dataframe\">\n",
       "  <thead>\n",
       "    <tr style=\"text-align: right;\">\n",
       "      <th></th>\n",
       "      <th></th>\n",
       "      <th>Number of Customers</th>\n",
       "    </tr>\n",
       "    <tr>\n",
       "      <th>PREMIUM_CUSTOMER</th>\n",
       "      <th>LIFESTAGE</th>\n",
       "      <th></th>\n",
       "    </tr>\n",
       "  </thead>\n",
       "  <tbody>\n",
       "    <tr>\n",
       "      <th rowspan=\"3\" valign=\"top\">Mainstream</th>\n",
       "      <th>YOUNG SINGLES/COUPLES</th>\n",
       "      <td>7917</td>\n",
       "    </tr>\n",
       "    <tr>\n",
       "      <th>RETIREES</th>\n",
       "      <td>6358</td>\n",
       "    </tr>\n",
       "    <tr>\n",
       "      <th>OLDER SINGLES/COUPLES</th>\n",
       "      <td>4858</td>\n",
       "    </tr>\n",
       "    <tr>\n",
       "      <th>Budget</th>\n",
       "      <th>OLDER SINGLES/COUPLES</th>\n",
       "      <td>4849</td>\n",
       "    </tr>\n",
       "    <tr>\n",
       "      <th>Premium</th>\n",
       "      <th>OLDER SINGLES/COUPLES</th>\n",
       "      <td>4682</td>\n",
       "    </tr>\n",
       "    <tr>\n",
       "      <th rowspan=\"3\" valign=\"top\">Budget</th>\n",
       "      <th>OLDER FAMILIES</th>\n",
       "      <td>4611</td>\n",
       "    </tr>\n",
       "    <tr>\n",
       "      <th>RETIREES</th>\n",
       "      <td>4385</td>\n",
       "    </tr>\n",
       "    <tr>\n",
       "      <th>YOUNG FAMILIES</th>\n",
       "      <td>3953</td>\n",
       "    </tr>\n",
       "    <tr>\n",
       "      <th>Premium</th>\n",
       "      <th>RETIREES</th>\n",
       "      <td>3812</td>\n",
       "    </tr>\n",
       "    <tr>\n",
       "      <th>Budget</th>\n",
       "      <th>YOUNG SINGLES/COUPLES</th>\n",
       "      <td>3647</td>\n",
       "    </tr>\n",
       "  </tbody>\n",
       "</table>\n",
       "</div>"
      ],
      "text/plain": [
       "                                        Number of Customers\n",
       "PREMIUM_CUSTOMER LIFESTAGE                                 \n",
       "Mainstream       YOUNG SINGLES/COUPLES                 7917\n",
       "                 RETIREES                              6358\n",
       "                 OLDER SINGLES/COUPLES                 4858\n",
       "Budget           OLDER SINGLES/COUPLES                 4849\n",
       "Premium          OLDER SINGLES/COUPLES                 4682\n",
       "Budget           OLDER FAMILIES                        4611\n",
       "                 RETIREES                              4385\n",
       "                 YOUNG FAMILIES                        3953\n",
       "Premium          RETIREES                              3812\n",
       "Budget           YOUNG SINGLES/COUPLES                 3647"
      ]
     },
     "execution_count": 178,
     "metadata": {},
     "output_type": "execute_result"
    }
   ],
   "source": [
    "# Number of customers by PREMIUM_CUSTOMER and LIFESTAGE\n",
    "\n",
    "customers = pd.DataFrame(combineData.groupby(['PREMIUM_CUSTOMER', 'LIFESTAGE']).LYLTY_CARD_NBR.nunique())\n",
    "customers.rename(columns = {'LYLTY_CARD_NBR': 'Number of Customers'}, inplace = True)\n",
    "customers.sort_values(by = 'Number of Customers', ascending = False).head(10)"
   ]
  },
  {
   "cell_type": "code",
   "execution_count": 179,
   "id": "649b16f7-4d64-48bc-8032-d962eb52b2a4",
   "metadata": {},
   "outputs": [
    {
     "data": {
      "text/plain": [
       "<matplotlib.legend.Legend at 0x7f50ade38ca0>"
      ]
     },
     "execution_count": 179,
     "metadata": {},
     "output_type": "execute_result"
    },
    {
     "data": {
      "image/png": "[encoded data removed]",
      "text/plain": [
       "<Figure size 864x504 with 1 Axes>"
      ]
     },
     "metadata": {
      "needs_background": "light"
     },
     "output_type": "display_data"
    }
   ],
   "source": [
    "# Visualise\n",
    "\n",
    "customersPlot = pd.DataFrame(combineData.groupby(['LIFESTAGE', 'PREMIUM_CUSTOMER']).LYLTY_CARD_NBR.nunique())\n",
    "customersPlot.unstack().plot(kind = 'bar', stacked = True, figsize = (12, 7), title = 'Number of Customers by Customer Segment')\n",
    "plt.ylabel('Number of Customers')\n",
    "plt.legend(['Budget', 'Mainstream', 'Premium'], loc = 2)"
   ]
  },
  {
   "cell_type": "markdown",
   "id": "ce744df0-ccec-415a-8731-474897a0d020",
   "metadata": {},
   "source": [
    "\n",
    "There are more mainstream young singles/couples and retirees. This contributes to to more chips sales in these segments however this is not the major driver for the budget older families segment."
   ]
  },
  {
   "cell_type": "code",
   "execution_count": 180,
   "id": "69f9192c-30e8-446a-a03b-10faa53269ae",
   "metadata": {},
   "outputs": [
    {
     "data": {
      "text/html": [
       "<div>\n",
       "<style scoped>\n",
       "    .dataframe tbody tr th:only-of-type {\n",
       "        vertical-align: middle;\n",
       "    }\n",
       "\n",
       "    .dataframe tbody tr th {\n",
       "        vertical-align: top;\n",
       "    }\n",
       "\n",
       "    .dataframe thead th {\n",
       "        text-align: right;\n",
       "    }\n",
       "</style>\n",
       "<table border=\"1\" class=\"dataframe\">\n",
       "  <thead>\n",
       "    <tr style=\"text-align: right;\">\n",
       "      <th></th>\n",
       "      <th></th>\n",
       "      <th>Average Unit per Customer</th>\n",
       "    </tr>\n",
       "    <tr>\n",
       "      <th>PREMIUM_CUSTOMER</th>\n",
       "      <th>LIFESTAGE</th>\n",
       "      <th></th>\n",
       "    </tr>\n",
       "  </thead>\n",
       "  <tbody>\n",
       "    <tr>\n",
       "      <th>Mainstream</th>\n",
       "      <th>OLDER FAMILIES</th>\n",
       "      <td>9.255380</td>\n",
       "    </tr>\n",
       "    <tr>\n",
       "      <th>Budget</th>\n",
       "      <th>OLDER FAMILIES</th>\n",
       "      <td>9.076773</td>\n",
       "    </tr>\n",
       "    <tr>\n",
       "      <th>Premium</th>\n",
       "      <th>OLDER FAMILIES</th>\n",
       "      <td>9.071717</td>\n",
       "    </tr>\n",
       "    <tr>\n",
       "      <th>Budget</th>\n",
       "      <th>YOUNG FAMILIES</th>\n",
       "      <td>8.722995</td>\n",
       "    </tr>\n",
       "    <tr>\n",
       "      <th>Premium</th>\n",
       "      <th>YOUNG FAMILIES</th>\n",
       "      <td>8.716013</td>\n",
       "    </tr>\n",
       "  </tbody>\n",
       "</table>\n",
       "</div>"
      ],
      "text/plain": [
       "                                 Average Unit per Customer\n",
       "PREMIUM_CUSTOMER LIFESTAGE                                \n",
       "Mainstream       OLDER FAMILIES                   9.255380\n",
       "Budget           OLDER FAMILIES                   9.076773\n",
       "Premium          OLDER FAMILIES                   9.071717\n",
       "Budget           YOUNG FAMILIES                   8.722995\n",
       "Premium          YOUNG FAMILIES                   8.716013"
      ]
     },
     "execution_count": 180,
     "metadata": {},
     "output_type": "execute_result"
    }
   ],
   "source": [
    "# Average units per customer by PREMIUM_CUSTOMER and LIFESTAGE\n",
    "\n",
    "avg_units = combineData.groupby(['PREMIUM_CUSTOMER', 'LIFESTAGE']).PROD_QTY.sum() / combineData.groupby(['PREMIUM_CUSTOMER', 'LIFESTAGE']).LYLTY_CARD_NBR.nunique()\n",
    "avg_units = pd.DataFrame(avg_units, columns = {'Average Unit per Customer'})\n",
    "avg_units.sort_values(by = 'Average Unit per Customer', ascending = False).head()"
   ]
  },
  {
   "cell_type": "code",
   "execution_count": 181,
   "id": "23c1787a-6b04-4e4c-9a90-1f7354fd9b94",
   "metadata": {},
   "outputs": [
    {
     "data": {
      "text/plain": [
       "<matplotlib.legend.Legend at 0x7f509ba9bc70>"
      ]
     },
     "execution_count": 181,
     "metadata": {},
     "output_type": "execute_result"
    },
    {
     "data": {
      "image/png": "[encoded data removed]",
      "text/plain": [
       "<Figure size 864x504 with 1 Axes>"
      ]
     },
     "metadata": {
      "needs_background": "light"
     },
     "output_type": "display_data"
    }
   ],
   "source": [
    "# Visualise \n",
    "\n",
    "avgUnitsPlot = pd.DataFrame(combineData.groupby(['LIFESTAGE', 'PREMIUM_CUSTOMER']).PROD_QTY.sum() / combineData.groupby(['LIFESTAGE', 'PREMIUM_CUSTOMER']).LYLTY_CARD_NBR.nunique())\n",
    "avgUnitsPlot.unstack().plot(kind = 'bar', figsize = (12, 7), title = 'Average Unit by Customer Segment')\n",
    "plt.ylabel('Average Number of Units')\n",
    "plt.legend(['Budget', 'Mainstream', 'Premium'], loc = 2)"
   ]
  },
  {
   "cell_type": "markdown",
   "id": "dfb56bc9-8f31-4f31-86b9-a166bf2b58be",
   "metadata": {},
   "source": [
    "Older families and young families buy more chips per customer."
   ]
  },
  {
   "cell_type": "code",
   "execution_count": 182,
   "id": "e2b4228e-ddc4-438c-8ebf-eb8c3911ef43",
   "metadata": {},
   "outputs": [
    {
     "data": {
      "text/html": [
       "<div>\n",
       "<style scoped>\n",
       "    .dataframe tbody tr th:only-of-type {\n",
       "        vertical-align: middle;\n",
       "    }\n",
       "\n",
       "    .dataframe tbody tr th {\n",
       "        vertical-align: top;\n",
       "    }\n",
       "\n",
       "    .dataframe thead th {\n",
       "        text-align: right;\n",
       "    }\n",
       "</style>\n",
       "<table border=\"1\" class=\"dataframe\">\n",
       "  <thead>\n",
       "    <tr style=\"text-align: right;\">\n",
       "      <th></th>\n",
       "      <th></th>\n",
       "      <th>Price per Unit</th>\n",
       "    </tr>\n",
       "    <tr>\n",
       "      <th>PREMIUM_CUSTOMER</th>\n",
       "      <th>LIFESTAGE</th>\n",
       "      <th></th>\n",
       "    </tr>\n",
       "  </thead>\n",
       "  <tbody>\n",
       "    <tr>\n",
       "      <th rowspan=\"3\" valign=\"top\">Mainstream</th>\n",
       "      <th>YOUNG SINGLES/COUPLES</th>\n",
       "      <td>4.074043</td>\n",
       "    </tr>\n",
       "    <tr>\n",
       "      <th>MIDAGE SINGLES/COUPLES</th>\n",
       "      <td>3.994449</td>\n",
       "    </tr>\n",
       "    <tr>\n",
       "      <th>NEW FAMILIES</th>\n",
       "      <td>3.935887</td>\n",
       "    </tr>\n",
       "    <tr>\n",
       "      <th rowspan=\"2\" valign=\"top\">Budget</th>\n",
       "      <th>RETIREES</th>\n",
       "      <td>3.932731</td>\n",
       "    </tr>\n",
       "    <tr>\n",
       "      <th>NEW FAMILIES</th>\n",
       "      <td>3.931969</td>\n",
       "    </tr>\n",
       "  </tbody>\n",
       "</table>\n",
       "</div>"
      ],
      "text/plain": [
       "                                         Price per Unit\n",
       "PREMIUM_CUSTOMER LIFESTAGE                             \n",
       "Mainstream       YOUNG SINGLES/COUPLES         4.074043\n",
       "                 MIDAGE SINGLES/COUPLES        3.994449\n",
       "                 NEW FAMILIES                  3.935887\n",
       "Budget           RETIREES                      3.932731\n",
       "                 NEW FAMILIES                  3.931969"
      ]
     },
     "execution_count": 182,
     "metadata": {},
     "output_type": "execute_result"
    }
   ],
   "source": [
    "# Average price per unit by PREMIUM_CUSTOMER and LIFESTAGE\n",
    "\n",
    "avg_price = combineData.groupby(['PREMIUM_CUSTOMER', 'LIFESTAGE']).TOT_SALES.sum() / combineData.groupby(['PREMIUM_CUSTOMER', 'LIFESTAGE']).PROD_QTY.sum()\n",
    "avg_price = pd.DataFrame(avg_price, columns = {'Price per Unit'})\n",
    "avg_price.sort_values(by = 'Price per Unit', ascending = False).head()"
   ]
  },
  {
   "cell_type": "code",
   "execution_count": 183,
   "id": "4aba5c51-8fa7-4adc-a8c7-7ac475dfa673",
   "metadata": {},
   "outputs": [
    {
     "data": {
      "text/plain": [
       "<matplotlib.legend.Legend at 0x7f509cd829d0>"
      ]
     },
     "execution_count": 183,
     "metadata": {},
     "output_type": "execute_result"
    },
    {
     "data": {
      "image/png": "[encoded data removed]",
      "text/plain": [
       "<Figure size 864x504 with 1 Axes>"
      ]
     },
     "metadata": {
      "needs_background": "light"
     },
     "output_type": "display_data"
    }
   ],
   "source": [
    "# Visualise \n",
    "\n",
    "avgPricePlot = pd.DataFrame(combineData.groupby(['LIFESTAGE', 'PREMIUM_CUSTOMER']).TOT_SALES.sum() / combineData.groupby(['LIFESTAGE', 'PREMIUM_CUSTOMER']).PROD_QTY.sum())\n",
    "avgPricePlot.unstack().plot(kind = 'bar', figsize = (12, 7), title = 'Average Price by Customer Segment', ylim = (0, 6))\n",
    "plt.ylabel('Average Price')\n",
    "plt.legend(['Budget', 'Mainstream', 'Premium'], loc = 2)"
   ]
  },
  {
   "cell_type": "markdown",
   "id": "480353f7-032a-45af-8c9c-4f7db41f33b9",
   "metadata": {},
   "source": [
    "\n",
    "Mainstream mid-age and young singles and couples are more willing to pay more per packet of chips compared to their budget and premium counterparts. This may be due to premium shoppers being more likely to buy healthy snacks and when they do buy chips, it is mainly for entertainment purposes rather than their own consumption. This is also supported by there being fewer premium midage and young singles and couples buying chips compared to their mainstream counterparts."
   ]
  },
  {
   "cell_type": "code",
   "execution_count": 184,
   "id": "c34d004d-4606-4a68-b1c8-0e5704ca6ab2",
   "metadata": {},
   "outputs": [
    {
     "data": {
      "text/html": [
       "<div>\n",
       "<style scoped>\n",
       "    .dataframe tbody tr th:only-of-type {\n",
       "        vertical-align: middle;\n",
       "    }\n",
       "\n",
       "    .dataframe tbody tr th {\n",
       "        vertical-align: top;\n",
       "    }\n",
       "\n",
       "    .dataframe thead th {\n",
       "        text-align: right;\n",
       "    }\n",
       "</style>\n",
       "<table border=\"1\" class=\"dataframe\">\n",
       "  <thead>\n",
       "    <tr style=\"text-align: right;\">\n",
       "      <th></th>\n",
       "      <th>DATE</th>\n",
       "      <th>STORE_NBR</th>\n",
       "      <th>LYLTY_CARD_NBR</th>\n",
       "      <th>TXN_ID</th>\n",
       "      <th>PROD_NBR</th>\n",
       "      <th>PROD_NAME</th>\n",
       "      <th>PROD_QTY</th>\n",
       "      <th>TOT_SALES</th>\n",
       "      <th>PACK_SIZE</th>\n",
       "      <th>BRAND</th>\n",
       "      <th>LIFESTAGE</th>\n",
       "      <th>PREMIUM_CUSTOMER</th>\n",
       "      <th>PRICE</th>\n",
       "    </tr>\n",
       "  </thead>\n",
       "  <tbody>\n",
       "    <tr>\n",
       "      <th>0</th>\n",
       "      <td>2018-10-17</td>\n",
       "      <td>1</td>\n",
       "      <td>1000</td>\n",
       "      <td>1</td>\n",
       "      <td>5</td>\n",
       "      <td>Natural Chip        Compny Seasalt</td>\n",
       "      <td>2</td>\n",
       "      <td>6.0</td>\n",
       "      <td>175</td>\n",
       "      <td>Natural</td>\n",
       "      <td>YOUNG SINGLES/COUPLES</td>\n",
       "      <td>Premium</td>\n",
       "      <td>3.00</td>\n",
       "    </tr>\n",
       "    <tr>\n",
       "      <th>1</th>\n",
       "      <td>2019-05-14</td>\n",
       "      <td>1</td>\n",
       "      <td>1307</td>\n",
       "      <td>348</td>\n",
       "      <td>66</td>\n",
       "      <td>Ccs Nacho Cheese</td>\n",
       "      <td>3</td>\n",
       "      <td>6.3</td>\n",
       "      <td>175</td>\n",
       "      <td>CCS</td>\n",
       "      <td>MIDAGE SINGLES/COUPLES</td>\n",
       "      <td>Budget</td>\n",
       "      <td>2.10</td>\n",
       "    </tr>\n",
       "    <tr>\n",
       "      <th>2</th>\n",
       "      <td>2018-11-10</td>\n",
       "      <td>1</td>\n",
       "      <td>1307</td>\n",
       "      <td>346</td>\n",
       "      <td>96</td>\n",
       "      <td>Ww Original Stacked Chips</td>\n",
       "      <td>2</td>\n",
       "      <td>3.8</td>\n",
       "      <td>160</td>\n",
       "      <td>Woolworths</td>\n",
       "      <td>MIDAGE SINGLES/COUPLES</td>\n",
       "      <td>Budget</td>\n",
       "      <td>1.90</td>\n",
       "    </tr>\n",
       "    <tr>\n",
       "      <th>3</th>\n",
       "      <td>2019-03-09</td>\n",
       "      <td>1</td>\n",
       "      <td>1307</td>\n",
       "      <td>347</td>\n",
       "      <td>54</td>\n",
       "      <td>Ccs Original</td>\n",
       "      <td>1</td>\n",
       "      <td>2.1</td>\n",
       "      <td>175</td>\n",
       "      <td>CCS</td>\n",
       "      <td>MIDAGE SINGLES/COUPLES</td>\n",
       "      <td>Budget</td>\n",
       "      <td>2.10</td>\n",
       "    </tr>\n",
       "    <tr>\n",
       "      <th>4</th>\n",
       "      <td>2019-05-20</td>\n",
       "      <td>1</td>\n",
       "      <td>1343</td>\n",
       "      <td>383</td>\n",
       "      <td>61</td>\n",
       "      <td>Smiths Crinkle Cut  Chips Chicken</td>\n",
       "      <td>2</td>\n",
       "      <td>2.9</td>\n",
       "      <td>170</td>\n",
       "      <td>Smiths</td>\n",
       "      <td>MIDAGE SINGLES/COUPLES</td>\n",
       "      <td>Budget</td>\n",
       "      <td>1.45</td>\n",
       "    </tr>\n",
       "  </tbody>\n",
       "</table>\n",
       "</div>"
      ],
      "text/plain": [
       "        DATE  STORE_NBR  LYLTY_CARD_NBR  TXN_ID  PROD_NBR  \\\n",
       "0 2018-10-17          1            1000       1         5   \n",
       "1 2019-05-14          1            1307     348        66   \n",
       "2 2018-11-10          1            1307     346        96   \n",
       "3 2019-03-09          1            1307     347        54   \n",
       "4 2019-05-20          1            1343     383        61   \n",
       "\n",
       "                             PROD_NAME  PROD_QTY  TOT_SALES  PACK_SIZE  \\\n",
       "0  Natural Chip        Compny Seasalt          2        6.0        175   \n",
       "1                Ccs Nacho Cheese              3        6.3        175   \n",
       "2          Ww Original Stacked Chips           2        3.8        160   \n",
       "3                       Ccs Original           1        2.1        175   \n",
       "4  Smiths Crinkle Cut  Chips Chicken           2        2.9        170   \n",
       "\n",
       "        BRAND               LIFESTAGE PREMIUM_CUSTOMER  PRICE  \n",
       "0     Natural   YOUNG SINGLES/COUPLES          Premium   3.00  \n",
       "1         CCS  MIDAGE SINGLES/COUPLES           Budget   2.10  \n",
       "2  Woolworths  MIDAGE SINGLES/COUPLES           Budget   1.90  \n",
       "3         CCS  MIDAGE SINGLES/COUPLES           Budget   2.10  \n",
       "4      Smiths  MIDAGE SINGLES/COUPLES           Budget   1.45  "
      ]
     },
     "execution_count": 184,
     "metadata": {},
     "output_type": "execute_result"
    }
   ],
   "source": [
    "# Perform an independent t-test between mainstream vs non-mainstream midage and young singles/couples to test this difference\n",
    "\n",
    "# Create a new dataframe pricePerUnit\n",
    "pricePerUnit = combineData\n",
    "\n",
    "# Create a new column under pricePerUnit called PRICE\n",
    "pricePerUnit['PRICE'] = pricePerUnit['TOT_SALES'] / pricePerUnit['PROD_QTY']\n",
    "\n",
    "# Let's have a look\n",
    "pricePerUnit.head()"
   ]
  },
  {
   "cell_type": "code",
   "execution_count": 185,
   "id": "742d90a2-37b0-4e00-b3cf-2c3e4689aff3",
   "metadata": {},
   "outputs": [],
   "source": [
    "# Let's group our data into mainstream and non-mainstream\n",
    "\n",
    "mainstream = pricePerUnit.loc[(pricePerUnit['PREMIUM_CUSTOMER'] == 'Mainstream') & ( (pricePerUnit['LIFESTAGE'] == 'YOUNG SINGLES/COUPLES') | (pricePerUnit['LIFESTAGE'] == 'MIDAGE SINGLES/COUPLES') ), 'PRICE']\n",
    "nonMainstream = pricePerUnit.loc[(pricePerUnit['PREMIUM_CUSTOMER'] != 'Mainstream') & ( (pricePerUnit['LIFESTAGE'] == 'YOUNG SINGLES/COUPLES') | (pricePerUnit['LIFESTAGE'] == 'MIDAGE SINGLES/COUPLES') ), 'PRICE']"
   ]
  },
  {
   "cell_type": "code",
   "execution_count": 186,
   "id": "60b9faf8-829a-43b4-a30e-605181e007f2",
   "metadata": {},
   "outputs": [
    {
     "data": {
      "text/plain": [
       "Text(0.5, 0, 'Price per Unit')"
      ]
     },
     "execution_count": 186,
     "metadata": {},
     "output_type": "execute_result"
    },
    {
     "data": {
      "image/png": "[encoded data removed]",
      "text/plain": [
       "<Figure size 720x360 with 1 Axes>"
      ]
     },
     "metadata": {
      "needs_background": "light"
     },
     "output_type": "display_data"
    }
   ],
   "source": [
    "# Compare histograms of mainstream and non-mainstream customers\n",
    "\n",
    "plt.figure(figsize = (10, 5))\n",
    "plt.hist(mainstream, label = 'Mainstream')\n",
    "plt.hist(nonMainstream, label = 'Premium & Budget')\n",
    "plt.legend()\n",
    "plt.xlabel('Price per Unit')"
   ]
  },
  {
   "cell_type": "code",
   "execution_count": 187,
   "id": "e07a1066-2f63-45f4-828d-14b806a9b180",
   "metadata": {},
   "outputs": [
    {
     "name": "stdout",
     "output_type": "stream",
     "text": [
      "Mainstream average price per unit: $4.04\n",
      "Non-mainstream average price per unit: $3.71\n",
      "Mainstream customers have higher average price per unit. \n"
     ]
    }
   ],
   "source": [
    "print(\"Mainstream average price per unit: ${:.2f}\".format(np.mean(mainstream)))\n",
    "print(\"Non-mainstream average price per unit: ${:.2f}\".format(np.mean(nonMainstream)))\n",
    "if np.mean(mainstream) > np.mean(nonMainstream):\n",
    "    print(\"Mainstream customers have higher average price per unit. \")\n",
    "else:\n",
    "    print(\"Non-mainstream customers have a higher average price per unit. \")"
   ]
  },
  {
   "cell_type": "code",
   "execution_count": 188,
   "id": "2f6bfabe-f994-4d20-9065-e4e972b0afc4",
   "metadata": {},
   "outputs": [
    {
     "data": {
      "text/plain": [
       "Ttest_indResult(statistic=37.83196107667825, pvalue=2.235645611540966e-309)"
      ]
     },
     "execution_count": 188,
     "metadata": {},
     "output_type": "execute_result"
    }
   ],
   "source": [
    "# Perform t-test \n",
    "\n",
    "ttest_ind(mainstream, nonMainstream)"
   ]
  },
  {
   "cell_type": "markdown",
   "id": "4918dcbf-ba56-456a-bd87-ad0780c54498",
   "metadata": {},
   "source": [
    "Mainstream customers have higher average price per unit than that of non-mainstream customers."
   ]
  },
  {
   "cell_type": "markdown",
   "id": "bd8def6e-814e-4e74-bb9e-5bac069bbd2f",
   "metadata": {},
   "source": [
    "I have found quite a few interesting insights that we can dive deeper into. For example, we might want to target customers segments that contribute the most to sales to retain them to further increase sales. Let's examine mainstream young singles/couples against the rest of the cutomer segments to see if they prefer any particular brand of chips."
   ]
  },
  {
   "cell_type": "code",
   "execution_count": 189,
   "id": "07d5a2cc-a976-48e9-a4f4-4ee0d8f2baf2",
   "metadata": {},
   "outputs": [
    {
     "data": {
      "text/html": [
       "<div>\n",
       "<style scoped>\n",
       "    .dataframe tbody tr th:only-of-type {\n",
       "        vertical-align: middle;\n",
       "    }\n",
       "\n",
       "    .dataframe tbody tr th {\n",
       "        vertical-align: top;\n",
       "    }\n",
       "\n",
       "    .dataframe thead th {\n",
       "        text-align: right;\n",
       "    }\n",
       "</style>\n",
       "<table border=\"1\" class=\"dataframe\">\n",
       "  <thead>\n",
       "    <tr style=\"text-align: right;\">\n",
       "      <th></th>\n",
       "      <th>DATE</th>\n",
       "      <th>STORE_NBR</th>\n",
       "      <th>LYLTY_CARD_NBR</th>\n",
       "      <th>TXN_ID</th>\n",
       "      <th>PROD_NBR</th>\n",
       "      <th>PROD_NAME</th>\n",
       "      <th>PROD_QTY</th>\n",
       "      <th>TOT_SALES</th>\n",
       "      <th>PACK_SIZE</th>\n",
       "      <th>BRAND</th>\n",
       "      <th>LIFESTAGE</th>\n",
       "      <th>PREMIUM_CUSTOMER</th>\n",
       "      <th>PRICE</th>\n",
       "    </tr>\n",
       "  </thead>\n",
       "  <tbody>\n",
       "    <tr>\n",
       "      <th>221345</th>\n",
       "      <td>2018-08-16</td>\n",
       "      <td>1</td>\n",
       "      <td>1020</td>\n",
       "      <td>26</td>\n",
       "      <td>19</td>\n",
       "      <td>Smiths Crinkle Cut  Snag Sauce</td>\n",
       "      <td>1</td>\n",
       "      <td>2.6</td>\n",
       "      <td>150</td>\n",
       "      <td>Smiths</td>\n",
       "      <td>YOUNG SINGLES/COUPLES</td>\n",
       "      <td>Mainstream</td>\n",
       "      <td>2.6</td>\n",
       "    </tr>\n",
       "    <tr>\n",
       "      <th>221346</th>\n",
       "      <td>2018-10-02</td>\n",
       "      <td>1</td>\n",
       "      <td>1020</td>\n",
       "      <td>27</td>\n",
       "      <td>7</td>\n",
       "      <td>Smiths Crinkle      Original</td>\n",
       "      <td>1</td>\n",
       "      <td>5.7</td>\n",
       "      <td>330</td>\n",
       "      <td>Smiths</td>\n",
       "      <td>YOUNG SINGLES/COUPLES</td>\n",
       "      <td>Mainstream</td>\n",
       "      <td>5.7</td>\n",
       "    </tr>\n",
       "    <tr>\n",
       "      <th>221347</th>\n",
       "      <td>2019-05-02</td>\n",
       "      <td>1</td>\n",
       "      <td>1020</td>\n",
       "      <td>28</td>\n",
       "      <td>84</td>\n",
       "      <td>Grnwves Plus Btroot   Chilli Jam</td>\n",
       "      <td>1</td>\n",
       "      <td>3.1</td>\n",
       "      <td>180</td>\n",
       "      <td>Grainwaves</td>\n",
       "      <td>YOUNG SINGLES/COUPLES</td>\n",
       "      <td>Mainstream</td>\n",
       "      <td>3.1</td>\n",
       "    </tr>\n",
       "    <tr>\n",
       "      <th>221348</th>\n",
       "      <td>2018-08-17</td>\n",
       "      <td>1</td>\n",
       "      <td>1163</td>\n",
       "      <td>188</td>\n",
       "      <td>46</td>\n",
       "      <td>Kettle Original</td>\n",
       "      <td>1</td>\n",
       "      <td>5.4</td>\n",
       "      <td>175</td>\n",
       "      <td>Kettle</td>\n",
       "      <td>YOUNG SINGLES/COUPLES</td>\n",
       "      <td>Mainstream</td>\n",
       "      <td>5.4</td>\n",
       "    </tr>\n",
       "    <tr>\n",
       "      <th>221349</th>\n",
       "      <td>2019-02-07</td>\n",
       "      <td>1</td>\n",
       "      <td>1163</td>\n",
       "      <td>189</td>\n",
       "      <td>12</td>\n",
       "      <td>Natural Chip Co     Tmato Hrb Spce</td>\n",
       "      <td>1</td>\n",
       "      <td>3.0</td>\n",
       "      <td>175</td>\n",
       "      <td>Natural</td>\n",
       "      <td>YOUNG SINGLES/COUPLES</td>\n",
       "      <td>Mainstream</td>\n",
       "      <td>3.0</td>\n",
       "    </tr>\n",
       "  </tbody>\n",
       "</table>\n",
       "</div>"
      ],
      "text/plain": [
       "             DATE  STORE_NBR  LYLTY_CARD_NBR  TXN_ID  PROD_NBR  \\\n",
       "221345 2018-08-16          1            1020      26        19   \n",
       "221346 2018-10-02          1            1020      27         7   \n",
       "221347 2019-05-02          1            1020      28        84   \n",
       "221348 2018-08-17          1            1163     188        46   \n",
       "221349 2019-02-07          1            1163     189        12   \n",
       "\n",
       "                                   PROD_NAME  PROD_QTY  TOT_SALES  PACK_SIZE  \\\n",
       "221345      Smiths Crinkle Cut  Snag Sauce           1        2.6        150   \n",
       "221346        Smiths Crinkle      Original           1        5.7        330   \n",
       "221347    Grnwves Plus Btroot   Chilli Jam           1        3.1        180   \n",
       "221348                     Kettle Original           1        5.4        175   \n",
       "221349  Natural Chip Co     Tmato Hrb Spce           1        3.0        175   \n",
       "\n",
       "             BRAND              LIFESTAGE PREMIUM_CUSTOMER  PRICE  \n",
       "221345      Smiths  YOUNG SINGLES/COUPLES       Mainstream    2.6  \n",
       "221346      Smiths  YOUNG SINGLES/COUPLES       Mainstream    5.7  \n",
       "221347  Grainwaves  YOUNG SINGLES/COUPLES       Mainstream    3.1  \n",
       "221348      Kettle  YOUNG SINGLES/COUPLES       Mainstream    5.4  \n",
       "221349     Natural  YOUNG SINGLES/COUPLES       Mainstream    3.0  "
      ]
     },
     "execution_count": 189,
     "metadata": {},
     "output_type": "execute_result"
    }
   ],
   "source": [
    "target = combineData.loc[(combineData['LIFESTAGE'] == 'YOUNG SINGLES/COUPLES') & (combineData['PREMIUM_CUSTOMER'] == 'Mainstream'), :]\n",
    "nonTarget = combineData.loc[(combineData['LIFESTAGE'] != 'YOUNG SINGLES/COUPLES' ) & (combineData['PREMIUM_CUSTOMER'] != 'Mainstream'), :]\n",
    "target.head()"
   ]
  },
  {
   "cell_type": "code",
   "execution_count": 190,
   "id": "ea459c9c-a992-4d5a-912f-13549178d87c",
   "metadata": {},
   "outputs": [
    {
     "data": {
      "text/plain": [
       "(19544, 13)"
      ]
     },
     "execution_count": 190,
     "metadata": {},
     "output_type": "execute_result"
    }
   ],
   "source": [
    "target.shape"
   ]
  },
  {
   "cell_type": "markdown",
   "id": "0d8dcc62-fe99-4551-be81-34666666cfea",
   "metadata": {},
   "source": [
    "## Affinity to brand"
   ]
  },
  {
   "cell_type": "code",
   "execution_count": 191,
   "id": "d5edb21f-d617-4db9-a712-acf27ae8a193",
   "metadata": {},
   "outputs": [],
   "source": [
    "# Target Segment\n",
    "targetBrand = target.loc[:, ['BRAND', 'PROD_QTY']]\n",
    "targetSum = targetBrand['PROD_QTY'].sum()\n",
    "targetBrand['Target Brand Affinity'] = targetBrand['PROD_QTY'] / targetSum\n",
    "targetBrand = pd.DataFrame(targetBrand.groupby('BRAND')['Target Brand Affinity'].sum())\n",
    "\n",
    "# Non-target segment\n",
    "nonTargetBrand = nonTarget.loc[:, ['BRAND', 'PROD_QTY']]\n",
    "nonTargetSum = nonTargetBrand['PROD_QTY'].sum()\n",
    "nonTargetBrand['Non-Target Brand Affinity'] = nonTargetBrand['PROD_QTY'] / nonTargetSum\n",
    "nonTargetBrand = pd.DataFrame(nonTargetBrand.groupby('BRAND')['Non-Target Brand Affinity'].sum())"
   ]
  },
  {
   "cell_type": "code",
   "execution_count": 192,
   "id": "d6d7776f-7fe0-4fbc-b2e2-b74712ac4611",
   "metadata": {},
   "outputs": [
    {
     "data": {
      "text/html": [
       "<div>\n",
       "<style scoped>\n",
       "    .dataframe tbody tr th:only-of-type {\n",
       "        vertical-align: middle;\n",
       "    }\n",
       "\n",
       "    .dataframe tbody tr th {\n",
       "        vertical-align: top;\n",
       "    }\n",
       "\n",
       "    .dataframe thead th {\n",
       "        text-align: right;\n",
       "    }\n",
       "</style>\n",
       "<table border=\"1\" class=\"dataframe\">\n",
       "  <thead>\n",
       "    <tr style=\"text-align: right;\">\n",
       "      <th></th>\n",
       "      <th>Target Brand Affinity</th>\n",
       "      <th>Non-Target Brand Affinity</th>\n",
       "    </tr>\n",
       "    <tr>\n",
       "      <th>BRAND</th>\n",
       "      <th></th>\n",
       "      <th></th>\n",
       "    </tr>\n",
       "  </thead>\n",
       "  <tbody>\n",
       "    <tr>\n",
       "      <th>Burger</th>\n",
       "      <td>0.002926</td>\n",
       "      <td>0.006538</td>\n",
       "    </tr>\n",
       "    <tr>\n",
       "      <th>CCS</th>\n",
       "      <td>0.011180</td>\n",
       "      <td>0.018445</td>\n",
       "    </tr>\n",
       "    <tr>\n",
       "      <th>Cheetos</th>\n",
       "      <td>0.008033</td>\n",
       "      <td>0.011759</td>\n",
       "    </tr>\n",
       "    <tr>\n",
       "      <th>Cheezels</th>\n",
       "      <td>0.017971</td>\n",
       "      <td>0.018904</td>\n",
       "    </tr>\n",
       "    <tr>\n",
       "      <th>Cobs</th>\n",
       "      <td>0.044638</td>\n",
       "      <td>0.038449</td>\n",
       "    </tr>\n",
       "  </tbody>\n",
       "</table>\n",
       "</div>"
      ],
      "text/plain": [
       "          Target Brand Affinity  Non-Target Brand Affinity\n",
       "BRAND                                                     \n",
       "Burger                 0.002926                   0.006538\n",
       "CCS                    0.011180                   0.018445\n",
       "Cheetos                0.008033                   0.011759\n",
       "Cheezels               0.017971                   0.018904\n",
       "Cobs                   0.044638                   0.038449"
      ]
     },
     "execution_count": 192,
     "metadata": {},
     "output_type": "execute_result"
    }
   ],
   "source": [
    "# Merge the two dataframes together\n",
    "\n",
    "brand_proportions = pd.merge(targetBrand, nonTargetBrand, left_index = True, right_index = True)\n",
    "brand_proportions.head()"
   ]
  },
  {
   "cell_type": "code",
   "execution_count": 193,
   "id": "18436d48-3e40-4b25-b4fb-a2f6ad300873",
   "metadata": {},
   "outputs": [
    {
     "data": {
      "text/html": [
       "<div>\n",
       "<style scoped>\n",
       "    .dataframe tbody tr th:only-of-type {\n",
       "        vertical-align: middle;\n",
       "    }\n",
       "\n",
       "    .dataframe tbody tr th {\n",
       "        vertical-align: top;\n",
       "    }\n",
       "\n",
       "    .dataframe thead th {\n",
       "        text-align: right;\n",
       "    }\n",
       "</style>\n",
       "<table border=\"1\" class=\"dataframe\">\n",
       "  <thead>\n",
       "    <tr style=\"text-align: right;\">\n",
       "      <th></th>\n",
       "      <th>Target Brand Affinity</th>\n",
       "      <th>Non-Target Brand Affinity</th>\n",
       "      <th>Affinity to Brand</th>\n",
       "    </tr>\n",
       "    <tr>\n",
       "      <th>BRAND</th>\n",
       "      <th></th>\n",
       "      <th></th>\n",
       "      <th></th>\n",
       "    </tr>\n",
       "  </thead>\n",
       "  <tbody>\n",
       "    <tr>\n",
       "      <th>Tyrrells</th>\n",
       "      <td>0.031553</td>\n",
       "      <td>0.025715</td>\n",
       "      <td>1.227025</td>\n",
       "    </tr>\n",
       "    <tr>\n",
       "      <th>Twisties</th>\n",
       "      <td>0.046184</td>\n",
       "      <td>0.037933</td>\n",
       "      <td>1.217506</td>\n",
       "    </tr>\n",
       "    <tr>\n",
       "      <th>Doritos</th>\n",
       "      <td>0.122761</td>\n",
       "      <td>0.101171</td>\n",
       "      <td>1.213397</td>\n",
       "    </tr>\n",
       "    <tr>\n",
       "      <th>Kettle</th>\n",
       "      <td>0.197985</td>\n",
       "      <td>0.166560</td>\n",
       "      <td>1.188667</td>\n",
       "    </tr>\n",
       "    <tr>\n",
       "      <th>Tostitos</th>\n",
       "      <td>0.045411</td>\n",
       "      <td>0.038350</td>\n",
       "      <td>1.184100</td>\n",
       "    </tr>\n",
       "    <tr>\n",
       "      <th>Pringles</th>\n",
       "      <td>0.119420</td>\n",
       "      <td>0.101110</td>\n",
       "      <td>1.181090</td>\n",
       "    </tr>\n",
       "    <tr>\n",
       "      <th>Cobs</th>\n",
       "      <td>0.044638</td>\n",
       "      <td>0.038449</td>\n",
       "      <td>1.160959</td>\n",
       "    </tr>\n",
       "    <tr>\n",
       "      <th>Infuzions</th>\n",
       "      <td>0.064679</td>\n",
       "      <td>0.057410</td>\n",
       "      <td>1.126622</td>\n",
       "    </tr>\n",
       "    <tr>\n",
       "      <th>Thins</th>\n",
       "      <td>0.060373</td>\n",
       "      <td>0.057159</td>\n",
       "      <td>1.056217</td>\n",
       "    </tr>\n",
       "    <tr>\n",
       "      <th>Grainwaves</th>\n",
       "      <td>0.032712</td>\n",
       "      <td>0.031069</td>\n",
       "      <td>1.052895</td>\n",
       "    </tr>\n",
       "    <tr>\n",
       "      <th>Cheezels</th>\n",
       "      <td>0.017971</td>\n",
       "      <td>0.018904</td>\n",
       "      <td>0.950653</td>\n",
       "    </tr>\n",
       "    <tr>\n",
       "      <th>Smiths</th>\n",
       "      <td>0.096370</td>\n",
       "      <td>0.124218</td>\n",
       "      <td>0.775811</td>\n",
       "    </tr>\n",
       "    <tr>\n",
       "      <th>French</th>\n",
       "      <td>0.003948</td>\n",
       "      <td>0.005707</td>\n",
       "      <td>0.691724</td>\n",
       "    </tr>\n",
       "    <tr>\n",
       "      <th>Cheetos</th>\n",
       "      <td>0.008033</td>\n",
       "      <td>0.011759</td>\n",
       "      <td>0.683150</td>\n",
       "    </tr>\n",
       "    <tr>\n",
       "      <th>Red Rock Deli</th>\n",
       "      <td>0.043810</td>\n",
       "      <td>0.067184</td>\n",
       "      <td>0.652080</td>\n",
       "    </tr>\n",
       "    <tr>\n",
       "      <th>Natural</th>\n",
       "      <td>0.019600</td>\n",
       "      <td>0.030959</td>\n",
       "      <td>0.633091</td>\n",
       "    </tr>\n",
       "    <tr>\n",
       "      <th>CCS</th>\n",
       "      <td>0.011180</td>\n",
       "      <td>0.018445</td>\n",
       "      <td>0.606142</td>\n",
       "    </tr>\n",
       "    <tr>\n",
       "      <th>Sunbites</th>\n",
       "      <td>0.006349</td>\n",
       "      <td>0.012613</td>\n",
       "      <td>0.503398</td>\n",
       "    </tr>\n",
       "    <tr>\n",
       "      <th>Woolworths</th>\n",
       "      <td>0.024099</td>\n",
       "      <td>0.048747</td>\n",
       "      <td>0.494376</td>\n",
       "    </tr>\n",
       "    <tr>\n",
       "      <th>Burger</th>\n",
       "      <td>0.002926</td>\n",
       "      <td>0.006538</td>\n",
       "      <td>0.447574</td>\n",
       "    </tr>\n",
       "  </tbody>\n",
       "</table>\n",
       "</div>"
      ],
      "text/plain": [
       "               Target Brand Affinity  Non-Target Brand Affinity  \\\n",
       "BRAND                                                             \n",
       "Tyrrells                    0.031553                   0.025715   \n",
       "Twisties                    0.046184                   0.037933   \n",
       "Doritos                     0.122761                   0.101171   \n",
       "Kettle                      0.197985                   0.166560   \n",
       "Tostitos                    0.045411                   0.038350   \n",
       "Pringles                    0.119420                   0.101110   \n",
       "Cobs                        0.044638                   0.038449   \n",
       "Infuzions                   0.064679                   0.057410   \n",
       "Thins                       0.060373                   0.057159   \n",
       "Grainwaves                  0.032712                   0.031069   \n",
       "Cheezels                    0.017971                   0.018904   \n",
       "Smiths                      0.096370                   0.124218   \n",
       "French                      0.003948                   0.005707   \n",
       "Cheetos                     0.008033                   0.011759   \n",
       "Red Rock Deli               0.043810                   0.067184   \n",
       "Natural                     0.019600                   0.030959   \n",
       "CCS                         0.011180                   0.018445   \n",
       "Sunbites                    0.006349                   0.012613   \n",
       "Woolworths                  0.024099                   0.048747   \n",
       "Burger                      0.002926                   0.006538   \n",
       "\n",
       "               Affinity to Brand  \n",
       "BRAND                             \n",
       "Tyrrells                1.227025  \n",
       "Twisties                1.217506  \n",
       "Doritos                 1.213397  \n",
       "Kettle                  1.188667  \n",
       "Tostitos                1.184100  \n",
       "Pringles                1.181090  \n",
       "Cobs                    1.160959  \n",
       "Infuzions               1.126622  \n",
       "Thins                   1.056217  \n",
       "Grainwaves              1.052895  \n",
       "Cheezels                0.950653  \n",
       "Smiths                  0.775811  \n",
       "French                  0.691724  \n",
       "Cheetos                 0.683150  \n",
       "Red Rock Deli           0.652080  \n",
       "Natural                 0.633091  \n",
       "CCS                     0.606142  \n",
       "Sunbites                0.503398  \n",
       "Woolworths              0.494376  \n",
       "Burger                  0.447574  "
      ]
     },
     "execution_count": 193,
     "metadata": {},
     "output_type": "execute_result"
    }
   ],
   "source": [
    "brand_proportions['Affinity to Brand'] = brand_proportions['Target Brand Affinity'] / brand_proportions['Non-Target Brand Affinity']\n",
    "brand_proportions.sort_values(by = 'Affinity to Brand', ascending = False)"
   ]
  },
  {
   "cell_type": "markdown",
   "id": "7e8099d5-9b56-4ec1-84ff-d7d1fc41032e",
   "metadata": {},
   "source": [
    "Mainstream young singles/couples are more likely to purchase Tyrrells chips compared to other brands."
   ]
  },
  {
   "cell_type": "markdown",
   "id": "ecaddeae-8a06-48ce-9e9a-2ab4b164140d",
   "metadata": {},
   "source": [
    "## Affinity to pack size"
   ]
  },
  {
   "cell_type": "code",
   "execution_count": 194,
   "id": "ba0c6921-fa86-41c6-933f-8a1702b537ba",
   "metadata": {},
   "outputs": [],
   "source": [
    "# Target segment \n",
    "targetSize = target.loc[:, ['PACK_SIZE', 'PROD_QTY']]\n",
    "targetSum = targetSize['PROD_QTY'].sum()\n",
    "targetSize['Target Pack Affinity'] = targetSize['PROD_QTY'] / targetSum\n",
    "targetSize = pd.DataFrame(targetSize.groupby('PACK_SIZE')['Target Pack Affinity'].sum())\n",
    "\n",
    "# Non-target segment\n",
    "nonTargetSize = nonTarget.loc[:, ['PACK_SIZE', 'PROD_QTY']]\n",
    "nonTargetSum = nonTargetSize['PROD_QTY'].sum()\n",
    "nonTargetSize['Non-Target Pack Affinity'] = nonTargetSize['PROD_QTY'] / nonTargetSum\n",
    "nonTargetSize = pd.DataFrame(nonTargetSize.groupby('PACK_SIZE')['Non-Target Pack Affinity'].sum())"
   ]
  },
  {
   "cell_type": "code",
   "execution_count": 195,
   "id": "b774da32-55aa-4436-99fa-94ebc50b334a",
   "metadata": {},
   "outputs": [
    {
     "data": {
      "text/html": [
       "<div>\n",
       "<style scoped>\n",
       "    .dataframe tbody tr th:only-of-type {\n",
       "        vertical-align: middle;\n",
       "    }\n",
       "\n",
       "    .dataframe tbody tr th {\n",
       "        vertical-align: top;\n",
       "    }\n",
       "\n",
       "    .dataframe thead th {\n",
       "        text-align: right;\n",
       "    }\n",
       "</style>\n",
       "<table border=\"1\" class=\"dataframe\">\n",
       "  <thead>\n",
       "    <tr style=\"text-align: right;\">\n",
       "      <th></th>\n",
       "      <th>Target Pack Affinity</th>\n",
       "      <th>Non-Target Pack Affinity</th>\n",
       "    </tr>\n",
       "    <tr>\n",
       "      <th>PACK_SIZE</th>\n",
       "      <th></th>\n",
       "      <th></th>\n",
       "    </tr>\n",
       "  </thead>\n",
       "  <tbody>\n",
       "    <tr>\n",
       "      <th>70</th>\n",
       "      <td>0.003037</td>\n",
       "      <td>0.006284</td>\n",
       "    </tr>\n",
       "    <tr>\n",
       "      <th>90</th>\n",
       "      <td>0.006349</td>\n",
       "      <td>0.012613</td>\n",
       "    </tr>\n",
       "    <tr>\n",
       "      <th>110</th>\n",
       "      <td>0.106280</td>\n",
       "      <td>0.089575</td>\n",
       "    </tr>\n",
       "    <tr>\n",
       "      <th>125</th>\n",
       "      <td>0.003009</td>\n",
       "      <td>0.005976</td>\n",
       "    </tr>\n",
       "    <tr>\n",
       "      <th>134</th>\n",
       "      <td>0.119420</td>\n",
       "      <td>0.101110</td>\n",
       "    </tr>\n",
       "  </tbody>\n",
       "</table>\n",
       "</div>"
      ],
      "text/plain": [
       "           Target Pack Affinity  Non-Target Pack Affinity\n",
       "PACK_SIZE                                                \n",
       "70                     0.003037                  0.006284\n",
       "90                     0.006349                  0.012613\n",
       "110                    0.106280                  0.089575\n",
       "125                    0.003009                  0.005976\n",
       "134                    0.119420                  0.101110"
      ]
     },
     "execution_count": 195,
     "metadata": {},
     "output_type": "execute_result"
    }
   ],
   "source": [
    "# Merge the two dataframes together\n",
    "\n",
    "pack_proportions = pd.merge(targetSize, nonTargetSize, left_index = True, right_index = True)\n",
    "pack_proportions.head()"
   ]
  },
  {
   "cell_type": "code",
   "execution_count": 196,
   "id": "9b627d4f-9fc2-4450-a3c8-6b3f00fe06b0",
   "metadata": {},
   "outputs": [
    {
     "data": {
      "text/html": [
       "<div>\n",
       "<style scoped>\n",
       "    .dataframe tbody tr th:only-of-type {\n",
       "        vertical-align: middle;\n",
       "    }\n",
       "\n",
       "    .dataframe tbody tr th {\n",
       "        vertical-align: top;\n",
       "    }\n",
       "\n",
       "    .dataframe thead th {\n",
       "        text-align: right;\n",
       "    }\n",
       "</style>\n",
       "<table border=\"1\" class=\"dataframe\">\n",
       "  <thead>\n",
       "    <tr style=\"text-align: right;\">\n",
       "      <th></th>\n",
       "      <th>Target Pack Affinity</th>\n",
       "      <th>Non-Target Pack Affinity</th>\n",
       "      <th>Affinity to Pack</th>\n",
       "    </tr>\n",
       "    <tr>\n",
       "      <th>PACK_SIZE</th>\n",
       "      <th></th>\n",
       "      <th></th>\n",
       "      <th></th>\n",
       "    </tr>\n",
       "  </thead>\n",
       "  <tbody>\n",
       "    <tr>\n",
       "      <th>270</th>\n",
       "      <td>0.031829</td>\n",
       "      <td>0.025070</td>\n",
       "      <td>1.269608</td>\n",
       "    </tr>\n",
       "    <tr>\n",
       "      <th>380</th>\n",
       "      <td>0.032160</td>\n",
       "      <td>0.025711</td>\n",
       "      <td>1.250827</td>\n",
       "    </tr>\n",
       "    <tr>\n",
       "      <th>330</th>\n",
       "      <td>0.061284</td>\n",
       "      <td>0.050974</td>\n",
       "      <td>1.202243</td>\n",
       "    </tr>\n",
       "    <tr>\n",
       "      <th>110</th>\n",
       "      <td>0.106280</td>\n",
       "      <td>0.089575</td>\n",
       "      <td>1.186492</td>\n",
       "    </tr>\n",
       "    <tr>\n",
       "      <th>134</th>\n",
       "      <td>0.119420</td>\n",
       "      <td>0.101110</td>\n",
       "      <td>1.181090</td>\n",
       "    </tr>\n",
       "    <tr>\n",
       "      <th>210</th>\n",
       "      <td>0.029124</td>\n",
       "      <td>0.024891</td>\n",
       "      <td>1.170020</td>\n",
       "    </tr>\n",
       "    <tr>\n",
       "      <th>135</th>\n",
       "      <td>0.014769</td>\n",
       "      <td>0.012931</td>\n",
       "      <td>1.142086</td>\n",
       "    </tr>\n",
       "    <tr>\n",
       "      <th>250</th>\n",
       "      <td>0.014355</td>\n",
       "      <td>0.012863</td>\n",
       "      <td>1.115959</td>\n",
       "    </tr>\n",
       "    <tr>\n",
       "      <th>170</th>\n",
       "      <td>0.080773</td>\n",
       "      <td>0.080347</td>\n",
       "      <td>1.005300</td>\n",
       "    </tr>\n",
       "    <tr>\n",
       "      <th>150</th>\n",
       "      <td>0.157598</td>\n",
       "      <td>0.163070</td>\n",
       "      <td>0.966449</td>\n",
       "    </tr>\n",
       "    <tr>\n",
       "      <th>175</th>\n",
       "      <td>0.254990</td>\n",
       "      <td>0.271458</td>\n",
       "      <td>0.939335</td>\n",
       "    </tr>\n",
       "    <tr>\n",
       "      <th>165</th>\n",
       "      <td>0.055652</td>\n",
       "      <td>0.061587</td>\n",
       "      <td>0.903629</td>\n",
       "    </tr>\n",
       "    <tr>\n",
       "      <th>190</th>\n",
       "      <td>0.007481</td>\n",
       "      <td>0.012131</td>\n",
       "      <td>0.616696</td>\n",
       "    </tr>\n",
       "    <tr>\n",
       "      <th>180</th>\n",
       "      <td>0.003589</td>\n",
       "      <td>0.006177</td>\n",
       "      <td>0.580943</td>\n",
       "    </tr>\n",
       "    <tr>\n",
       "      <th>160</th>\n",
       "      <td>0.006404</td>\n",
       "      <td>0.012222</td>\n",
       "      <td>0.524013</td>\n",
       "    </tr>\n",
       "    <tr>\n",
       "      <th>125</th>\n",
       "      <td>0.003009</td>\n",
       "      <td>0.005976</td>\n",
       "      <td>0.503490</td>\n",
       "    </tr>\n",
       "    <tr>\n",
       "      <th>90</th>\n",
       "      <td>0.006349</td>\n",
       "      <td>0.012613</td>\n",
       "      <td>0.503398</td>\n",
       "    </tr>\n",
       "    <tr>\n",
       "      <th>200</th>\n",
       "      <td>0.008972</td>\n",
       "      <td>0.018471</td>\n",
       "      <td>0.485711</td>\n",
       "    </tr>\n",
       "    <tr>\n",
       "      <th>70</th>\n",
       "      <td>0.003037</td>\n",
       "      <td>0.006284</td>\n",
       "      <td>0.483256</td>\n",
       "    </tr>\n",
       "    <tr>\n",
       "      <th>220</th>\n",
       "      <td>0.002926</td>\n",
       "      <td>0.006538</td>\n",
       "      <td>0.447574</td>\n",
       "    </tr>\n",
       "  </tbody>\n",
       "</table>\n",
       "</div>"
      ],
      "text/plain": [
       "           Target Pack Affinity  Non-Target Pack Affinity  Affinity to Pack\n",
       "PACK_SIZE                                                                  \n",
       "270                    0.031829                  0.025070          1.269608\n",
       "380                    0.032160                  0.025711          1.250827\n",
       "330                    0.061284                  0.050974          1.202243\n",
       "110                    0.106280                  0.089575          1.186492\n",
       "134                    0.119420                  0.101110          1.181090\n",
       "210                    0.029124                  0.024891          1.170020\n",
       "135                    0.014769                  0.012931          1.142086\n",
       "250                    0.014355                  0.012863          1.115959\n",
       "170                    0.080773                  0.080347          1.005300\n",
       "150                    0.157598                  0.163070          0.966449\n",
       "175                    0.254990                  0.271458          0.939335\n",
       "165                    0.055652                  0.061587          0.903629\n",
       "190                    0.007481                  0.012131          0.616696\n",
       "180                    0.003589                  0.006177          0.580943\n",
       "160                    0.006404                  0.012222          0.524013\n",
       "125                    0.003009                  0.005976          0.503490\n",
       "90                     0.006349                  0.012613          0.503398\n",
       "200                    0.008972                  0.018471          0.485711\n",
       "70                     0.003037                  0.006284          0.483256\n",
       "220                    0.002926                  0.006538          0.447574"
      ]
     },
     "execution_count": 196,
     "metadata": {},
     "output_type": "execute_result"
    }
   ],
   "source": [
    "pack_proportions['Affinity to Pack'] = pack_proportions['Target Pack Affinity'] / pack_proportions['Non-Target Pack Affinity']\n",
    "pack_proportions.sort_values(by = 'Affinity to Pack', ascending = False)"
   ]
  },
  {
   "cell_type": "markdown",
   "id": "50c23560-2a24-4daa-99a8-1352f97f5436",
   "metadata": {},
   "source": [
    "It looks like mainstream singles/couples are more likely to purchase a 270g pack size compared to other pack sizes."
   ]
  },
  {
   "cell_type": "code",
   "execution_count": 197,
   "id": "58dd4e32-b1a1-43b5-be47-cc2844780ebe",
   "metadata": {},
   "outputs": [
    {
     "data": {
      "text/html": [
       "<div>\n",
       "<style scoped>\n",
       "    .dataframe tbody tr th:only-of-type {\n",
       "        vertical-align: middle;\n",
       "    }\n",
       "\n",
       "    .dataframe tbody tr th {\n",
       "        vertical-align: top;\n",
       "    }\n",
       "\n",
       "    .dataframe thead th {\n",
       "        text-align: right;\n",
       "    }\n",
       "</style>\n",
       "<table border=\"1\" class=\"dataframe\">\n",
       "  <thead>\n",
       "    <tr style=\"text-align: right;\">\n",
       "      <th></th>\n",
       "      <th>DATE</th>\n",
       "      <th>STORE_NBR</th>\n",
       "      <th>LYLTY_CARD_NBR</th>\n",
       "      <th>TXN_ID</th>\n",
       "      <th>PROD_NBR</th>\n",
       "      <th>PROD_NAME</th>\n",
       "      <th>PROD_QTY</th>\n",
       "      <th>TOT_SALES</th>\n",
       "      <th>PACK_SIZE</th>\n",
       "      <th>BRAND</th>\n",
       "      <th>LIFESTAGE</th>\n",
       "      <th>PREMIUM_CUSTOMER</th>\n",
       "      <th>PRICE</th>\n",
       "    </tr>\n",
       "  </thead>\n",
       "  <tbody>\n",
       "    <tr>\n",
       "      <th>34</th>\n",
       "      <td>2019-05-18</td>\n",
       "      <td>9</td>\n",
       "      <td>9208</td>\n",
       "      <td>8634</td>\n",
       "      <td>15</td>\n",
       "      <td>Twisties Cheese</td>\n",
       "      <td>2</td>\n",
       "      <td>9.2</td>\n",
       "      <td>270</td>\n",
       "      <td>Twisties</td>\n",
       "      <td>MIDAGE SINGLES/COUPLES</td>\n",
       "      <td>Budget</td>\n",
       "      <td>4.6</td>\n",
       "    </tr>\n",
       "    <tr>\n",
       "      <th>79</th>\n",
       "      <td>2018-08-24</td>\n",
       "      <td>39</td>\n",
       "      <td>39167</td>\n",
       "      <td>35639</td>\n",
       "      <td>113</td>\n",
       "      <td>Twisties Chicken</td>\n",
       "      <td>2</td>\n",
       "      <td>9.2</td>\n",
       "      <td>270</td>\n",
       "      <td>Twisties</td>\n",
       "      <td>MIDAGE SINGLES/COUPLES</td>\n",
       "      <td>Budget</td>\n",
       "      <td>4.6</td>\n",
       "    </tr>\n",
       "    <tr>\n",
       "      <th>125</th>\n",
       "      <td>2019-05-06</td>\n",
       "      <td>54</td>\n",
       "      <td>54305</td>\n",
       "      <td>48304</td>\n",
       "      <td>15</td>\n",
       "      <td>Twisties Cheese</td>\n",
       "      <td>2</td>\n",
       "      <td>9.2</td>\n",
       "      <td>270</td>\n",
       "      <td>Twisties</td>\n",
       "      <td>MIDAGE SINGLES/COUPLES</td>\n",
       "      <td>Budget</td>\n",
       "      <td>4.6</td>\n",
       "    </tr>\n",
       "    <tr>\n",
       "      <th>132</th>\n",
       "      <td>2019-05-20</td>\n",
       "      <td>55</td>\n",
       "      <td>55073</td>\n",
       "      <td>48887</td>\n",
       "      <td>113</td>\n",
       "      <td>Twisties Chicken</td>\n",
       "      <td>1</td>\n",
       "      <td>4.6</td>\n",
       "      <td>270</td>\n",
       "      <td>Twisties</td>\n",
       "      <td>MIDAGE SINGLES/COUPLES</td>\n",
       "      <td>Budget</td>\n",
       "      <td>4.6</td>\n",
       "    </tr>\n",
       "    <tr>\n",
       "      <th>209</th>\n",
       "      <td>2019-01-01</td>\n",
       "      <td>80</td>\n",
       "      <td>80182</td>\n",
       "      <td>78980</td>\n",
       "      <td>15</td>\n",
       "      <td>Twisties Cheese</td>\n",
       "      <td>2</td>\n",
       "      <td>9.2</td>\n",
       "      <td>270</td>\n",
       "      <td>Twisties</td>\n",
       "      <td>MIDAGE SINGLES/COUPLES</td>\n",
       "      <td>Budget</td>\n",
       "      <td>4.6</td>\n",
       "    </tr>\n",
       "    <tr>\n",
       "      <th>252</th>\n",
       "      <td>2018-11-18</td>\n",
       "      <td>84</td>\n",
       "      <td>84096</td>\n",
       "      <td>83672</td>\n",
       "      <td>113</td>\n",
       "      <td>Twisties Chicken</td>\n",
       "      <td>2</td>\n",
       "      <td>9.2</td>\n",
       "      <td>270</td>\n",
       "      <td>Twisties</td>\n",
       "      <td>MIDAGE SINGLES/COUPLES</td>\n",
       "      <td>Budget</td>\n",
       "      <td>4.6</td>\n",
       "    </tr>\n",
       "    <tr>\n",
       "      <th>253</th>\n",
       "      <td>2019-05-20</td>\n",
       "      <td>88</td>\n",
       "      <td>88320</td>\n",
       "      <td>87811</td>\n",
       "      <td>113</td>\n",
       "      <td>Twisties Chicken</td>\n",
       "      <td>2</td>\n",
       "      <td>9.2</td>\n",
       "      <td>270</td>\n",
       "      <td>Twisties</td>\n",
       "      <td>MIDAGE SINGLES/COUPLES</td>\n",
       "      <td>Budget</td>\n",
       "      <td>4.6</td>\n",
       "    </tr>\n",
       "    <tr>\n",
       "      <th>278</th>\n",
       "      <td>2018-07-11</td>\n",
       "      <td>102</td>\n",
       "      <td>102115</td>\n",
       "      <td>102207</td>\n",
       "      <td>15</td>\n",
       "      <td>Twisties Cheese</td>\n",
       "      <td>2</td>\n",
       "      <td>9.2</td>\n",
       "      <td>270</td>\n",
       "      <td>Twisties</td>\n",
       "      <td>MIDAGE SINGLES/COUPLES</td>\n",
       "      <td>Budget</td>\n",
       "      <td>4.6</td>\n",
       "    </tr>\n",
       "    <tr>\n",
       "      <th>347</th>\n",
       "      <td>2019-04-05</td>\n",
       "      <td>118</td>\n",
       "      <td>118007</td>\n",
       "      <td>120735</td>\n",
       "      <td>113</td>\n",
       "      <td>Twisties Chicken</td>\n",
       "      <td>2</td>\n",
       "      <td>9.2</td>\n",
       "      <td>270</td>\n",
       "      <td>Twisties</td>\n",
       "      <td>MIDAGE SINGLES/COUPLES</td>\n",
       "      <td>Budget</td>\n",
       "      <td>4.6</td>\n",
       "    </tr>\n",
       "    <tr>\n",
       "      <th>350</th>\n",
       "      <td>2018-07-01</td>\n",
       "      <td>119</td>\n",
       "      <td>119051</td>\n",
       "      <td>122360</td>\n",
       "      <td>113</td>\n",
       "      <td>Twisties Chicken</td>\n",
       "      <td>2</td>\n",
       "      <td>9.2</td>\n",
       "      <td>270</td>\n",
       "      <td>Twisties</td>\n",
       "      <td>MIDAGE SINGLES/COUPLES</td>\n",
       "      <td>Budget</td>\n",
       "      <td>4.6</td>\n",
       "    </tr>\n",
       "  </tbody>\n",
       "</table>\n",
       "</div>"
      ],
      "text/plain": [
       "          DATE  STORE_NBR  LYLTY_CARD_NBR  TXN_ID  PROD_NBR  \\\n",
       "34  2019-05-18          9            9208    8634        15   \n",
       "79  2018-08-24         39           39167   35639       113   \n",
       "125 2019-05-06         54           54305   48304        15   \n",
       "132 2019-05-20         55           55073   48887       113   \n",
       "209 2019-01-01         80           80182   78980        15   \n",
       "252 2018-11-18         84           84096   83672       113   \n",
       "253 2019-05-20         88           88320   87811       113   \n",
       "278 2018-07-11        102          102115  102207        15   \n",
       "347 2019-04-05        118          118007  120735       113   \n",
       "350 2018-07-01        119          119051  122360       113   \n",
       "\n",
       "                 PROD_NAME  PROD_QTY  TOT_SALES  PACK_SIZE     BRAND  \\\n",
       "34   Twisties Cheese               2        9.2        270  Twisties   \n",
       "79       Twisties Chicken          2        9.2        270  Twisties   \n",
       "125  Twisties Cheese               2        9.2        270  Twisties   \n",
       "132      Twisties Chicken          1        4.6        270  Twisties   \n",
       "209  Twisties Cheese               2        9.2        270  Twisties   \n",
       "252      Twisties Chicken          2        9.2        270  Twisties   \n",
       "253      Twisties Chicken          2        9.2        270  Twisties   \n",
       "278  Twisties Cheese               2        9.2        270  Twisties   \n",
       "347      Twisties Chicken          2        9.2        270  Twisties   \n",
       "350      Twisties Chicken          2        9.2        270  Twisties   \n",
       "\n",
       "                  LIFESTAGE PREMIUM_CUSTOMER  PRICE  \n",
       "34   MIDAGE SINGLES/COUPLES           Budget    4.6  \n",
       "79   MIDAGE SINGLES/COUPLES           Budget    4.6  \n",
       "125  MIDAGE SINGLES/COUPLES           Budget    4.6  \n",
       "132  MIDAGE SINGLES/COUPLES           Budget    4.6  \n",
       "209  MIDAGE SINGLES/COUPLES           Budget    4.6  \n",
       "252  MIDAGE SINGLES/COUPLES           Budget    4.6  \n",
       "253  MIDAGE SINGLES/COUPLES           Budget    4.6  \n",
       "278  MIDAGE SINGLES/COUPLES           Budget    4.6  \n",
       "347  MIDAGE SINGLES/COUPLES           Budget    4.6  \n",
       "350  MIDAGE SINGLES/COUPLES           Budget    4.6  "
      ]
     },
     "execution_count": 197,
     "metadata": {},
     "output_type": "execute_result"
    }
   ],
   "source": [
    "# Which brand offers 270g pack size?\n",
    "\n",
    "combineData.loc[combineData['PACK_SIZE'] == 270, :].head(10)"
   ]
  },
  {
   "cell_type": "code",
   "execution_count": 198,
   "id": "0541930c-c639-4687-ba61-fdca8b5b57d2",
   "metadata": {},
   "outputs": [
    {
     "data": {
      "text/plain": [
       "array(['Twisties'], dtype=object)"
      ]
     },
     "execution_count": 198,
     "metadata": {},
     "output_type": "execute_result"
    }
   ],
   "source": [
    "# Is Twisties the only brand who sells 270g pack size?\n",
    "\n",
    "combineData.loc[combineData['PACK_SIZE'] == 270, 'BRAND'].unique()"
   ]
  },
  {
   "cell_type": "markdown",
   "id": "a21e8390-bfd7-464b-b382-4ff96a144ec3",
   "metadata": {},
   "source": [
    "Twisties is the only brand that offers 270g pack size."
   ]
  },
  {
   "cell_type": "markdown",
   "id": "19220f6a-ee7b-46cd-884f-c01787f0ad25",
   "metadata": {},
   "source": [
    "# Conclusion"
   ]
  },
  {
   "cell_type": "markdown",
   "id": "e3024ed7-d7bd-4439-8604-82c705ea99ff",
   "metadata": {},
   "source": [
    "# Conclusion\n",
    "\n",
    "- Sales are highest for (Budget, OLDER FAMILIES), (Mainstream, YOUNG SINGLES/COUPLES) and (Mainstream, RETIREES)\n",
    "- We found that (Mainstream, YOUNG SINGLES/COUPLES) and (Mainstream, RETIREES) are mainly due to the fact that there are more customers in these segments\n",
    "- (Mainstream, YOUNG SINGLES/COUPLES) are more likely to pay more per packet of chips than their premium and budget counterparts\n",
    "- They are also more likely to purchase 'Tyrrells' and '270g' pack sizes than the rest of the population"
   ]
  },
  {
   "cell_type": "markdown",
   "id": "f428fe20-3a16-4934-81f1-0c5666db7a2a",
   "metadata": {},
   "source": [
    "# Save"
   ]
  },
  {
   "cell_type": "code",
   "execution_count": 199,
   "id": "8f8cc54f-59f3-4aef-bba7-a53df454d881",
   "metadata": {},
   "outputs": [
    {
     "data": {
      "text/plain": [
       "(246740, 13)"
      ]
     },
     "execution_count": 199,
     "metadata": {},
     "output_type": "execute_result"
    }
   ],
   "source": [
    "combineData.shape"
   ]
  },
  {
   "cell_type": "code",
   "execution_count": 200,
   "id": "db9a117a-7303-42ad-80cc-0c772a177852",
   "metadata": {},
   "outputs": [],
   "source": [
    "combineData.to_pickle('/home/ayodeji/Downloads/Documents/QUANTIUM/combined_data.pkl')"
   ]
  },
  {
   "cell_type": "code",
   "execution_count": null,
   "id": "60176338-d4d6-48ff-a94b-a410923f098d",
   "metadata": {},
   "outputs": [],
   "source": []
  }
 ],
 "metadata": {
  "kernelspec": {
   "display_name": "Python 3 (ipykernel)",
   "language": "python",
   "name": "python3"
  },
  "language_info": {
   "codemirror_mode": {
    "name": "ipython",
    "version": 3
   },
   "file_extension": ".py",
   "mimetype": "text/x-python",
   "name": "python",
   "nbconvert_exporter": "python",
   "pygments_lexer": "ipython3",
   "version": "3.9.5"
  }
 },
 "nbformat": 4,
 "nbformat_minor": 5
}
