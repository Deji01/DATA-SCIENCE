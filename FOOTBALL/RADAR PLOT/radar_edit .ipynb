{
  "nbformat": 4,
  "nbformat_minor": 5,
  "metadata": {
    "kernelspec": {
      "display_name": "Python 3 (ipykernel)",
      "language": "python",
      "name": "python3"
    },
    "language_info": {
      "codemirror_mode": {
        "name": "ipython",
        "version": 3
      },
      "file_extension": ".py",
      "mimetype": "text/x-python",
      "name": "python",
      "nbconvert_exporter": "python",
      "pygments_lexer": "ipython3",
      "version": "3.9.5"
    },
    "colab": {
      "name": "radar_edit.ipynb",
      "provenance": [],
      "collapsed_sections": []
    }
  },
  "cells": [
    {
      "cell_type": "code",
      "metadata": {
        "colab": {
          "base_uri": "https://localhost:8080/"
        },
        "id": "KoqdpmzIYuPD",
        "outputId": "143c8088-a1cd-4dd3-d262-5909dfe6c1cd"
      },
      "source": [
        "pip install soccerplots"
      ],
      "id": "KoqdpmzIYuPD",
      "execution_count": 41,
      "outputs": [
        {
          "output_type": "stream",
          "text": [
            "Requirement already satisfied: soccerplots in /usr/local/lib/python3.7/dist-packages (1.0.0)\n",
            "Requirement already satisfied: matplotlib in /usr/local/lib/python3.7/dist-packages (from soccerplots) (3.2.2)\n",
            "Requirement already satisfied: numpy in /usr/local/lib/python3.7/dist-packages (from soccerplots) (1.19.5)\n",
            "Requirement already satisfied: pillow in /usr/local/lib/python3.7/dist-packages (from soccerplots) (7.1.2)\n",
            "Requirement already satisfied: pyparsing!=2.0.4,!=2.1.2,!=2.1.6,>=2.0.1 in /usr/local/lib/python3.7/dist-packages (from matplotlib->soccerplots) (2.4.7)\n",
            "Requirement already satisfied: kiwisolver>=1.0.1 in /usr/local/lib/python3.7/dist-packages (from matplotlib->soccerplots) (1.3.1)\n",
            "Requirement already satisfied: cycler>=0.10 in /usr/local/lib/python3.7/dist-packages (from matplotlib->soccerplots) (0.10.0)\n",
            "Requirement already satisfied: python-dateutil>=2.1 in /usr/local/lib/python3.7/dist-packages (from matplotlib->soccerplots) (2.8.1)\n",
            "Requirement already satisfied: six in /usr/local/lib/python3.7/dist-packages (from cycler>=0.10->matplotlib->soccerplots) (1.15.0)\n"
          ],
          "name": "stdout"
        }
      ]
    },
    {
      "cell_type": "markdown",
      "metadata": {
        "id": "LdbtOUP8RzCU"
      },
      "source": [
        "#**RADAR PLOT**"
      ],
      "id": "LdbtOUP8RzCU"
    },
    {
      "cell_type": "markdown",
      "metadata": {
        "id": "W23_yXQoRxtW"
      },
      "source": [
        "**Importing required libraries**"
      ],
      "id": "W23_yXQoRxtW"
    },
    {
      "cell_type": "code",
      "metadata": {
        "id": "57e62f39-9aa1-4fd4-af8c-60df6b4326e8"
      },
      "source": [
        "import pandas as pd\n",
        "import matplotlib.pyplot as plt\n",
        "from soccerplots.radar_chart import Radar "
      ],
      "id": "57e62f39-9aa1-4fd4-af8c-60df6b4326e8",
      "execution_count": 42,
      "outputs": []
    },
    {
      "cell_type": "markdown",
      "metadata": {
        "id": "AxDQXyt5Sxz4"
      },
      "source": [
        "**Reading in the data**"
      ],
      "id": "AxDQXyt5Sxz4"
    },
    {
      "cell_type": "code",
      "metadata": {
        "id": "8101e1c8-26e4-4220-9534-69043764c7a8"
      },
      "source": [
        "df = pd.read_csv('player_data.csv')"
      ],
      "id": "8101e1c8-26e4-4220-9534-69043764c7a8",
      "execution_count": 43,
      "outputs": []
    },
    {
      "cell_type": "code",
      "metadata": {
        "colab": {
          "base_uri": "https://localhost:8080/",
          "height": 306
        },
        "id": "6c174683-2ec5-4380-8a71-5703d85f9eb5",
        "outputId": "6e699682-cde3-4910-e63a-2ef1264934f7"
      },
      "source": [
        "df.head()"
      ],
      "id": "6c174683-2ec5-4380-8a71-5703d85f9eb5",
      "execution_count": 44,
      "outputs": [
        {
          "output_type": "execute_result",
          "data": {
            "text/html": [
              "<div>\n",
              "<style scoped>\n",
              "    .dataframe tbody tr th:only-of-type {\n",
              "        vertical-align: middle;\n",
              "    }\n",
              "\n",
              "    .dataframe tbody tr th {\n",
              "        vertical-align: top;\n",
              "    }\n",
              "\n",
              "    .dataframe thead th {\n",
              "        text-align: right;\n",
              "    }\n",
              "</style>\n",
              "<table border=\"1\" class=\"dataframe\">\n",
              "  <thead>\n",
              "    <tr style=\"text-align: right;\">\n",
              "      <th></th>\n",
              "      <th>Rk</th>\n",
              "      <th>Player</th>\n",
              "      <th>Nation</th>\n",
              "      <th>Pos</th>\n",
              "      <th>Squad</th>\n",
              "      <th>Age</th>\n",
              "      <th>Born</th>\n",
              "      <th>90s</th>\n",
              "      <th>Gls</th>\n",
              "      <th>Sh</th>\n",
              "      <th>SoT</th>\n",
              "      <th>SoT%</th>\n",
              "      <th>Sh/90</th>\n",
              "      <th>SoT/90</th>\n",
              "      <th>G/Sh</th>\n",
              "      <th>G/SoT</th>\n",
              "      <th>Dist</th>\n",
              "      <th>FK</th>\n",
              "      <th>PK</th>\n",
              "      <th>PKatt</th>\n",
              "      <th>xG</th>\n",
              "      <th>npxG</th>\n",
              "      <th>npxG/Sh</th>\n",
              "      <th>G-xG</th>\n",
              "      <th>np:G-xG</th>\n",
              "      <th>Matches</th>\n",
              "    </tr>\n",
              "  </thead>\n",
              "  <tbody>\n",
              "    <tr>\n",
              "      <th>0</th>\n",
              "      <td>1</td>\n",
              "      <td>Patrick van Aanholt\\Patrick-van-Aanholt</td>\n",
              "      <td>nl NED</td>\n",
              "      <td>DF</td>\n",
              "      <td>Crystal Palace</td>\n",
              "      <td>30-185</td>\n",
              "      <td>1990</td>\n",
              "      <td>13.7</td>\n",
              "      <td>0</td>\n",
              "      <td>15</td>\n",
              "      <td>5</td>\n",
              "      <td>33.3</td>\n",
              "      <td>1.09</td>\n",
              "      <td>0.36</td>\n",
              "      <td>0.00</td>\n",
              "      <td>0.00</td>\n",
              "      <td>20.6</td>\n",
              "      <td>3</td>\n",
              "      <td>0</td>\n",
              "      <td>0</td>\n",
              "      <td>0.8</td>\n",
              "      <td>0.8</td>\n",
              "      <td>0.05</td>\n",
              "      <td>-0.8</td>\n",
              "      <td>-0.8</td>\n",
              "      <td>Matches</td>\n",
              "    </tr>\n",
              "    <tr>\n",
              "      <th>1</th>\n",
              "      <td>2</td>\n",
              "      <td>Tammy Abraham\\Tammy-Abraham</td>\n",
              "      <td>eng ENG</td>\n",
              "      <td>FW</td>\n",
              "      <td>Chelsea</td>\n",
              "      <td>23-151</td>\n",
              "      <td>1997</td>\n",
              "      <td>11.3</td>\n",
              "      <td>6</td>\n",
              "      <td>31</td>\n",
              "      <td>13</td>\n",
              "      <td>41.9</td>\n",
              "      <td>2.73</td>\n",
              "      <td>1.15</td>\n",
              "      <td>0.19</td>\n",
              "      <td>0.46</td>\n",
              "      <td>9.9</td>\n",
              "      <td>0</td>\n",
              "      <td>0</td>\n",
              "      <td>0</td>\n",
              "      <td>5.6</td>\n",
              "      <td>5.6</td>\n",
              "      <td>0.18</td>\n",
              "      <td>0.4</td>\n",
              "      <td>0.4</td>\n",
              "      <td>Matches</td>\n",
              "    </tr>\n",
              "    <tr>\n",
              "      <th>2</th>\n",
              "      <td>3</td>\n",
              "      <td>Che Adams\\Che-Adams</td>\n",
              "      <td>eng ENG</td>\n",
              "      <td>FW</td>\n",
              "      <td>Southampton</td>\n",
              "      <td>24-232</td>\n",
              "      <td>1996</td>\n",
              "      <td>21.2</td>\n",
              "      <td>4</td>\n",
              "      <td>40</td>\n",
              "      <td>18</td>\n",
              "      <td>45.0</td>\n",
              "      <td>1.89</td>\n",
              "      <td>0.85</td>\n",
              "      <td>0.10</td>\n",
              "      <td>0.22</td>\n",
              "      <td>13.5</td>\n",
              "      <td>0</td>\n",
              "      <td>0</td>\n",
              "      <td>0</td>\n",
              "      <td>5.3</td>\n",
              "      <td>5.3</td>\n",
              "      <td>0.13</td>\n",
              "      <td>-1.3</td>\n",
              "      <td>-1.3</td>\n",
              "      <td>Matches</td>\n",
              "    </tr>\n",
              "    <tr>\n",
              "      <th>3</th>\n",
              "      <td>4</td>\n",
              "      <td>Tosin Adarabioyo\\Tosin-Adarabioyo</td>\n",
              "      <td>eng ENG</td>\n",
              "      <td>DF</td>\n",
              "      <td>Fulham</td>\n",
              "      <td>23-159</td>\n",
              "      <td>1997</td>\n",
              "      <td>22.0</td>\n",
              "      <td>0</td>\n",
              "      <td>17</td>\n",
              "      <td>4</td>\n",
              "      <td>23.5</td>\n",
              "      <td>0.77</td>\n",
              "      <td>0.18</td>\n",
              "      <td>0.00</td>\n",
              "      <td>0.00</td>\n",
              "      <td>9.0</td>\n",
              "      <td>0</td>\n",
              "      <td>0</td>\n",
              "      <td>0</td>\n",
              "      <td>0.9</td>\n",
              "      <td>0.9</td>\n",
              "      <td>0.06</td>\n",
              "      <td>-0.9</td>\n",
              "      <td>-0.9</td>\n",
              "      <td>Matches</td>\n",
              "    </tr>\n",
              "    <tr>\n",
              "      <th>4</th>\n",
              "      <td>5</td>\n",
              "      <td>Adrián\\Adrian</td>\n",
              "      <td>es ESP</td>\n",
              "      <td>GK</td>\n",
              "      <td>Liverpool</td>\n",
              "      <td>34-058</td>\n",
              "      <td>1987</td>\n",
              "      <td>3.0</td>\n",
              "      <td>0</td>\n",
              "      <td>0</td>\n",
              "      <td>0</td>\n",
              "      <td>NaN</td>\n",
              "      <td>0.00</td>\n",
              "      <td>0.00</td>\n",
              "      <td>NaN</td>\n",
              "      <td>NaN</td>\n",
              "      <td>NaN</td>\n",
              "      <td>0</td>\n",
              "      <td>0</td>\n",
              "      <td>0</td>\n",
              "      <td>0.0</td>\n",
              "      <td>0.0</td>\n",
              "      <td>NaN</td>\n",
              "      <td>0.0</td>\n",
              "      <td>0.0</td>\n",
              "      <td>Matches</td>\n",
              "    </tr>\n",
              "  </tbody>\n",
              "</table>\n",
              "</div>"
            ],
            "text/plain": [
              "   Rk                                   Player   Nation  ... G-xG np:G-xG  Matches\n",
              "0   1  Patrick van Aanholt\\Patrick-van-Aanholt   nl NED  ... -0.8    -0.8  Matches\n",
              "1   2              Tammy Abraham\\Tammy-Abraham  eng ENG  ...  0.4     0.4  Matches\n",
              "2   3                      Che Adams\\Che-Adams  eng ENG  ... -1.3    -1.3  Matches\n",
              "3   4        Tosin Adarabioyo\\Tosin-Adarabioyo  eng ENG  ... -0.9    -0.9  Matches\n",
              "4   5                            Adrián\\Adrian   es ESP  ...  0.0     0.0  Matches\n",
              "\n",
              "[5 rows x 26 columns]"
            ]
          },
          "metadata": {
            "tags": []
          },
          "execution_count": 44
        }
      ]
    },
    {
      "cell_type": "markdown",
      "metadata": {
        "id": "DxQJ7BYMUKDu"
      },
      "source": [
        "**Sorting players names**"
      ],
      "id": "DxQJ7BYMUKDu"
    },
    {
      "cell_type": "code",
      "metadata": {
        "id": "a57c1527-bd33-4e23-b93d-7e4dba7912c6"
      },
      "source": [
        "df['Player'] = df['Player'].str.split('\\\\', expand=True)[0]"
      ],
      "id": "a57c1527-bd33-4e23-b93d-7e4dba7912c6",
      "execution_count": 45,
      "outputs": []
    },
    {
      "cell_type": "markdown",
      "metadata": {
        "id": "8YkQudu_V6rm"
      },
      "source": [
        "**Player variable**"
      ],
      "id": "8YkQudu_V6rm"
    },
    {
      "cell_type": "code",
      "metadata": {
        "id": "i8dAchZsV6RW"
      },
      "source": [
        "player1='Harry Kane'\n",
        "player2='Mohamed Salah'"
      ],
      "id": "i8dAchZsV6RW",
      "execution_count": 46,
      "outputs": []
    },
    {
      "cell_type": "markdown",
      "metadata": {
        "id": "fQK-ZqS-UpOe"
      },
      "source": [
        "**Creating player dataframe**"
      ],
      "id": "fQK-ZqS-UpOe"
    },
    {
      "cell_type": "code",
      "metadata": {
        "id": "8cRaIBNSUf5J"
      },
      "source": [
        "df = df[(df['Player']== player1) | (df['Player']== player2)].reset_index()"
      ],
      "id": "8cRaIBNSUf5J",
      "execution_count": 47,
      "outputs": []
    },
    {
      "cell_type": "markdown",
      "metadata": {
        "id": "gdMzYejKdUdP"
      },
      "source": [
        "**Creating squad dataframe**"
      ],
      "id": "gdMzYejKdUdP"
    },
    {
      "cell_type": "code",
      "metadata": {
        "colab": {
          "base_uri": "https://localhost:8080/",
          "height": 111
        },
        "id": "Wg3jxCyJdT-t",
        "outputId": "e54f4524-eafc-4002-f5ce-ec7d40c70e6a"
      },
      "source": [
        "df_squad = df.drop(['Gls','Sh', 'SoT', 'SoT%', 'Sh/90', 'SoT/90', 'G/Sh', 'G/SoT', 'Dist', 'xG', 'npxG', 'npxG/Sh', 'G-xG', 'np:G-xG'], axis = 1)\n",
        "df_squad.reset_index()\n",
        "df_squad.head()"
      ],
      "id": "Wg3jxCyJdT-t",
      "execution_count": 48,
      "outputs": [
        {
          "output_type": "execute_result",
          "data": {
            "text/html": [
              "<div>\n",
              "<style scoped>\n",
              "    .dataframe tbody tr th:only-of-type {\n",
              "        vertical-align: middle;\n",
              "    }\n",
              "\n",
              "    .dataframe tbody tr th {\n",
              "        vertical-align: top;\n",
              "    }\n",
              "\n",
              "    .dataframe thead th {\n",
              "        text-align: right;\n",
              "    }\n",
              "</style>\n",
              "<table border=\"1\" class=\"dataframe\">\n",
              "  <thead>\n",
              "    <tr style=\"text-align: right;\">\n",
              "      <th></th>\n",
              "      <th>index</th>\n",
              "      <th>Rk</th>\n",
              "      <th>Player</th>\n",
              "      <th>Nation</th>\n",
              "      <th>Pos</th>\n",
              "      <th>Squad</th>\n",
              "      <th>Age</th>\n",
              "      <th>Born</th>\n",
              "      <th>90s</th>\n",
              "      <th>FK</th>\n",
              "      <th>PK</th>\n",
              "      <th>PKatt</th>\n",
              "      <th>Matches</th>\n",
              "    </tr>\n",
              "  </thead>\n",
              "  <tbody>\n",
              "    <tr>\n",
              "      <th>0</th>\n",
              "      <td>221</td>\n",
              "      <td>222</td>\n",
              "      <td>Harry Kane</td>\n",
              "      <td>eng ENG</td>\n",
              "      <td>FW</td>\n",
              "      <td>Tottenham</td>\n",
              "      <td>27-217</td>\n",
              "      <td>1993</td>\n",
              "      <td>22.4</td>\n",
              "      <td>7</td>\n",
              "      <td>3</td>\n",
              "      <td>3</td>\n",
              "      <td>Matches</td>\n",
              "    </tr>\n",
              "    <tr>\n",
              "      <th>1</th>\n",
              "      <td>398</td>\n",
              "      <td>399</td>\n",
              "      <td>Mohamed Salah</td>\n",
              "      <td>eg EGY</td>\n",
              "      <td>FW</td>\n",
              "      <td>Liverpool</td>\n",
              "      <td>28-260</td>\n",
              "      <td>1992</td>\n",
              "      <td>23.4</td>\n",
              "      <td>1</td>\n",
              "      <td>6</td>\n",
              "      <td>6</td>\n",
              "      <td>Matches</td>\n",
              "    </tr>\n",
              "  </tbody>\n",
              "</table>\n",
              "</div>"
            ],
            "text/plain": [
              "   index   Rk         Player   Nation Pos  ...   90s FK  PK  PKatt  Matches\n",
              "0    221  222     Harry Kane  eng ENG  FW  ...  22.4  7   3      3  Matches\n",
              "1    398  399  Mohamed Salah   eg EGY  FW  ...  23.4  1   6      6  Matches\n",
              "\n",
              "[2 rows x 13 columns]"
            ]
          },
          "metadata": {
            "tags": []
          },
          "execution_count": 48
        }
      ]
    },
    {
      "cell_type": "code",
      "metadata": {
        "id": "LAp2JPCAVstM"
      },
      "source": [
        "df = df.drop(['index','Rk', 'Nation','Pos','Age', 'Squad', 'Born','90s','PK', 'FK', 'PKatt', 'Matches'], axis=1)"
      ],
      "id": "LAp2JPCAVstM",
      "execution_count": 49,
      "outputs": []
    },
    {
      "cell_type": "code",
      "metadata": {
        "colab": {
          "base_uri": "https://localhost:8080/"
        },
        "id": "46735221-9be5-4fb7-90fb-48a2f02db68f",
        "outputId": "3a40a1fc-a868-4ed9-d97e-f9788ed39003"
      },
      "source": [
        "df.columns"
      ],
      "id": "46735221-9be5-4fb7-90fb-48a2f02db68f",
      "execution_count": 50,
      "outputs": [
        {
          "output_type": "execute_result",
          "data": {
            "text/plain": [
              "Index(['Player', 'Gls', 'Sh', 'SoT', 'SoT%', 'Sh/90', 'SoT/90', 'G/Sh',\n",
              "       'G/SoT', 'Dist', 'xG', 'npxG', 'npxG/Sh', 'G-xG', 'np:G-xG'],\n",
              "      dtype='object')"
            ]
          },
          "metadata": {
            "tags": []
          },
          "execution_count": 50
        }
      ]
    },
    {
      "cell_type": "markdown",
      "metadata": {
        "id": "pz7jsLL3WQ4L"
      },
      "source": [
        "**Squad variable**"
      ],
      "id": "pz7jsLL3WQ4L"
    },
    {
      "cell_type": "code",
      "metadata": {
        "colab": {
          "base_uri": "https://localhost:8080/",
          "height": 35
        },
        "id": "1afe2bf0-0359-41f4-997f-9f1ea7b2054d",
        "outputId": "121656b6-abe2-4a4b-8d3e-3dfeafa26d80"
      },
      "source": [
        "squad1 = df_squad['Squad'][0]\n",
        "squad1"
      ],
      "id": "1afe2bf0-0359-41f4-997f-9f1ea7b2054d",
      "execution_count": 51,
      "outputs": [
        {
          "output_type": "execute_result",
          "data": {
            "application/vnd.google.colaboratory.intrinsic+json": {
              "type": "string"
            },
            "text/plain": [
              "'Tottenham'"
            ]
          },
          "metadata": {
            "tags": []
          },
          "execution_count": 51
        }
      ]
    },
    {
      "cell_type": "code",
      "metadata": {
        "colab": {
          "base_uri": "https://localhost:8080/",
          "height": 35
        },
        "id": "b0fe228e-fc5d-406d-baa5-5ae87ea57896",
        "outputId": "139b9789-b8f8-45ec-92a7-754cb4b206eb"
      },
      "source": [
        "squad2 = df_squad['Squad'][1]\n",
        "squad2"
      ],
      "id": "b0fe228e-fc5d-406d-baa5-5ae87ea57896",
      "execution_count": 52,
      "outputs": [
        {
          "output_type": "execute_result",
          "data": {
            "application/vnd.google.colaboratory.intrinsic+json": {
              "type": "string"
            },
            "text/plain": [
              "'Liverpool'"
            ]
          },
          "metadata": {
            "tags": []
          },
          "execution_count": 52
        }
      ]
    },
    {
      "cell_type": "markdown",
      "metadata": {
        "id": "QNNvsUAYWilU"
      },
      "source": [
        "**Get parameters**"
      ],
      "id": "QNNvsUAYWilU"
    },
    {
      "cell_type": "code",
      "metadata": {
        "colab": {
          "base_uri": "https://localhost:8080/"
        },
        "id": "21e6ebb5-9284-4b77-9a82-71469d7db22a",
        "outputId": "a6f9e616-afc6-4984-c4de-cceb8723c535"
      },
      "source": [
        "params = list(df.columns)\n",
        "\n",
        "params = params[1:]\n",
        "params\n",
        "\n",
        "    "
      ],
      "id": "21e6ebb5-9284-4b77-9a82-71469d7db22a",
      "execution_count": 53,
      "outputs": [
        {
          "output_type": "execute_result",
          "data": {
            "text/plain": [
              "['Gls',\n",
              " 'Sh',\n",
              " 'SoT',\n",
              " 'SoT%',\n",
              " 'Sh/90',\n",
              " 'SoT/90',\n",
              " 'G/Sh',\n",
              " 'G/SoT',\n",
              " 'Dist',\n",
              " 'xG',\n",
              " 'npxG',\n",
              " 'npxG/Sh',\n",
              " 'G-xG',\n",
              " 'np:G-xG']"
            ]
          },
          "metadata": {
            "tags": []
          },
          "execution_count": 53
        }
      ]
    },
    {
      "cell_type": "markdown",
      "metadata": {
        "id": "K2Sd3xH5Wvol"
      },
      "source": [
        "**Add ranges to list of tuple pairs**"
      ],
      "id": "K2Sd3xH5Wvol"
    },
    {
      "cell_type": "code",
      "metadata": {
        "id": "X5Tsdd84WrEU"
      },
      "source": [
        " \n",
        "ranges = []\n",
        "a_values = []\n",
        "b_values = []"
      ],
      "id": "X5Tsdd84WrEU",
      "execution_count": 54,
      "outputs": []
    },
    {
      "cell_type": "code",
      "metadata": {
        "id": "a405df44-5c99-440a-ae84-97ef95fe6ab0"
      },
      "source": [
        "for x in params:\n",
        "        a = min(df[params][x])\n",
        "        a = a - (a * 0.25)\n",
        "        b = max(df[params][x])\n",
        "        b = b + (b * 0.25)\n",
        "\n",
        "        ranges.append((a,b))\n",
        "\n",
        "for x in range(len(df['Player'])):\n",
        "    if df['Player'][x] == player1:\n",
        "        a_values = df.iloc[x].values.tolist()\n",
        "    if df['Player'][x] == player2:\n",
        "        b_values = df.iloc[x].values.tolist()\n",
        "\n",
        "\n",
        "a_values = a_values[1:]\n",
        "b_values = b_values[1:]\n",
        "\n",
        "values  = [a_values, b_values]\n",
        "\n"
      ],
      "id": "a405df44-5c99-440a-ae84-97ef95fe6ab0",
      "execution_count": 55,
      "outputs": []
    },
    {
      "cell_type": "markdown",
      "metadata": {
        "id": "UCOREXIaXEnL"
      },
      "source": [
        "**Title**"
      ],
      "id": "UCOREXIaXEnL"
    },
    {
      "cell_type": "code",
      "metadata": {
        "id": "2b1af304-b452-4e2d-ad95-2301a96b2ad3"
      },
      "source": [
        "title = dict(\n",
        "    title_name =player1,\n",
        "    title_color = 'red',\n",
        "    subtitle_name = squad1,\n",
        "    subtitle_color = 'red',\n",
        "    title_name_2 =player2,\n",
        "    title_color_2 = 'blue',\n",
        "    subtitle_name_2 = squad2,\n",
        "    subtitle_color_2 = 'blue',\n",
        "    title_fontsize = 18,\n",
        "    subtitle_fontsize = 15\n",
        ")\n",
        "\n",
        "\n",
        "\n",
        "\n",
        "\n"
      ],
      "id": "2b1af304-b452-4e2d-ad95-2301a96b2ad3",
      "execution_count": 56,
      "outputs": []
    },
    {
      "cell_type": "markdown",
      "metadata": {
        "id": "6zHD3I-xXRN0"
      },
      "source": [
        "**End note**"
      ],
      "id": "6zHD3I-xXRN0"
    },
    {
      "cell_type": "code",
      "metadata": {
        "id": "55092e16-30ef-4321-b4e1-d6837f0173a5"
      },
      "source": [
        "endnote = 'Deji Yekeen \\ndata via FBREF /   Statsbomb'"
      ],
      "id": "55092e16-30ef-4321-b4e1-d6837f0173a5",
      "execution_count": 57,
      "outputs": []
    },
    {
      "cell_type": "markdown",
      "metadata": {
        "id": "g_ynTo5WXVBb"
      },
      "source": [
        "**Radar**"
      ],
      "id": "g_ynTo5WXVBb"
    },
    {
      "cell_type": "code",
      "metadata": {
        "id": "06d233ef-7a9e-4a5f-b85c-9deb0fe13f52"
      },
      "source": [
        "radar = Radar()"
      ],
      "id": "06d233ef-7a9e-4a5f-b85c-9deb0fe13f52",
      "execution_count": 58,
      "outputs": []
    },
    {
      "cell_type": "markdown",
      "metadata": {
        "id": "rAo25LUrXXq6"
      },
      "source": [
        "**Radar plot**"
      ],
      "id": "rAo25LUrXXq6"
    },
    {
      "cell_type": "code",
      "metadata": {
        "colab": {
          "base_uri": "https://localhost:8080/",
          "height": 584
        },
        "id": "f05bae42-8579-41fd-8c75-a58a34fe115e",
        "outputId": "a18f4b2e-f189-46bc-dfa0-40aaf21f80bb"
      },
      "source": [
        "fig, ax = radar.plot_radar(ranges=ranges, params=params,values=values,\n",
        "                            radar_color=['red','blue'],\n",
        "                            alphas=[.75, .6],\n",
        "                                title=title,\n",
        "                                endnote=endnote,\n",
        "                                compare=True)"
      ],
      "id": "f05bae42-8579-41fd-8c75-a58a34fe115e",
      "execution_count": 59,
      "outputs": [
        {
          "output_type": "display_data",
          "data": {
            "image/png": "[encoded data removed]",
            "text/plain": [
              "<Figure size 1440x720 with 1 Axes>"
            ]
          },
          "metadata": {
            "tags": []
          }
        }
      ]
    }
  ]
}